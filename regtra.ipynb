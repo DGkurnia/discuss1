{
  "nbformat": 4,
  "nbformat_minor": 0,
  "metadata": {
    "colab": {
      "provenance": [],
      "mount_file_id": "1nMV364b2TkNnJLhEuXdAPbGbSsjo-8z-",
      "authorship_tag": "ABX9TyNP87SWZdw6/fQy5rnyr/Xm",
      "include_colab_link": true
    },
    "kernelspec": {
      "name": "python3",
      "display_name": "Python 3"
    },
    "language_info": {
      "name": "python"
    }
  },
  "cells": [
    {
      "cell_type": "markdown",
      "metadata": {
        "id": "view-in-github",
        "colab_type": "text"
      },
      "source": [
        "<a href=\"https://colab.research.google.com/github/DGkurnia/discuss1/blob/main/regtra.ipynb\" target=\"_parent\"><img src=\"https://colab.research.google.com/assets/colab-badge.svg\" alt=\"Open In Colab\"/></a>"
      ]
    },
    {
      "cell_type": "code",
      "execution_count": null,
      "metadata": {
        "id": "LywEd19I0PCN"
      },
      "outputs": [],
      "source": [
        "#Python Libary Insertion\n",
        "import numpy as np\n",
        "import matplotlib.pyplot as plt\n",
        "from sklearn.linear_model import LinearRegression\n",
        "#dataset preparation\n",
        "#buat data jumlah kamar\n",
        "bedrooms = np.array([1,1,2,2,3,4,4,5,5,5])\n",
        "#House Price in Dollar\n",
        "house_price = np.array([15000, 18000, 27000, 34000, 50000, 68000, 65000, 81000,85000, 90000])\n",
        "#regression line\n",
        "%matplotlib inline\n",
        "plt.scatter(bedrooms, house_price)"
      ]
    },
    {
      "cell_type": "code",
      "source": [
        "#model training\n",
        "bedrooms = bedrooms.reshape(-1, 1)\n",
        "linreg = LinearRegression()\n",
        "linreg.fit(bedrooms, house_price)\n",
        "#linear incorporation\n",
        "plt.scatter(bedrooms, house_price)\n",
        "plt.plot(bedrooms, linreg.predict(bedrooms))"
      ],
      "metadata": {
        "id": "hzgg8D1T1JAZ"
      },
      "execution_count": null,
      "outputs": []
    },
    {
      "cell_type": "markdown",
      "source": [
        "Unsupervised learning\n",
        "(K-means clustering)"
      ],
      "metadata": {
        "id": "YA1d0-pCV1xu"
      }
    },
    {
      "cell_type": "code",
      "source": [
        "#libary preparation\n",
        "import pandas as pd\n",
        "from sklearn.cluster import KMeans #K-means\n",
        "import matplotlib.pyplot as plt\n",
        "%matplotlib inline\n",
        "import seaborn as sns\n",
        "#file upload\n",
        "from google.colab import drive\n",
        "drive.mount('/content/drive')\n",
        "#csv update\n",
        "df = pd.read_csv(\"/content/mall.csv\")\n",
        "#df.head(10)"
      ],
      "metadata": {
        "id": "JmzQOkBeV32Y"
      },
      "execution_count": null,
      "outputs": []
    },
    {
      "cell_type": "markdown",
      "source": [
        "preproccessing"
      ],
      "metadata": {
        "id": "smaROU7CXtwr"
      }
    },
    {
      "cell_type": "code",
      "source": [
        "#first step\n"
      ],
      "metadata": {
        "id": "GCDGOTs3Xyst"
      },
      "execution_count": null,
      "outputs": []
    }
  ]
}