{
  "nbformat": 4,
  "nbformat_minor": 0,
  "metadata": {
    "colab": {
      "provenance": [],
      "mount_file_id": "1kliHCGrFcRh_HnTkf31MidPRNf4Utj9n",
      "authorship_tag": "ABX9TyNWx3k4C43JepnsXdzGbvMG",
      "include_colab_link": true
    },
    "kernelspec": {
      "name": "python3",
      "display_name": "Python 3"
    },
    "language_info": {
      "name": "python"
    }
  },
  "cells": [
    {
      "cell_type": "markdown",
      "metadata": {
        "id": "view-in-github",
        "colab_type": "text"
      },
      "source": [
        "<a href=\"https://colab.research.google.com/github/DGkurnia/discuss1/blob/main/latihanml.ipynb\" target=\"_parent\"><img src=\"https://colab.research.google.com/assets/colab-badge.svg\" alt=\"Open In Colab\"/></a>"
      ]
    },
    {
      "cell_type": "code",
      "execution_count": null,
      "metadata": {
        "id": "2LbiYWsu6FOX"
      },
      "outputs": [],
      "source": [
        "#pemasukan perpustakan\n",
        "import pandas as pd\n",
        "from sklearn.datasets import load_iris\n",
        "from sklearn.tree import DecisionTreeClassifier\n",
        "from sklearn.model_selection import train_test_split\n",
        "from sklearn.metrics import accuracy_score\n",
        "from sklearn.tree import export_graphviz\n",
        "#pemasukan data\n",
        "iris = pd.read_csv('Iris.csv')\n",
        "\"\"\"\n",
        "#memeriksa data\n",
        "iris.info()\n",
        "iris.head(10)\n",
        "\"\"\"\n",
        "#hapus data tidak penting\n",
        "iris.drop('Id',axis=1,inplace=True)\n",
        "#pemisahan dataset\n",
        "X = iris[['SepalLengthCm', 'SepalWidthCm', 'PetalLengthCm', 'PetalWidthCm' ]]\n",
        "y = iris['Species']"
      ]
    },
    {
      "cell_type": "markdown",
      "source": [
        "Langkah awal"
      ],
      "metadata": {
        "id": "XMjznm7I8ukb"
      }
    },
    {
      "cell_type": "code",
      "source": [
        "#pembagian menjadi latihan dan tes\n",
        "X_train, X_test, y_train, y_test = train_test_split(X, y, test_size=0.1, random_state=123)\n",
        "# membuat model Decision Tree\n",
        "tree_model = DecisionTreeClassifier()\n",
        "# Melatih model dengan menggunakan data latih\n",
        "tree_model = tree_model.fit(X_train, y_train)\n",
        "#evaluasi\n",
        "y_pred = tree_model.predict(X_test)\n",
        "\n",
        "acc_secore = round(accuracy_score(y_pred, y_test), 3)\n",
        "\n",
        "print('Accuracy: ', acc_secore)"
      ],
      "metadata": {
        "colab": {
          "base_uri": "https://localhost:8080/"
        },
        "id": "bEmrt1V_8wo-",
        "outputId": "a7b74b42-7cde-4c99-d3a9-fd1b7e692e0f"
      },
      "execution_count": null,
      "outputs": [
        {
          "output_type": "stream",
          "name": "stdout",
          "text": [
            "Accuracy:  0.933\n"
          ]
        }
      ]
    },
    {
      "cell_type": "markdown",
      "source": [
        "Penentuan akurasi"
      ],
      "metadata": {
        "id": "2NkhSX_H-IDD"
      }
    },
    {
      "cell_type": "code",
      "source": [
        "#aplikasi prediksi\n",
        "# prediksi model dengan tree_model.predict([[SepalLength, SepalWidth, PetalLength, PetalWidth]])\n",
        "print(tree_model.predict([[6.2, 3.4, 5.4, 2.3]])[0])\n",
        "#hasil grafik visual\n",
        "export_graphviz(\n",
        "    tree_model,\n",
        "    out_file = \"iris_tree.dot\",\n",
        "    feature_names = ['SepalLengthCm', 'SepalWidthCm', 'PetalLengthCm', 'PetalWidthCm'],\n",
        "    class_names = ['Iris-setosa', 'Iris-versicolor', 'Iris-virginica' ],\n",
        "    rounded= True,\n",
        "    filled =True)"
      ],
      "metadata": {
        "colab": {
          "base_uri": "https://localhost:8080/"
        },
        "id": "ertM4AdX-Jm8",
        "outputId": "26873902-dab9-4426-d523-2004d2382fa3"
      },
      "execution_count": null,
      "outputs": [
        {
          "output_type": "stream",
          "name": "stdout",
          "text": [
            "Iris-virginica\n"
          ]
        },
        {
          "output_type": "stream",
          "name": "stderr",
          "text": [
            "/usr/local/lib/python3.10/dist-packages/sklearn/base.py:465: UserWarning: X does not have valid feature names, but DecisionTreeClassifier was fitted with feature names\n",
            "  warnings.warn(\n"
          ]
        }
      ]
    },
    {
      "cell_type": "markdown",
      "source": [
        "Part 2 (logistic)"
      ],
      "metadata": {
        "id": "RbUnbP8-RGcX"
      }
    },
    {
      "cell_type": "code",
      "source": [
        "#importing libary\n",
        "import pandas as pd\n",
        "from sklearn.preprocessing import StandardScaler\n",
        "from sklearn.model_selection import train_test_split\n",
        "from sklearn import linear_model\n",
        "from google.colab import drive\n",
        "drive.mount('/content/drive')\n",
        "\n",
        "#libary import\n",
        "df = pd.read_csv(\"/content/drive/MyDrive/csv-files/sosmedads.csv\")\n",
        "#df.head(8)\n",
        "#drop unnneccesary colum\n",
        "data = df.drop(columns=['User ID'])\n",
        "#preparing dummy data\n",
        "data = pd.get_dummies(data, dtype=\"int\")\n",
        "data"
      ],
      "metadata": {
        "id": "A9dOXskqRHlO"
      },
      "execution_count": null,
      "outputs": []
    },
    {
      "cell_type": "markdown",
      "source": [
        "continuation"
      ],
      "metadata": {
        "id": "zTa-n3ifU7up"
      }
    },
    {
      "cell_type": "code",
      "source": [
        "#label seperation\n",
        "predictions = ['Age' , 'EstimatedSalary' , 'Gender_Female' , 'Gender_Male']\n",
        "X = data[predictions]\n",
        "y = data['Purchased']\n",
        "#normalization\n",
        "scaler = StandardScaler()\n",
        "scaler.fit(X)\n",
        "scaled_data = scaler.transform(X)\n",
        "scaled_data = pd.DataFrame(scaled_data, columns= X.columns)\n",
        "scaled_data.head(10)\n",
        "#preparing linear model\n",
        "model = linear_model.LogisticRegression()\n",
        "#prepating training set\n",
        "X_train, X_test, y_train, y_test = train_test_split(scaled_data, y, test_size=0.2, random_state=1)\n",
        "#model fitting\n",
        "model.fit(X_train, y_train)\n",
        "#model acuracy\n",
        "model.score(X_test, y_test)"
      ],
      "metadata": {
        "colab": {
          "base_uri": "https://localhost:8080/"
        },
        "id": "UhyzCS2GU8wC",
        "outputId": "782cbd05-f4ec-49ea-a5b5-66f6cebccb72"
      },
      "execution_count": null,
      "outputs": [
        {
          "output_type": "execute_result",
          "data": {
            "text/plain": [
              "0.825"
            ]
          },
          "metadata": {},
          "execution_count": 9
        }
      ]
    },
    {
      "cell_type": "markdown",
      "source": [
        "Pelatihan SKLearn"
      ],
      "metadata": {
        "id": "vDcobUYCJbBx"
      }
    },
    {
      "cell_type": "code",
      "source": [
        "#tahap awal\n"
      ],
      "metadata": {
        "id": "MlQ0DlbxJd09"
      },
      "execution_count": null,
      "outputs": []
    }
  ]
}