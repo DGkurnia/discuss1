{
  "cells": [
    {
      "cell_type": "markdown",
      "metadata": {
        "id": "view-in-github",
        "colab_type": "text"
      },
      "source": [
        "<a href=\"https://colab.research.google.com/github/DGkurnia/discuss1/blob/main/airquality.ipynb\" target=\"_parent\"><img src=\"https://colab.research.google.com/assets/colab-badge.svg\" alt=\"Open In Colab\"/></a>"
      ]
    },
    {
      "cell_type": "markdown",
      "metadata": {
        "id": "H9wADwK78DCz"
      },
      "source": [
        "# Proyek Analisis Data: [Input Nama Dataset]\n",
        "- **Nama:** [Derfansyah Guswiranata Kurnia]\n",
        "- **Email:** [weerakurnia@gmail.com]\n",
        "- **ID Dicoding:** [dgkurnia]"
      ]
    },
    {
      "cell_type": "markdown",
      "metadata": {
        "id": "eE0raob58DC0"
      },
      "source": [
        "## Menentukan Pertanyaan Bisnis"
      ]
    },
    {
      "cell_type": "markdown",
      "metadata": {
        "id": "GmQeQ5YF8DC0"
      },
      "source": [
        "- Pertanyaan 1 : Bagaimana kondisi suhu di dua belas kota dari tahun 2013 samapai 2017 ?\n",
        "- Pertanyaan 2 : Bagaimana pemeriksaan ukuran partikuler (untuk PM 2.5 dan PM 10) di dua belas kota dari tahun 2013 sampai 2017 ?.\n",
        "- Pertanyaan 3 : Bagaimana pemeriksaan kadar sulfur dioksida (SO2), kadar nitrogen monoksida (NO) dan karbon monoksida (CO) di dua belas kota dari tahun 2013 sampai 2017 ?.\n",
        "- Pertanyaan 4 : Bagaimana pemeriksaan kondisi gas ozone (O3) dari tahun 2013 sampai 2017 ?."
      ]
    },
    {
      "cell_type": "markdown",
      "metadata": {
        "id": "H-z4QGlO8DC1"
      },
      "source": [
        "## Impor Semua Paket/Library yang Digunakan\n",
        "Kumpulan perpustakaan Python yang dipakai untuk proyek:\n"
      ]
    },
    {
      "cell_type": "code",
      "source": [
        "from google.colab import drive\n",
        "drive.mount('/content/drive') #dasar instalasi file dari Google Drive"
      ],
      "metadata": {
        "id": "iF46fY_-9rex",
        "colab": {
          "base_uri": "https://localhost:8080/"
        },
        "outputId": "3130f131-9268-4994-9637-936bad879948"
      },
      "execution_count": 1,
      "outputs": [
        {
          "output_type": "stream",
          "name": "stdout",
          "text": [
            "Mounted at /content/drive\n"
          ]
        }
      ]
    },
    {
      "cell_type": "code",
      "execution_count": 2,
      "metadata": {
        "id": "FVYwaObI8DC1"
      },
      "outputs": [],
      "source": [
        "#persiapan perpustakaan dan file untuk pembersihan\n",
        "import numpy as np\n",
        "import pandas as pd #dasar pengelolaan data\n",
        "import matplotlib.pyplot as plt\n",
        "import seaborn as sns\n",
        "import warnings\n",
        "warnings.filterwarnings('ignore')\n",
        "from datetime import datetime # dasar pengelolaan data berbasis waktu\n",
        "from scipy.interpolate import interp1d #interpolasi linear\n",
        "from scipy.stats import skew #pemeriksaan kecendrungan dari histogram\n",
        "import plotly.express as px #kecendrungan dari plot kotak"
      ]
    },
    {
      "cell_type": "markdown",
      "metadata": {
        "id": "h_Sh51Xy8DC1"
      },
      "source": [
        "## Tahap 'Data Wrangling'\n",
        "Pada tahap ini, jumlah dataframe yang akan dianalisis adalah 12 unit"
      ]
    },
    {
      "cell_type": "code",
      "source": [
        "\n",
        "#persiapan insersi data\n",
        "dfaotizhongxin = pd.read_csv('/content/drive/MyDrive/csv-files/aqins/aotizhongxin.csv')\n",
        "dfchangping = pd.read_csv('/content/drive/MyDrive/csv-files/aqins/changping.csv')\n",
        "dfdingling = pd.read_csv('/content/drive/MyDrive/csv-files/aqins/dingling.csv')\n",
        "dfdongsi = pd.read_csv('/content/drive/MyDrive/csv-files/aqins/dongsi.csv')\n",
        "dfguanyuan = pd.read_csv('/content/drive/MyDrive/csv-files/aqins/guanyuan.csv')\n",
        "dfgucheng = pd.read_csv('/content/drive/MyDrive/csv-files/aqins/gucheng.csv')\n",
        "dfhuairou = pd.read_csv('/content/drive/MyDrive/csv-files/aqins/huairo.csv')\n",
        "dfnonzhanguan = pd.read_csv('/content/drive/MyDrive/csv-files/aqins/nonzhanguan.csv')\n",
        "dfshunyi = pd.read_csv('/content/drive/MyDrive/csv-files/aqins/shunyi.csv')\n",
        "dftiantan = pd.read_csv('/content/drive/MyDrive/csv-files/aqins/tiantan.csv')\n",
        "dfwanliu = pd.read_csv('/content/drive/MyDrive/csv-files/aqins/wanliu.csv')\n",
        "dfwanshouxigong = pd.read_csv('/content/drive/MyDrive/csv-files/aqins/wanshouxigong.csv')\n",
        "\"\"\"\n",
        "Kota awal adalah Aotizhungxin dan kota akhir adalah Wanshouxigong\n",
        "\"\"\""
      ],
      "metadata": {
        "id": "yMQnk69f9BNg",
        "colab": {
          "base_uri": "https://localhost:8080/",
          "height": 35
        },
        "outputId": "7e23e839-257b-4405-de75-772bf723e329"
      },
      "execution_count": 3,
      "outputs": [
        {
          "output_type": "execute_result",
          "data": {
            "text/plain": [
              "'\\nKota awal adalah Aotizhungxin dan kota akhir adalah Wanshouxigong\\n'"
            ],
            "application/vnd.google.colaboratory.intrinsic+json": {
              "type": "string"
            }
          },
          "metadata": {},
          "execution_count": 3
        }
      ]
    },
    {
      "cell_type": "markdown",
      "source": [
        "## Rincian dataset\n",
        "(urutan data dari awal sampai akhir)\n",
        "*   kode 'dfaotizhongxin' untuk dataframe di Kota Aotizhongxin\n",
        "*   kode 'dfchangping' untuk dataframe di Kota Changping\n",
        "* kode 'dfdingling' untuk dataframe di Kota Dingling\n",
        "* kode 'dfguanyuan' untuk dataframe di kota Guanyuan\n",
        "* kode 'dfgucheng' untuk dataframe di kota Gucheng\n",
        "* kode 'dfhuairou' untuk dataframe di kota Huairo (pengucapan cina 'Huairo' adalah 'Huairou')\n",
        "*kode 'dfnonzhanguan' untuk dataframe di kota Nonzhanguan\n",
        "* kode 'dfshunyi' untuk dataframe di kota Shunyi\n",
        "* kode 'dftiantan' untuk dataframe di kota Tiantan\n",
        "* kode 'dfwanliu' untuk untuk dataframe di kota Wanliu\n",
        "* kode 'dfwanshouxigong' untuk untuk dataframe di kota Wanshouxigong"
      ],
      "metadata": {
        "id": "f_MhSKT7m-Sp"
      }
    },
    {
      "cell_type": "markdown",
      "metadata": {
        "id": "sXU2GBYu8DC1"
      },
      "source": [
        "### Tahap Pengumpulan (Gathering Data)\n",
        "#### rincian dari pengumpulan data : ada 12 dataset kota yang terdiri dari\n",
        "* Nomor\n",
        "* Tahun\n",
        "* Bulan\n",
        "* Jam\n",
        "* kadar partikulat (PM 2.5 dan 10)\n",
        "* kadar senyawa SO2, NO, CO, dan O3 (dalam mikrogram/ m^3)\n",
        "* tempratur (dalam celsius)\n",
        "* Nilai tekanan (dalam hektoPascal)\n",
        "* arah angin dan kecepatan angin\n",
        "-- Nilai Tahun, bulan dan jam bisa diubah menjadi tanggal.\n"
      ]
    },
    {
      "cell_type": "markdown",
      "metadata": {
        "id": "FHSiqaZp8DC1"
      },
      "source": [
        "### Tahap 'Assessing Data'\n",
        "#### Hal yang diperhatikan dalam pemeriksaan kadar udara\n",
        "- Total data duplikat\n",
        "-- Aotizhongxin : tidak ada\n",
        "-- Changpin : Tidak ada\n",
        "- Jumlah data hilang di masing-masing unit\n",
        "-- Kota Aotizhingxin : 925 data di PM2.5, 718 di PM 10. Tiga kolom memiliki data kosong di atas 500\n",
        "-- Kota Changpin : banyak data hilang berada di pemeriksaan empat gas tersebut\n",
        "--- Kota lain memiliki kecendrungan untuk memiliki data kosong di kondisi tersebut\n",
        "#### Hal unik lain\n",
        "Forrmat tanggal yang salah (awalnya tahun, bulan, hari, dan jam) yang dipisah"
      ]
    },
    {
      "cell_type": "code",
      "execution_count": 4,
      "metadata": {
        "id": "zjCBk1BI8DC1",
        "colab": {
          "base_uri": "https://localhost:8080/",
          "height": 35
        },
        "outputId": "2ac5780f-601f-4d02-c741-3852d670dc72"
      },
      "outputs": [
        {
          "output_type": "execute_result",
          "data": {
            "text/plain": [
              "'\\npemeriksaan data dari data kurang lengkap untuk enam kota pertama :\\n(kota Aotizhongxin sampai Huairo)\\n'"
            ],
            "application/vnd.google.colaboratory.intrinsic+json": {
              "type": "string"
            }
          },
          "metadata": {},
          "execution_count": 4
        }
      ],
      "source": [
        "\"\"\"\n",
        "pemeriksaan data dari data kurang lengkap untuk enam kota pertama :\n",
        "(kota Aotizhongxin sampai Huairo)\n",
        "\"\"\"\n",
        "\n",
        "#dfaotizhongxin.info()\n",
        "#dfaotizhongxin.isnull().sum()\n",
        "#dfaotizhongxin.duplicated().sum() # kota Aotizhongxin\n",
        "#dfchangping.info()\n",
        "#dfchangping.isnull().sum()\n",
        "#dfchangping.duplicated().sum() # Changping\n",
        "#dfdongsi.isnull().sum()\n",
        "#dfdongsi.duplicated().sum()\n",
        "#dfdingling.info()\n",
        "#dfdingling.isnull().sum()\n",
        "#dfdingling.duplicated().sum() #Dingling\n"
      ]
    },
    {
      "cell_type": "code",
      "source": [
        "\"\"\"\n",
        "pemeriksaan data dari data kurang lengkap untuk enam kota terakhir :\n",
        "(kota Nonzhanguan sampai Wanshouxigong)\n",
        "\"\"\"\n",
        "\n",
        "#dfnonzhanguan.info()\n",
        "#dfnonzhanguan.isnull().sum()\n",
        "#dfnonzhanguan.duplicated().sum() #Nonzhanguan\n",
        "#dfwanshouxigong.info()\n"
      ],
      "metadata": {
        "id": "ax-3tEjc9Cj1",
        "colab": {
          "base_uri": "https://localhost:8080/",
          "height": 35
        },
        "outputId": "95c95882-0613-4e94-943a-e94b1d70a8d2"
      },
      "execution_count": 5,
      "outputs": [
        {
          "output_type": "execute_result",
          "data": {
            "text/plain": [
              "'\\npemeriksaan data dari data kurang lengkap untuk enam kota terakhir :\\n(kota Nonzhanguan sampai Wanshouxigong)\\n'"
            ],
            "application/vnd.google.colaboratory.intrinsic+json": {
              "type": "string"
            }
          },
          "metadata": {},
          "execution_count": 5
        }
      ]
    },
    {
      "cell_type": "markdown",
      "metadata": {
        "id": "EhN5R4hr8DC1"
      },
      "source": [
        "### Proses Pembersihan (Cleaning) Data\n",
        "#### Pengantar : Data ini bisa dimanfaatkan untuk pengaturan sehingga proses yang sesuai untuk pembersihan data adalah interpolasi kolom indikator yang berangka demi menjaga aspek kolom yang hilang. Di sisilain, pengisian data dengan modus berlaku untuk kolom non integer\n",
        "Tahapan pembersihan data\n",
        "(hal ini berlaku untuk 12 kota)\n",
        "1.   Pengubahan format waktu dan menghapus format salah (Tahun, bulan, angka, dan jam)\n",
        "2. Proses interpolasi untuk kolom hilang di indikator yang dibutuhkan\n",
        "3. Pengisian nilai non numerik yang hilang\n",
        "\n",
        "\n"
      ]
    },
    {
      "cell_type": "code",
      "source": [
        "#pembersihan bagian pertama (pengubahan format data waktu) untuk dua belas kota\n",
        "dfaotizhongxin['datetime'] = dfaotizhongxin[['year', 'month', 'day', 'hour']].apply(lambda x: datetime(*x), axis=1)\n",
        "dfchangping['datetime'] = dfchangping[['year', 'month', 'day', 'hour']].apply(lambda x: datetime(*x), axis=1)\n",
        "dfdingling['datetime'] = dfdingling[['year', 'month', 'day', 'hour']].apply(lambda x: datetime(*x), axis=1)\n",
        "dfdongsi['datetime'] = dfdongsi[['year', 'month', 'day', 'hour']].apply(lambda x: datetime(*x), axis=1)\n",
        "dfguanyuan['datetime'] = dfguanyuan[['year', 'month', 'day', 'hour']].apply(lambda x: datetime(*x), axis=1)\n",
        "dfgucheng['datetime'] = dfgucheng[['year', 'month', 'day', 'hour']].apply(lambda x: datetime(*x), axis=1)\n",
        "dfhuairou['datetime'] = dfhuairou[['year', 'month', 'day', 'hour']].apply(lambda x: datetime(*x), axis=1)\n",
        "dfnonzhanguan['datetime'] = dfnonzhanguan[['year', 'month', 'day', 'hour']].apply(lambda x: datetime(*x), axis=1)\n",
        "dfshunyi['datetime'] = dfshunyi[['year', 'month', 'day', 'hour']].apply(lambda x: datetime(*x), axis=1)\n",
        "dftiantan['datetime'] = dftiantan[['year', 'month', 'day', 'hour']].apply(lambda x: datetime(*x), axis=1)\n",
        "dfwanliu['datetime'] = dfwanliu[['year', 'month', 'day', 'hour']].apply(lambda x: datetime(*x), axis=1)\n",
        "dfwanshouxigong['datetime'] = dfwanshouxigong[['year', 'month', 'day', 'hour']].apply(lambda x: datetime(*x), axis=1)\n",
        "\n",
        "#penghapusan kolom 'tahun' dan tiga indeks lain untuk 12 kota (dari Aotizhongxin sampai Wanshouxigong)\n",
        "\n",
        "dfaotizhongxin.drop(['year', 'month', 'day', 'hour'], axis=1, inplace=True)\n",
        "dfchangping.drop(['year', 'month', 'day', 'hour'], axis=1, inplace=True)\n",
        "dfdingling.drop(['year', 'month', 'day', 'hour'], axis=1, inplace=True)\n",
        "dfdongsi.drop(['year', 'month', 'day', 'hour'], axis=1, inplace=True)\n",
        "dfguanyuan.drop(['year', 'month', 'day', 'hour'], axis=1, inplace=True)\n",
        "dfgucheng.drop(['year', 'month', 'day', 'hour'], axis=1, inplace=True)\n",
        "dfhuairou.drop(['year', 'month', 'day', 'hour'], axis=1, inplace=True)\n",
        "dfnonzhanguan.drop(['year', 'month', 'day', 'hour'], axis=1, inplace=True)\n",
        "dfshunyi.drop(['year', 'month', 'day', 'hour'], axis=1, inplace=True)\n",
        "dftiantan.drop(['year', 'month', 'day', 'hour'], axis=1, inplace=True)\n",
        "dfwanliu.drop(['year', 'month', 'day', 'hour'], axis=1, inplace=True)\n",
        "dfwanshouxigong.drop(['year', 'month', 'day', 'hour'], axis=1, inplace=True)\n",
        "\n",
        "#pemeriksaan kolom untuk memeriksa jika kota sudah memiliki indikator waktu\n",
        "#dfaotizhongxin.head(10) #Kota Aotizhongxin\n",
        "#dfchangping.head(10)# Kota Changping\n",
        "#dfdingling.head(10)# Kota Dingling\n",
        "#dfdongsi.head(10)# Kota Dongsi\n",
        "#dfguanyuan.head(10)# Kota Guanyuan\n",
        "#dfgucheng.head(10)# Kota Gucheng\n",
        "#dfhuairou.head(10)# Kota Huairou\n",
        "#dfnonzhanguan.head(10) #kota Nanzhanguan\n",
        "#dfshunyi.head(10) #kota sunyi\n",
        "#dftiantan.head(10) #Kota Tiantan\n",
        "#dfwanliu.head(10) #Kota Wanliu\n",
        "#dfwanshouxigong.head(10) #Kota Wanshouxigong\n",
        "#hasil ini untuk memeriksa penghapusan kolom waktu"
      ],
      "metadata": {
        "id": "jVnYpprE9Evz"
      },
      "execution_count": 6,
      "outputs": []
    },
    {
      "cell_type": "code",
      "source": [
        "\"\"\"\n",
        "#bagian dua (proses interpolasi kolom)\n",
        "Tahap pertama pemeriksaan data yang hilang untuk masing-masing kota dari Aotizhongxing sampai Wanshouxigong\n",
        "\"\"\"\n",
        "# pemeriksan total kolom kosong untuk interpolasi\n",
        "#dfaotizhongxin.isnull().sum() #untuk memeriksa kolom sebelum interpolasi (Aotizhongxing)\n",
        "#dfchangping.isnull().sum() #untuk memeriksa kolom sebelum interpolasi (Changping)\n",
        "#dfdingling.isnull().sum() #untuk memeriksa kolom sebelum interpolasi (Dingling)\n",
        "#dfdongsi.isnull().sum() #untuk memeriksa kolom sebelum interpolasi (Dongsi)\n",
        "#dfguanyuan.isnull().sum() #untuk memeriksa kolom sebelum interpolasi (Guanyuan)\n",
        "#dfgucheng.isnull().sum() #untuk memeriksa kolom sebelum interpolasi (Gucheng)\n",
        "#dfhuairou.isnull().sum() #untuk memeriksa kolom sebelum interpolasi (Huairou)\n",
        "#dfnonzhanguan.isnull().sum() #untuk memeriksa kolom sebelum interpolasi (Nonzhanguan)\n",
        "#dfshunyi.isnull().sum() #untuk memeriksa kolom sebelum interpolasi (Shunyi)\n",
        "#dftiantan.isnull().sum() #untuk memeriksa kolom sebelum interpolasi (Tiantan)\n",
        "#dfwanliu.isnull().sum() #untuk memeriksa kolom sebelum interpolasi (Wanliu)\n",
        "#dfwanshouxigong.isnull().sum() #untuk memeriksa kolom sebelum interpolasi (Wanshouxigong)"
      ],
      "metadata": {
        "id": "z_vV5MYiFp_Y",
        "colab": {
          "base_uri": "https://localhost:8080/",
          "height": 35
        },
        "outputId": "b063a251-b6ce-4886-dd89-39f2619df709"
      },
      "execution_count": 7,
      "outputs": [
        {
          "output_type": "execute_result",
          "data": {
            "text/plain": [
              "'\\n#bagian dua (proses interpolasi kolom)\\nTahap pertama pemeriksaan data yang hilang untuk masing-masing kota dari Aotizhongxing sampai Wanshouxigong\\n'"
            ],
            "application/vnd.google.colaboratory.intrinsic+json": {
              "type": "string"
            }
          },
          "metadata": {},
          "execution_count": 7
        }
      ]
    },
    {
      "cell_type": "markdown",
      "source": [
        "##Resume Kolom Hilang Data untuk Interpolasi Linear:\n",
        "\n",
        "*   Sebagian besar kolom hilang bisa 'diinterpolasi' untuk menjaga orisinilitas data\n",
        "*   Proses ini melibatkan dua belas Kota\n",
        "* Proses interpolasi data memakai kombinasi antara interpolasi linear dan interpolasi nilai terdekat\n",
        "Proses"
      ],
      "metadata": {
        "id": "wHjQJ2MmqssU"
      }
    },
    {
      "cell_type": "code",
      "source": [
        "#Persiapan pengisian data di 'dfdongsi'\n",
        "dfdongsi[['SO2', 'NO2', 'CO', 'O3']] = dfdongsi[['SO2', 'NO2', 'CO', 'O3']].fillna(dfdongsi[['SO2', 'NO2', 'CO', 'O3']].median())\n",
        "#dfdongsi.isnull().sum() #untuk memeriksa kolom setelah interpolasi (Dongsi)\n",
        "#pemeriksan baris kosong\n",
        "#dfdongsi.isnull().sum()"
      ],
      "metadata": {
        "id": "opyc3aP58EDG"
      },
      "execution_count": 8,
      "outputs": []
    },
    {
      "cell_type": "code",
      "source": [
        "# persiapan interpolasi (Aotizhongxin sampai terakhir) di kolom PM2.5 dan PM10 sebelum pembersihan data\n",
        "dfaotizhongxin['PM2.5'] = dfaotizhongxin['PM2.5'].interpolate(method='nearest')\n",
        "dfaotizhongxin['PM10'] = dfaotizhongxin['PM10'].interpolate(method='nearest')\n",
        "#Area Aotizhongxin\n",
        "dfchangping['PM2.5'] = dfchangping['PM2.5'].interpolate(method='nearest')\n",
        "dfchangping['PM10'] = dfchangping['PM10'].interpolate(method='nearest')\n",
        "#Area Changping\n",
        "dfdingling['PM2.5'] = dfdingling['PM2.5'].interpolate(method='nearest')\n",
        "dfdingling['PM10'] = dfdingling['PM10'].interpolate(method='nearest')\n",
        "#Area Dingling\n",
        "dfdongsi['PM2.5'] = dfdongsi['PM2.5'].interpolate(method='nearest')\n",
        "dfdongsi['PM10'] = dfdongsi['PM10'].interpolate(method='nearest')\n",
        "#Area Dongsi\n",
        "dfguanyuan['PM2.5'] = dfguanyuan['PM2.5'].interpolate(method='nearest')\n",
        "dfguanyuan['PM10'] = dfguanyuan['PM10'].interpolate(method='nearest')\n",
        "#Area Guanyuan\n",
        "dfgucheng['PM2.5'] = dfgucheng['PM2.5'].interpolate(method='nearest')\n",
        "dfgucheng['PM10'] = dfgucheng['PM10'].interpolate(method='nearest')\n",
        "#Area Gucheng\n",
        "dfhuairou['PM2.5'] = dfhuairou['PM2.5'].interpolate(method='nearest')\n",
        "dfhuairou['PM10'] = dfhuairou['PM10'].interpolate(method='nearest')\n",
        "#Area Huairou\n",
        "dfnonzhanguan['PM2.5'] = dfnonzhanguan['PM2.5'].interpolate(method='nearest')\n",
        "dfnonzhanguan['PM10'] = dfnonzhanguan['PM10'].interpolate(method='nearest')\n",
        "#Area Nonzhanguan\n",
        "dfshunyi['PM2.5'] = dfshunyi['PM2.5'].interpolate(method='nearest')\n",
        "dfshunyi['PM10'] = dfshunyi['PM10'].interpolate(method='nearest')\n",
        "#Area Shunyi\n",
        "dftiantan['PM2.5'] = dftiantan['PM2.5'].interpolate(method='nearest')\n",
        "dftiantan['PM10'] = dftiantan['PM10'].interpolate(method='nearest')\n",
        "#Area Tiantan\n",
        "dfwanliu['PM2.5'] = dfwanliu['PM2.5'].interpolate(method='nearest')\n",
        "dfwanliu['PM10'] = dfwanliu['PM10'].interpolate(method='nearest')\n",
        "#Area Wanliu\n",
        "dfwanshouxigong['PM2.5'] = dfwanshouxigong['PM2.5'].interpolate(method='nearest')\n",
        "dfwanshouxigong['PM10'] = dfwanshouxigong['PM10'].interpolate(method='nearest')\n",
        "#Area Wanshouxigong"
      ],
      "metadata": {
        "id": "xjltdMQA4A2T"
      },
      "execution_count": 9,
      "outputs": []
    },
    {
      "cell_type": "code",
      "source": [
        "#pemeriksaan nilai interpolasi linear untuk dua PM\n",
        "#dfaotizhongxin[['PM2.5','PM10']] #untuk memeriksa kolom setelah interpolasi pertama (Aotizhongxing)\n",
        "#dfchangping[['PM2.5','PM10']] #untuk memeriksa kolom setelah interpolasi pertama (Changping)\n",
        "#dfdingling[['PM2.5','PM10']] #untuk memeriksa kolom setelah interpolasi pertama (Dingling)\n",
        "#dfdongsi[['PM2.5','PM10']] #untuk memeriksa kolom setelah interpolasi pertama (Dongsi)\n",
        "#pemeriksaan hasil interpolasi untuk nilai dua jenis meter\n",
        "#dfaotizhongxin.isnull().sum() #untuk memeriksa kolom setelah interpolasi pertama PM (Aotizhongxing)\n",
        "#dfchangping.isnull().sum() #untuk memeriksa kolom setelah interpolasi pertama PM (Changping)"
      ],
      "metadata": {
        "id": "E-E8nUjxWPdQ"
      },
      "execution_count": 10,
      "outputs": []
    },
    {
      "cell_type": "markdown",
      "source": [
        "##Bagian 2 pembersihan dataset untuk pemeriksaan empat senyawa (dalam mikro meter/ meter kubik)"
      ],
      "metadata": {
        "id": "xjmOxhArsguc"
      }
    },
    {
      "cell_type": "code",
      "source": [
        "#pembersihan data SO2, NO2, CO O3 di dataset (Aotizhongxin sampai Wanshouxigong)\n",
        "dfaotizhongxin[['SO2', 'NO2', 'CO', 'O3']] = dfaotizhongxin[['SO2', 'NO2', 'CO', 'O3']].interpolate(method='nearest') #Kota Aotizhongxin\n",
        "dfchangping[['SO2', 'NO2', 'CO', 'O3']] = dfchangping[['SO2', 'NO2', 'CO', 'O3']].interpolate(method='nearest') #Kota Changping\n",
        "dfdingling[['SO2', 'NO2', 'CO', 'O3']] = dfdingling[['SO2', 'NO2', 'CO', 'O3']].interpolate(method='nearest') #Kota Dingling\n",
        "#dfdongsi[['SO2', 'NO2', 'CO', 'O3']] = dfdongsi[[['SO2', 'NO2', 'CO', 'O3']]].interpolate(method='nearest') #Kota Dongsi\n",
        "dfguanyuan[['SO2', 'NO2', 'CO', 'O3']] = dfguanyuan[['SO2', 'NO2', 'CO', 'O3']].interpolate(method='nearest') #Kota Guanyuan\n",
        "dfgucheng[['SO2', 'NO2', 'CO', 'O3']] = dfgucheng[['SO2', 'NO2', 'CO', 'O3']].interpolate(method='nearest') #Kota Gucheng\n",
        "dfhuairou[['SO2', 'NO2', 'CO', 'O3']] = dfhuairou[['SO2', 'NO2', 'CO', 'O3']].interpolate(method='nearest') #Kota Huairou\n",
        "dfnonzhanguan[['SO2', 'NO2', 'CO', 'O3']] = dfnonzhanguan[['SO2', 'NO2', 'CO', 'O3']].interpolate(method='nearest') #Kota Nonzhanguan\n",
        "dfshunyi[['SO2', 'NO2', 'CO', 'O3']] = dfshunyi[['SO2', 'NO2', 'CO', 'O3']].interpolate(method='nearest') #Kota Shunyi\n",
        "dfwanliu[['SO2', 'NO2', 'CO', 'O3']] = dfwanliu[['SO2', 'NO2', 'CO', 'O3']].interpolate(method='nearest') #Kota Wanliu\n",
        "dfwanshouxigong[['SO2', 'NO2', 'CO', 'O3']] = dfwanshouxigong[['SO2', 'NO2', 'CO', 'O3']].interpolate(method='nearest') #Kota Wanshouxigong\n",
        "\n",
        "#pemeriksaan interpolasi konsentrasi gas\n",
        "#dfaotizhongxin.isnull().sum() #untuk memeriksa kolom setelah interpolasi (Aotizhongxing)\n",
        "#dfdongsi.info()"
      ],
      "metadata": {
        "id": "-4tAryilsQAV"
      },
      "execution_count": 11,
      "outputs": []
    },
    {
      "cell_type": "markdown",
      "source": [
        "###Interpolasi suhu, tekanan, dan nilai tekanan dew secara linear"
      ],
      "metadata": {
        "id": "wZEpWblLuH56"
      }
    },
    {
      "cell_type": "code",
      "source": [
        "#persiapan proses interpolasi\n",
        "dfaotizhongxin[['TEMP','PRES','DEWP']] = dfaotizhongxin[['TEMP','PRES','DEWP']].interpolate(method='linear') #Kota Aotizhongxin\n",
        "dfchangping[['TEMP','PRES','DEWP']] = dfchangping[['TEMP','PRES','DEWP']].interpolate(method='linear') #Kota Changping\n",
        "dfdingling[['TEMP','PRES','DEWP']] = dfdingling[['TEMP','PRES','DEWP']].interpolate(method='linear') #Kota Dingling\n",
        "dfdongsi[['TEMP','PRES','DEWP']] = dfdongsi[['TEMP','PRES','DEWP']].interpolate(method='linear') #Kota Dongsi\n",
        "dfguanyuan[['TEMP','PRES','DEWP']] = dfguanyuan[['TEMP','PRES','DEWP']].interpolate(method='linear') #Kota Guanyuan\n",
        "dfgucheng[['TEMP','PRES','DEWP']] = dfgucheng[['TEMP','PRES','DEWP']].interpolate(method='linear') #Kota Gucheng\n",
        "dfhuairou[['TEMP','PRES','DEWP']] = dfhuairou[['TEMP','PRES','DEWP']].interpolate(method='linear') #Kota Huairou\n",
        "dfnonzhanguan[['TEMP','PRES','DEWP']] = dfnonzhanguan[['TEMP','PRES','DEWP']].interpolate(method='linear') #Kota Nonzhanguan\n",
        "dfshunyi[['TEMP','PRES','DEWP']] = dfshunyi[['TEMP','PRES','DEWP']].interpolate(method='linear') #Kota Shunyi\n",
        "dfwanliu[['TEMP','PRES','DEWP']] = dfwanliu[['TEMP','PRES','DEWP']].interpolate(method='linear') #Kota Wanliu\n",
        "dfwanshouxigong[['TEMP','PRES','DEWP']] = dfwanshouxigong[['TEMP','PRES','DEWP']].interpolate(method='linear') #Kota Wanshouxigong\n",
        "\n",
        "\n",
        "#Proses interpolasi untuk kadar hujan\n",
        "dfaotizhongxin['RAIN'] = dfaotizhongxin['RAIN'].interpolate(method='linear') #Kota Aotizhongxin\n",
        "dfchangping['RAIN'] = dfchangping['RAIN'].interpolate(method='linear') #Kota Changping\n",
        "dfdingling['RAIN'] = dfdingling['RAIN'].interpolate(method='linear') #Kota Dingling\n",
        "dfdongsi['RAIN'] = dfdongsi['RAIN'].interpolate(method='linear') #Kota Dongsi\n",
        "dfguanyuan['RAIN'] = dfguanyuan['RAIN'].interpolate(method='linear') #Kota Guanyuan\n",
        "dfgucheng['RAIN'] = dfgucheng['RAIN'].interpolate(method='linear') #Kota Gucheng\n",
        "dfhuairou['RAIN'] = dfhuairou['RAIN'].interpolate(method='linear') #Kota Huairou\n",
        "dfnonzhanguan['RAIN'] = dfnonzhanguan['RAIN'].interpolate(method='linear') #Kota Nonzhanguan\n",
        "dfshunyi['RAIN'] = dfshunyi['RAIN'].interpolate(method='linear') #Kota Shunyi\n",
        "dfwanliu['RAIN'] = dfwanliu['RAIN'].interpolate(method='linear') #Kota Wanliu\n",
        "dfwanshouxigong['RAIN'] = dfwanshouxigong['RAIN'].interpolate(method='linear') #Kota Wanshouxigong\n",
        "\n",
        "#pemeriksaan hasil interpolasi\n",
        "#dfaotizhongxin.isnull().sum() #untuk memeriksa kolom setelah interpolasi kadar suhu tahap pertama (Aotizhongxing)"
      ],
      "metadata": {
        "id": "ZRcrtmeCufYU"
      },
      "execution_count": 12,
      "outputs": []
    },
    {
      "cell_type": "markdown",
      "source": [
        "##Pengisian data hilang untuk arah angin dan kecepatan\n"
      ],
      "metadata": {
        "id": "u4Ja19ApckoT"
      }
    },
    {
      "cell_type": "code",
      "source": [
        "#persiapan pengisian data hilang di arah angin\n",
        "dfaotizhongxin['wd'] = dfaotizhongxin['wd'].fillna(method='ffill') #kota aotizhongxin\n",
        "dfchangping['wd'] = dfchangping['wd'].fillna(method='ffill')\n",
        "dfdingling['wd'] = dfdingling['wd'].fillna(method='ffill')\n",
        "dfdongsi['wd'] = dfdongsi['wd'].fillna(method='ffill')\n",
        "dfguanyuan['wd'] = dfguanyuan['wd'].fillna(method='ffill')\n",
        "dfgucheng['wd'] = dfgucheng['wd'].fillna(method='ffill')\n",
        "dfhuairou['wd'] = dfhuairou['wd'].fillna(method='ffill')\n",
        "dfnonzhanguan['wd'] = dfnonzhanguan['wd'].fillna(method='ffill')\n",
        "dfshunyi['wd'] = dfshunyi['wd'].fillna(method='ffill')\n",
        "dftiantan['wd'] = dftiantan['wd'].fillna(method='ffill')\n",
        "dfwanliu['wd'] = dfwanliu['wd'].fillna(method='ffill')\n",
        "dfwanshouxigong['wd'] = dfwanshouxigong['wd'].fillna(method='ffill')\n",
        "\n",
        "#interpolasi linear untuk kecepatan angin\n",
        "dfaotizhongxin['WSPM'] = dfaotizhongxin['WSPM'].interpolate(method='linear') #Kota Aotizhongxin\n",
        "dfchangping['WSPM'] = dfchangping['WSPM'].interpolate(method='linear') #Kota Changping\n",
        "dfdingling['WSPM'] = dfdingling['WSPM'].interpolate(method='linear') #Kota Dingling\n",
        "dfdongsi['WSPM'] = dfdongsi['WSPM'].interpolate(method='linear') #Kota Dongsi\n",
        "dfguanyuan['WSPM'] = dfguanyuan['WSPM'].interpolate(method='linear') #Kota Guanyuan\n",
        "dfhuairou['WSPM'] = dfhuairou['WSPM'].interpolate(method='linear') #Kota Huairou\n",
        "dfnonzhanguan['WSPM'] = dfnonzhanguan['WSPM'].interpolate(method='linear') #Kota Nonzhanguan\n",
        "dfshunyi['WSPM'] = dfshunyi['WSPM'].interpolate(method='linear') #Kota Shunyi\n",
        "dftiantan['WSPM'] = dftiantan['WSPM'].interpolate(method='linear') #Kota Tiantan\n",
        "dfwanliu['WSPM'] = dfwanliu['WSPM'].interpolate(method='linear') #Kota Wanliu\n",
        "dfwanshouxigong['WSPM'] = dfwanshouxigong['WSPM'].interpolate(method='linear') #Kota Wanshouxigong\n",
        "\n"
      ],
      "metadata": {
        "id": "oaFRS75xcr7M"
      },
      "execution_count": 13,
      "outputs": []
    },
    {
      "cell_type": "markdown",
      "source": [
        "#Lanjutan untuk pembersihan tahap 2"
      ],
      "metadata": {
        "id": "bgP8eTcQ50Ud"
      }
    },
    {
      "cell_type": "code",
      "source": [
        "#persiapan untuk interpolasi tahap 2 (PM2.5 dan PM10)\n",
        "# persiapan interpolasi (Aotizhongxin sampai terakhir) di kolom PM2.5 dan PM10 sebelum pembersihan data\n",
        "dfaotizhongxin['PM2.5'] = dfaotizhongxin['PM2.5'].interpolate(method='linear')\n",
        "dfaotizhongxin['PM10'] = dfaotizhongxin['PM10'].interpolate(method='linear')\n",
        "#Area Aotizhongxin\n",
        "dfchangping['PM2.5'] = dfchangping['PM2.5'].interpolate(method='linear')\n",
        "dfchangping['PM10'] = dfchangping['PM10'].interpolate(method='linear')\n",
        "#Area Changping\n",
        "dfdingling['PM2.5'] = dfdingling['PM2.5'].interpolate(method='linear')\n",
        "dfdingling['PM10'] = dfdingling['PM10'].interpolate(method='linear')\n",
        "#Area Dingling\n",
        "dfdongsi['PM2.5'] = dfdongsi['PM2.5'].interpolate(method='linear')\n",
        "dfdongsi['PM10'] = dfdongsi['PM10'].interpolate(method='linear')\n",
        "#Area Dongsi\n",
        "dfguanyuan['PM2.5'] = dfguanyuan['PM2.5'].interpolate(method='linear')\n",
        "dfguanyuan['PM10'] = dfguanyuan['PM10'].interpolate(method='linear')\n",
        "#Area Guanyuan\n",
        "dfgucheng['PM2.5'] = dfgucheng['PM2.5'].interpolate(method='linear')\n",
        "dfgucheng['PM10'] = dfgucheng['PM10'].interpolate(method='linear')\n",
        "#Area Gucheng\n",
        "dfhuairou['PM2.5'] = dfhuairou['PM2.5'].interpolate(method='linear')\n",
        "dfhuairou['PM10'] = dfhuairou['PM10'].interpolate(method='linear')\n",
        "#Area Huairou\n",
        "dfnonzhanguan['PM2.5'] = dfnonzhanguan['PM2.5'].interpolate(method='linear')\n",
        "dfnonzhanguan['PM10'] = dfnonzhanguan['PM10'].interpolate(method='linear')\n",
        "#Area Nonzhanguan\n",
        "dfshunyi['PM2.5'] = dfshunyi['PM2.5'].interpolate(method='linear')\n",
        "dfshunyi['PM10'] = dfshunyi['PM10'].interpolate(method='linear')\n",
        "#Area Shunyi\n",
        "dftiantan['PM2.5'] = dftiantan['PM2.5'].interpolate(method='linear')\n",
        "dftiantan['PM10'] = dftiantan['PM10'].interpolate(method='linear')\n",
        "#Area Tiantan\n",
        "dfwanliu['PM2.5'] = dfwanliu['PM2.5'].interpolate(method='linear')\n",
        "dfwanliu['PM10'] = dfwanliu['PM10'].interpolate(method='linear')\n",
        "#Area Wanliu\n",
        "dfwanshouxigong['PM2.5'] = dfwanshouxigong['PM2.5'].interpolate(method='linear')\n",
        "dfwanshouxigong['PM10'] = dfwanshouxigong['PM10'].interpolate(method='linear')\n",
        "#Area Wanshouxigong"
      ],
      "metadata": {
        "id": "W2NQCs3j32s2"
      },
      "execution_count": 14,
      "outputs": []
    },
    {
      "cell_type": "code",
      "source": [
        "#untuk pemeriksaan senyawa tahap dua (SO2, NO2, CO O3 di dataset) (Aotizhongxin sampai Wanshouxigong)\n",
        "dfaotizhongxin[['SO2', 'NO2', 'CO', 'O3']] = dfaotizhongxin[['SO2', 'NO2', 'CO', 'O3']].interpolate(method='linear') #Kota Aotizhongxin\n",
        "dfchangping[['SO2', 'NO2', 'CO', 'O3']] = dfchangping[['SO2', 'NO2', 'CO', 'O3']].interpolate(method='linear') #Kota Changping\n",
        "dfdingling[['SO2', 'NO2', 'CO', 'O3']] = dfdingling[['SO2', 'NO2', 'CO', 'O3']].interpolate(method='nearest') #Kota Dingling\n",
        "#dfdongsi[['SO2', 'NO2', 'CO', 'O3']] = dfdongsi[[['SO2', 'NO2', 'CO', 'O3']]].interpolate(method='linear') #Kota Dongsi\n",
        "dfguanyuan[['SO2', 'NO2', 'CO', 'O3']] = dfguanyuan[['SO2', 'NO2', 'CO', 'O3']].interpolate(method='linear') #Kota Guanyuan\n",
        "dfgucheng[['SO2', 'NO2', 'CO', 'O3']] = dfgucheng[['SO2', 'NO2', 'CO', 'O3']].interpolate(method='linear') #Kota Gucheng\n",
        "dfhuairou[['SO2', 'NO2', 'CO', 'O3']] = dfhuairou[['SO2', 'NO2', 'CO', 'O3']].interpolate(method='linear') #Kota Huairou\n",
        "dfnonzhanguan[['SO2', 'NO2', 'CO', 'O3']] = dfnonzhanguan[['SO2', 'NO2', 'CO', 'O3']].interpolate(method='linear') #Kota Nonzhanguan\n",
        "dfshunyi[['SO2', 'NO2', 'CO', 'O3']] = dfshunyi[['SO2', 'NO2', 'CO', 'O3']].interpolate(method='linear') #Kota Shunyi\n",
        "dfwanliu[['SO2', 'NO2', 'CO', 'O3']] = dfwanliu[['SO2', 'NO2', 'CO', 'O3']].interpolate(method='linear') #Kota Wanliu\n",
        "dfwanshouxigong[['SO2', 'NO2', 'CO', 'O3']] = dfwanshouxigong[['SO2', 'NO2', 'CO', 'O3']].interpolate(method='linear') #Kota Wanshouxigong\n"
      ],
      "metadata": {
        "id": "A5jdIZad54BK"
      },
      "execution_count": 15,
      "outputs": []
    },
    {
      "cell_type": "code",
      "source": [
        "#Pembersihaan data di kadar senyawa & kadar hujan\n",
        "#persiapan proses interpolasi tahap dua\n",
        "dfaotizhongxin[['TEMP','PRES','DEWP']] = dfaotizhongxin[['TEMP','PRES','DEWP']].interpolate(method='nearest') #Kota Aotizhongxin\n",
        "dfchangping[['TEMP','PRES','DEWP']] = dfchangping[['TEMP','PRES','DEWP']].interpolate(method='nearest') #Kota Changping\n",
        "dfdingling[['TEMP','PRES','DEWP']] = dfdingling[['TEMP','PRES','DEWP']].interpolate(method='nearest') #Kota Dingling\n",
        "dfdongsi[['TEMP','PRES','DEWP']] = dfdongsi[['TEMP','PRES','DEWP']].interpolate(method='nearest') #Kota Dongsi\n",
        "dfguanyuan[['TEMP','PRES','DEWP']] = dfguanyuan[['TEMP','PRES','DEWP']].interpolate(method='nearest') #Kota Guanyuan\n",
        "dfgucheng[['TEMP','PRES','DEWP']] = dfgucheng[['TEMP','PRES','DEWP']].interpolate(method='nearest') #Kota Gucheng\n",
        "dfhuairou[['TEMP','PRES','DEWP']] = dfhuairou[['TEMP','PRES','DEWP']].interpolate(method='nearest') #Kota Huairou\n",
        "dfnonzhanguan[['TEMP','PRES','DEWP']] = dfnonzhanguan[['TEMP','PRES','DEWP']].interpolate(method='nearest') #Kota Nonzhanguan\n",
        "dfshunyi[['TEMP','PRES','DEWP']] = dfshunyi[['TEMP','PRES','DEWP']].interpolate(method='nearest') #Kota Shunyi\n",
        "dftiantan[['TEMP','PRES','DEWP']] = dftiantan[['TEMP','PRES','DEWP']].interpolate(method='nearest') #Kota Tiantan\n",
        "dfwanliu[['TEMP','PRES','DEWP']] = dfwanliu[['TEMP','PRES','DEWP']].interpolate(method='nearest') #Kota Wanliu\n",
        "dfwanshouxigong[['TEMP','PRES','DEWP']] = dfwanshouxigong[['TEMP','PRES','DEWP']].interpolate(method='nearest') #Kota Wanshouxigong\n",
        "\n",
        "\n",
        "#Proses interpolasi untuk kadar hujan\n",
        "dfaotizhongxin['RAIN'] = dfaotizhongxin['RAIN'].interpolate(method='nearest') #Kota Aotizhongxin\n",
        "dfchangping['RAIN'] = dfchangping['RAIN'].interpolate(method='nearest') #Kota Changping\n",
        "dfdingling['RAIN'] = dfdingling['RAIN'].interpolate(method='nearest') #Kota Dingling\n",
        "dfdongsi['RAIN'] = dfdongsi['RAIN'].interpolate(method='nearest') #Kota Dongsi\n",
        "dfguanyuan['RAIN'] = dfguanyuan['RAIN'].interpolate(method='nearest') #Kota Guanyuan\n",
        "dfgucheng['RAIN'] = dfgucheng['RAIN'].interpolate(method='nearest') #Kota Gucheng\n",
        "dfhuairou['RAIN'] = dfhuairou['RAIN'].interpolate(method='nearest') #Kota Huairou\n",
        "dfnonzhanguan['RAIN'] = dfnonzhanguan['RAIN'].interpolate(method='nearest') #Kota Nonzhanguan\n",
        "dfshunyi['RAIN'] = dfshunyi['RAIN'].interpolate(method='nearest') #Kota Shunyi\n",
        "dftiantan['RAIN'] = dftiantan['RAIN'].interpolate(method='nearest') #Kota Tiantan\n",
        "dfwanliu['RAIN'] = dfwanliu['RAIN'].interpolate(method='nearest') #Kota Wanliu\n",
        "dfwanshouxigong['RAIN'] = dfwanshouxigong['RAIN'].interpolate(method='nearest') #Kota Wanshouxigong\n"
      ],
      "metadata": {
        "id": "ad8LAUfB5EVR"
      },
      "execution_count": 16,
      "outputs": []
    },
    {
      "cell_type": "markdown",
      "metadata": {
        "id": "gp-Y6wU38DC1"
      },
      "source": [
        "## Tahapa eksplorasi analisis data (EAD) / \"'Exploratory Data Analysis' '(EDA)' \"\n",
        "* Bagian histogram dan kecendrungan\n",
        "*Bagian plot kotak untuk inspeksi pencilan"
      ]
    },
    {
      "cell_type": "code",
      "source": [
        "#Bagian perhitungan kecendrungan dan plot kotak\n",
        "#Area Pemeriksaan Kecendrungan\n",
        "cenrayao = np.round([\n",
        "    skew(dfaotizhongxin['PM2.5']), skew(dfaotizhongxin['PM10']),\n",
        "    skew(dfaotizhongxin['SO2']), skew(dfaotizhongxin['NO2']), skew(dfaotizhongxin['CO']), skew(dfaotizhongxin['O3']),\n",
        "    skew(dfaotizhongxin['TEMP']), skew(dfaotizhongxin['PRES']), skew(dfaotizhongxin['DEWP']),\n",
        "    skew(dfaotizhongxin['RAIN']), skew(dfaotizhongxin['WSPM'])], 3) #Kota Aotizhongxin\n",
        "cenrych = np.round([\n",
        "    skew(dfchangping['PM2.5']), skew(dfchangping['PM10']),\n",
        "    skew(dfchangping['SO2']), skew(dfchangping['NO2']), skew(dfchangping['CO']), skew(dfchangping['O3']),\n",
        "    skew(dfchangping['TEMP']), skew(dfchangping['PRES']), skew(dfchangping['DEWP']),\n",
        "    skew(dfchangping['RAIN']), skew(dfchangping['WSPM'])], 3) #Kota changping\n",
        "cenryling = np.round([\n",
        "    skew(dfdingling['PM2.5']), skew(dfdingling['PM10']),\n",
        "    skew(dfdingling['SO2']), skew(dfdingling['NO2']), skew(dfdingling['CO']), skew(dfdingling['O3']),\n",
        "    skew(dfdingling['TEMP']), skew(dfdingling['PRES']), skew(dfdingling['DEWP']),\n",
        "    skew(dfdingling['RAIN']), skew(dfdingling['WSPM'])], 3) #Kota Dingling\n",
        "cenrydong = np.round([skew(dfdongsi['PM2.5']), skew(dfdongsi['PM10']),\n",
        "    skew(dfdongsi['SO2']), skew(dfdongsi['NO2']), skew(dfdongsi['CO']), skew(dfdongsi['O3']),\n",
        "    skew(dfdongsi['TEMP']), skew(dfdongsi['PRES']), skew(dfdongsi['DEWP']),\n",
        "    skew(dfdongsi['RAIN']), skew(dfdongsi['WSPM'])], 3) #Kota Dongsi\n",
        "cenrygua = np.round([skew(dfguanyuan['PM2.5']), skew(dfguanyuan['PM10']),\n",
        "    skew(dfguanyuan['SO2']), skew(dfguanyuan['NO2']), skew(dfguanyuan['CO']), skew(dfguanyuan['O3']),\n",
        "    skew(dfguanyuan['TEMP']), skew(dfguanyuan['PRES']), skew(dfguanyuan['DEWP']),\n",
        "    skew(dfguanyuan['RAIN']), skew(dfguanyuan['WSPM'])], 3) #Kota Guanyuan\n",
        "cenryguc = np.round([skew(dfgucheng['PM2.5']), skew(dfgucheng['PM10']),\n",
        "    skew(dfgucheng['SO2']), skew(dfgucheng['NO2']), skew(dfgucheng['CO']), skew(dfgucheng['O3']),\n",
        "    skew(dfgucheng['TEMP']), skew(dfgucheng['PRES']), skew(dfgucheng['DEWP']),\n",
        "    skew(dfgucheng['RAIN']), skew(dfgucheng['WSPM'])], 3) #Kota Gucheng\n",
        "cenryhua = np.round([skew(dfhuairou['PM2.5']), skew(dfhuairou['PM10']),\n",
        "    skew(dfhuairou['SO2']), skew(dfhuairou['NO2']), skew(dfhuairou['CO']), skew(dfhuairou['O3']),\n",
        "    skew(dfhuairou['TEMP']), skew(dfhuairou['PRES']), skew(dfhuairou['DEWP']),\n",
        "    skew(dfhuairou['RAIN']), skew(dfhuairou['WSPM'])], 3) #Kota Huairou\n",
        "cenrynon = np.round([skew(dfnonzhanguan['PM2.5']), skew(dfnonzhanguan['PM10']),\n",
        "    skew(dfnonzhanguan['SO2']), skew(dfnonzhanguan['NO2']), skew(dfnonzhanguan['CO']),\n",
        "    skew(dfnonzhanguan['O3']), skew(dfnonzhanguan['TEMP']), skew(dfnonzhanguan['PRES']), skew(dfnonzhanguan['DEWP']),\n",
        "    skew(dfnonzhanguan['RAIN']), skew(dfnonzhanguan['WSPM'])], 3) #Kota Nonzhanguan\n",
        "cenrysh = np.round([skew(dfshunyi['PM2.5']), skew(dfshunyi['PM10']),\n",
        "    skew(dfshunyi['SO2']), skew(dfshunyi['NO2']), skew(dfshunyi['CO']), skew(dfshunyi['O3']),\n",
        "    skew(dfshunyi['TEMP']), skew(dfshunyi['PRES']), skew(dfshunyi['DEWP']),\n",
        "    skew(dfshunyi['RAIN']), skew(dfshunyi['WSPM'])], 3) # Kota Shunyi\n",
        "cenrytia = np.round([skew(dftiantan['PM2.5']), skew(dftiantan['PM10']),\n",
        "    skew(dftiantan['SO2']), skew(dftiantan['NO2']), skew(dftiantan['CO']), skew(dftiantan['O3']),\n",
        "    skew(dftiantan['TEMP']), skew(dftiantan['PRES']), skew(dftiantan['DEWP']),\n",
        "    skew(dftiantan['RAIN']), skew(dftiantan['WSPM'])], 3) # Kota Tiantan\n",
        "cenrywal = np.round([skew(dfwanliu['PM2.5']), skew(dfwanliu['PM10']),\n",
        "    skew(dfwanliu['SO2']), skew(dfwanliu['NO2']), skew(dfwanliu['CO']), skew(dfwanliu['O3']),\n",
        "    skew(dfwanliu['TEMP']), skew(dfwanliu['PRES']), skew(dfwanliu['DEWP']),\n",
        "    skew(dfwanliu['RAIN']), skew(dfwanliu['WSPM'])], 3) # Kota Wanliu\n",
        "cenrywax = np.round([skew(dfwanshouxigong['PM2.5']), skew(dfwanshouxigong['PM10']),\n",
        "    skew(dfwanshouxigong['SO2']), skew(dfwanshouxigong['NO2']), skew(dfwanshouxigong['CO']),\n",
        "    skew(dfwanshouxigong['SO2']), skew(dfwanshouxigong['TEMP']), skew(dfwanshouxigong['PRES']), skew(dfwanshouxigong['DEWP']),\n",
        "    skew(dfwanshouxigong['RAIN']), skew(dfwanshouxigong['WSPM'])], 3) # Kota Wanshouxigong\n",
        "\n",
        "cenray = {\n",
        "    'inspeksi PM2.5' : [cenrayao[0], cenrych[0], cenryling[0], cenrydong[0], cenrygua[0], cenryguc[0], cenryhua[0], cenrynon[0], cenrysh[0], cenrytia[0], cenrywal[0], cenrywax[0]],\n",
        "    'inspeksi PM10' : [cenrayao[1], cenrych[1], cenryling[1], cenrydong[1], cenrygua[1], cenryguc[1], cenryhua[1], cenrynon[1], cenrysh[1], cenrytia[1], cenrywal[1], cenrywax[1]],\n",
        "    'inspeksi SO2' : [cenrayao[2], cenrych[2], cenryling[2], cenrydong[2], cenrygua[2],cenryguc[2], cenryhua[2], cenrynon[2], cenrysh[2], cenrytia[2], cenrywal[2], cenrywax[2]],\n",
        "    'inspeksi NO2' : [cenrayao[3], cenrych[3], cenryling[3], cenrydong[3], cenrygua[3],cenryguc[3], cenryhua[3], cenrynon[3], cenrysh[3], cenrytia[3], cenrywal[3], cenrywax[3]],\n",
        "    'inspeksi CO' : [cenrayao[4], cenrych[4], cenryling[4], cenrydong[4], cenrygua[4],cenryguc[4], cenryhua[4], cenrynon[4], cenrysh[4], cenrytia[4], cenrywal[4], cenrywax[4]],\n",
        "    'inspeksi O3' : [cenrayao[5], cenrych[5], cenryling[5], cenrydong[5], cenrygua[5],cenryguc[5], cenryhua[5], cenrynon[5], cenrysh[5], cenrytia[5], cenrywal[5], cenrywax[5]],\n",
        "    'inspeksi nilai suhu' : [cenrayao[6], cenrych[6], cenryling[6], cenrydong[6], cenrygua[6],cenryguc[6], cenryhua[6], cenrynon[6], cenrysh[6], cenrytia[6], cenrywal[6], cenrywax[6]],\n",
        "    'inspeksi nilai tekanan' : [cenrayao[7], cenrych[7], cenryling[7], cenrydong[7], cenrygua[7],cenryguc[7], cenryhua[7], cenrynon[7], cenrysh[7], cenrytia[7], cenrywal[7], cenrywax[7]],\n",
        "    'inspeksi nilai poin dew' : [cenrayao[8], cenrych[8], cenryling[8], cenrydong[8], cenrygua[8],cenryguc[8], cenryhua[8], cenrynon[8], cenrysh[8], cenrytia[8], cenrywal[8], cenrywax[8]],\n",
        "    'inspeksi nilai hujan' : [cenrayao[9], cenrych[9], cenryling[9], cenrydong[9], cenrygua[9], cenryguc[9], cenryhua[9], cenrynon[9], cenrysh[9], cenrytia[9], cenrywal[9], cenrywax[9]],\n",
        "    'inspeksi kecepatan angin' : [cenrayao[10], cenrych[10], cenryling[10], cenrydong[10], cenrygua[10], cenryguc[10], cenryhua[10], cenrynon[10], cenrysh[10], cenrytia[10], cenrywal[10], cenrywax[10]]\n",
        "}\n",
        "\n"
      ],
      "metadata": {
        "id": "NFlSqVMEvoPb"
      },
      "execution_count": 17,
      "outputs": []
    },
    {
      "cell_type": "code",
      "source": [
        "\"\"\"\n",
        "#pemeriksaan data kosong (dari Aotizhongxing sampai Wanshouxigong)\n",
        "#dfaotizhongxin.info()\n",
        "#persiapan pemeriksana ukuran partikulat (aotizhongxin)\n",
        "# Ukuran grafik pertama\n",
        "plt.figure(figsize=(19, 8))\n",
        "\n",
        "# Grafik histograms untuk PM2.5 di semua kota\n",
        "sns.histplot(dfaotizhongxin['PM2.5'], bins=30, kde=True, color='skyblue', label='PM2.5 di Aotizhongxin', alpha=0.6)\n",
        "# Kota Changping\n",
        "sns.histplot(dfchangping['PM2.5'], bins=30, kde=True, color='black', label='PM2.5 di Changping', alpha=0.35)\n",
        "#area Dingling\n",
        "sns.histplot(dfdingling['PM2.5'], bins=30, kde=True, color='pink', label='PM2.5 di Dingling', alpha=0.75)\n",
        "#area Dongsi\n",
        "sns.histplot(dfdongsi['PM2.5'], bins=30, kde=True, color='violet', label='PM2.5 di Dongsi', alpha=0.75)\n",
        "#Area Guanyuan\n",
        "sns.histplot(dfguanyuan['PM2.5'], bins=30, kde=True, color='darkviolet', label='PM2.5 di Guanyuan', alpha=0.25)\n",
        "#Area Guchen\n",
        "sns.histplot(dfgucheng['PM2.5'], bins=30, kde=True, color='green', label='PM2.5 di Gucheng', alpha=1.0)\n",
        "#Area Huatiou\n",
        "sns.histplot(dfhuairou['PM2.5'], bins=30, kde=True, color='red', label='PM2.5 di Gucheng', alpha=0.20)\n",
        "#Area Nonzhanguan\n",
        "sns.histplot(dfnonzhanguan['PM2.5'], bins=30, kde=True, color='orange', label='PM2.5 di Nonzhanguan', alpha=0.53)\n",
        "#Area Shunyi\n",
        "sns.histplot(dfshunyi['PM2.5'], bins=30, kde=True, color='teal', label='PM2.5 di Shunyi', alpha=0.45)\n",
        "#Area Tiantan\n",
        "sns.histplot(dftiantan['PM2.5'], bins=30, kde=True, color='white', label='PM2.5 di Tiantan', alpha=0.55)\n",
        "#Area Wanliu\n",
        "sns.histplot(dfwanliu['PM2.5'], bins=30, kde=True, color='grey', label='PM2.5 di Wanliu', alpha=0.95)\n",
        "#Area Wanshouxigong\n",
        "sns.histplot(dfwanshouxigong['PM2.5'], bins=30, kde=True, color='blue', label='PM2.5 di Wanshouxigong', alpha=0.70)\n",
        "\n",
        "\n",
        "# Penambahan legenda\n",
        "plt.legend(loc='upper right', fontsize='medium')\n",
        "\n",
        "# Judul grafik kedua\n",
        "plt.title('Distribusi PM2.5 di semua kota', fontsize=20)\n",
        "plt.xlabel('Ukuran partikulat (µg/m³)', fontsize=18)\n",
        "plt.ylabel('Frekuensi Data', fontsize=18)\n",
        "\n",
        "#Bagian dua untuk pemeriksaan kecundrangan di ukuran 10M\n",
        "plt.figure(figsize=(19, 8))\n",
        "#pemeriksan seaborn\n",
        "sns.histplot(dfaotizhongxin['PM10'], bins=30, kde=True, color='orange', label='PM10 di Aotizhongxin', alpha=0.6)\n",
        "#Changping\n",
        "sns.histplot(dfchangping['PM10'], bins=30, kde=True, color='red', label='PM10 di Changping', alpha=0.35)\n",
        "#Dingling\n",
        "sns.histplot(dfdingling['PM10'], bins=30, kde=True, color='darkblue', label='PM10 di Dingling', alpha=0.75)\n",
        "#Dongsi\n",
        "sns.histplot(dfdongsi['PM10'], bins=30, kde=True, color='grey', label='PM10 di Dongsi', alpha=0.75)\n",
        "#Guanyuan\n",
        "sns.histplot(dfguanyuan['PM10'], bins=30, kde=True, color='black', label='PM10 di Guanyuan', alpha=0.25)\n",
        "#Gucheng\n",
        "sns.histplot(dfgucheng['PM2.5'], bins=30, kde=True, color='blue', label='PM10 di Gucheng', alpha=1.0)\n",
        "#Huairou\n",
        "sns.histplot(dfhuairou['PM10'], bins=30, kde=True, color='pink', label='PM10 di Huairou', alpha=0.30)\n",
        "#Area Nonzhanguan\n",
        "sns.histplot(dfnonzhanguan['PM10'], bins=30, kde=True, color='orange', label='PM2.5 di Nonzhanguan', alpha=0.60)\n",
        "#Area Shunyi\n",
        "sns.histplot(dfshunyi['PM10'], bins=30, kde=True, color='green', label='PM2.5 di Shunyi', alpha=0.65)\n",
        "#Area Tiantan\n",
        "sns.histplot(dftiantan['PM10'], bins=30, kde=True, color='violet', label='PM2.5 di Tiantan', alpha=0.55)\n",
        "#Area Wanliu\n",
        "sns.histplot(dfwanliu['PM10'], bins=30, kde=True, color='white', label='PM2.5 di Wanliu', alpha=0.95)\n",
        "#Area Wanshouxigong\n",
        "sns.histplot(dfwanshouxigong['PM10'], bins=30, kde=True, color='yellow', label='PM2.5 di Wanshouxigong', alpha=0.60)\n",
        "\n",
        "# Penambahan legenda\n",
        "plt.legend(loc='upper right', fontsize='medium')\n",
        "\n",
        "# Judul grafik\n",
        "plt.title('Distibusi PM10 di semua kota', fontsize=20)\n",
        "plt.xlabel('Ukuran partikulat (µg/m³)', fontsize=18)\n",
        "plt.ylabel('Frekuensi Data', fontsize=18)\n",
        "\"\"\"\n",
        "#Untuk pemeriksaan kadar SO2 dan NO2\n",
        "\"\"\"\n",
        "#pemeriksaan konsentrasi senyawa SO2 dan NO2\n",
        "# Ukuran grafik pertama\n",
        "plt.figure(figsize=(19, 8))\n",
        "\n",
        "# Grafik histograms untuk PM2.5 di semua kota\n",
        "sns.histplot(dfaotizhongxin['SO2'], bins=30, kde=True, color='skyblue', label='kadar SO2 di Aotizhongxin', alpha=0.6)\n",
        "# Kota Changping\n",
        "sns.histplot(dfchangping['SO2'], bins=30, kde=True, color='black', label='kadar SO2 di Changping', alpha=0.35)\n",
        "#area Dingling\n",
        "sns.histplot(dfdingling['SO2'], bins=30, kde=True, color='pink', label='kadar SO2 di Dingling', alpha=0.75)\n",
        "#area Dongsi\n",
        "sns.histplot(dfdongsi['SO2'], bins=30, kde=True, color='violet', label='kadar SO2 di Dongsi', alpha=0.75)\n",
        "#Area Guanyuan\n",
        "sns.histplot(dfguanyuan['SO2'], bins=30, kde=True, color='darkviolet', label='kadar SO2 di Guanyuan', alpha=0.25)\n",
        "#Area Guchen\n",
        "sns.histplot(dfgucheng['SO2'], bins=30, kde=True, color='green', label='kadar SO2 di Gucheng', alpha=1.0)\n",
        "#Area Huatiou\n",
        "sns.histplot(dfhuairou['SO2'], bins=30, kde=True, color='red', label='kadar SO2 di Gucheng', alpha=0.20)\n",
        "#Area Nonzhanguan\n",
        "sns.histplot(dfnonzhanguan['SO2'], bins=30, kde=True, color='orange', label='kadar SO2 di Nonzhanguan', alpha=0.53)\n",
        "#Area Shunyi\n",
        "sns.histplot(dfshunyi['SO2'], bins=30, kde=True, color='teal', label='kadar SO2 di Shunyi', alpha=0.45)\n",
        "#Area Tiantan\n",
        "sns.histplot(dftiantan['SO2'], bins=30, kde=True, color='white', label='kadar SO2 di Tiantan', alpha=0.55)\n",
        "#Area Wanliu\n",
        "sns.histplot(dfwanliu['SO2'], bins=30, kde=True, color='grey', label='kadar SO2 di Wanliu', alpha=0.95)\n",
        "#Area Wanshouxigong\n",
        "sns.histplot(dfwanshouxigong['SO2'], bins=30, kde=True, color='blue', label='kadar SO2 di Wanshouxigong', alpha=0.70)\n",
        "\n",
        "\n",
        "# Penambahan legenda\n",
        "plt.legend(loc='upper right', fontsize='medium')\n",
        "\n",
        "# Judul grafik kedua\n",
        "plt.title('Distribusi kadar SO2 di semua kota', fontsize=20)\n",
        "plt.xlabel('Ukuran partikulat (µg/m³)', fontsize=18)\n",
        "plt.ylabel('Frekuensi Data', fontsize=18)\n",
        "\n",
        "#Bagian dua untuk pemeriksaan kecundrangan di Kadar NO2\n",
        "plt.figure(figsize=(19, 8))\n",
        "#pemeriksan seaborn\n",
        "sns.histplot(dfaotizhongxin['NO2'], bins=30, kde=True, color='orange', label='kadar NO2 di Aotizhongxin', alpha=0.6)\n",
        "#Changping\n",
        "sns.histplot(dfchangping['NO2'], bins=30, kde=True, color='red', label='kadar NO2 di Changping', alpha=0.35)\n",
        "#Dingling\n",
        "sns.histplot(dfdingling['NO2'], bins=30, kde=True, color='darkblue', label='PM10 di Dingling', alpha=0.75)\n",
        "#Dongsi\n",
        "sns.histplot(dfdongsi['NO2'], bins=30, kde=True, color='grey', label='PM10 di Dongsi', alpha=0.75)\n",
        "#Guanyuan\n",
        "sns.histplot(dfguanyuan['NO2'], bins=30, kde=True, color='black', label='PM10 di Guanyuan', alpha=0.25)\n",
        "#Gucheng\n",
        "sns.histplot(dfgucheng['NO2'], bins=30, kde=True, color='blue', label='PM10 di Gucheng', alpha=1.0)\n",
        "#Huairou\n",
        "sns.histplot(dfhuairou['NO2'], bins=30, kde=True, color='pink', label='PM10 di Huairou', alpha=0.30)\n",
        "#Area Nonzhanguan\n",
        "sns.histplot(dfnonzhanguan['NO2'], bins=30, kde=True, color='orange', label='kadar NO2 di Nonzhanguan', alpha=0.60)\n",
        "#Area Shunyi\n",
        "sns.histplot(dfshunyi['NO2'], bins=30, kde=True, color='green', label='kadar NO2 di Shunyi', alpha=0.65)\n",
        "#Area Tiantan\n",
        "sns.histplot(dftiantan['NO2'], bins=30, kde=True, color='violet', label='kadar NO2 di Tiantan', alpha=0.55)\n",
        "#Area Wanliu\n",
        "sns.histplot(dfwanliu['NO2'], bins=30, kde=True, color='white', label='kadar NO2 di Wanliu', alpha=0.95)\n",
        "#Area Wanshouxigong\n",
        "sns.histplot(dfwanshouxigong['NO2'], bins=30, kde=True, color='yellow', label='Kadar NO2 di Wanshouxigong', alpha=0.60)\n",
        "\n",
        "# Penambahan legenda\n",
        "plt.legend(loc='upper right', fontsize='medium')\n",
        "\n",
        "# Judul grafik\n",
        "plt.title('Distibusi kadar NO2 semua kota', fontsize=20)\n",
        "plt.xlabel('Ukuran partikulat (µg/m³)', fontsize=18)\n",
        "plt.ylabel('Frekuensi Data', fontsize=18)\n",
        "\"\"\""
      ],
      "metadata": {
        "id": "JotSXVU5zS0t",
        "colab": {
          "base_uri": "https://localhost:8080/",
          "height": 104
        },
        "outputId": "d680a684-35c8-4863-be74-686873a355bd"
      },
      "execution_count": 18,
      "outputs": [
        {
          "output_type": "execute_result",
          "data": {
            "text/plain": [
              "\"\\n#pemeriksaan konsentrasi senyawa SO2 dan NO2\\n# Ukuran grafik pertama\\nplt.figure(figsize=(19, 8))\\n\\n# Grafik histograms untuk PM2.5 di semua kota\\nsns.histplot(dfaotizhongxin['SO2'], bins=30, kde=True, color='skyblue', label='kadar SO2 di Aotizhongxin', alpha=0.6)\\n# Kota Changping\\nsns.histplot(dfchangping['SO2'], bins=30, kde=True, color='black', label='kadar SO2 di Changping', alpha=0.35)\\n#area Dingling\\nsns.histplot(dfdingling['SO2'], bins=30, kde=True, color='pink', label='kadar SO2 di Dingling', alpha=0.75)\\n#area Dongsi\\nsns.histplot(dfdongsi['SO2'], bins=30, kde=True, color='violet', label='kadar SO2 di Dongsi', alpha=0.75)\\n#Area Guanyuan\\nsns.histplot(dfguanyuan['SO2'], bins=30, kde=True, color='darkviolet', label='kadar SO2 di Guanyuan', alpha=0.25)\\n#Area Guchen\\nsns.histplot(dfgucheng['SO2'], bins=30, kde=True, color='green', label='kadar SO2 di Gucheng', alpha=1.0)\\n#Area Huatiou\\nsns.histplot(dfhuairou['SO2'], bins=30, kde=True, color='red', label='kadar SO2 di Gucheng', alpha=0.20)\\n#Area Nonzhanguan\\nsns.histplot(dfnonzhanguan['SO2'], bins=30, kde=True, color='orange', label='kadar SO2 di Nonzhanguan', alpha=0.53)\\n#Area Shunyi\\nsns.histplot(dfshunyi['SO2'], bins=30, kde=True, color='teal', label='kadar SO2 di Shunyi', alpha=0.45)\\n#Area Tiantan\\nsns.histplot(dftiantan['SO2'], bins=30, kde=True, color='white', label='kadar SO2 di Tiantan', alpha=0.55)\\n#Area Wanliu\\nsns.histplot(dfwanliu['SO2'], bins=30, kde=True, color='grey', label='kadar SO2 di Wanliu', alpha=0.95)\\n#Area Wanshouxigong\\nsns.histplot(dfwanshouxigong['SO2'], bins=30, kde=True, color='blue', label='kadar SO2 di Wanshouxigong', alpha=0.70)\\n\\n\\n# Penambahan legenda\\nplt.legend(loc='upper right', fontsize='medium')\\n\\n# Judul grafik kedua\\nplt.title('Distribusi kadar SO2 di semua kota', fontsize=20)\\nplt.xlabel('Ukuran partikulat (µg/m³)', fontsize=18)\\nplt.ylabel('Frekuensi Data', fontsize=18)\\n\\n#Bagian dua untuk pemeriksaan kecundrangan di Kadar NO2\\nplt.figure(figsize=(19, 8))\\n#pemeriksan seaborn\\nsns.histplot(dfaotizhongxin['NO2'], bins=30, kde=True, color='orange', label='kadar NO2 di Aotizhongxin', alpha=0.6)\\n#Changping\\nsns.histplot(dfchangping['NO2'], bins=30, kde=True, color='red', label='kadar NO2 di Changping', alpha=0.35)\\n#Dingling\\nsns.histplot(dfdingling['NO2'], bins=30, kde=True, color='darkblue', label='PM10 di Dingling', alpha=0.75)\\n#Dongsi\\nsns.histplot(dfdongsi['NO2'], bins=30, kde=True, color='grey', label='PM10 di Dongsi', alpha=0.75)\\n#Guanyuan\\nsns.histplot(dfguanyuan['NO2'], bins=30, kde=True, color='black', label='PM10 di Guanyuan', alpha=0.25)\\n#Gucheng\\nsns.histplot(dfgucheng['NO2'], bins=30, kde=True, color='blue', label='PM10 di Gucheng', alpha=1.0)\\n#Huairou\\nsns.histplot(dfhuairou['NO2'], bins=30, kde=True, color='pink', label='PM10 di Huairou', alpha=0.30)\\n#Area Nonzhanguan\\nsns.histplot(dfnonzhanguan['NO2'], bins=30, kde=True, color='orange', label='kadar NO2 di Nonzhanguan', alpha=0.60)\\n#Area Shunyi\\nsns.histplot(dfshunyi['NO2'], bins=30, kde=True, color='green', label='kadar NO2 di Shunyi', alpha=0.65)\\n#Area Tiantan\\nsns.histplot(dftiantan['NO2'], bins=30, kde=True, color='violet', label='kadar NO2 di Tiantan', alpha=0.55)\\n#Area Wanliu\\nsns.histplot(dfwanliu['NO2'], bins=30, kde=True, color='white', label='kadar NO2 di Wanliu', alpha=0.95)\\n#Area Wanshouxigong\\nsns.histplot(dfwanshouxigong['NO2'], bins=30, kde=True, color='yellow', label='Kadar NO2 di Wanshouxigong', alpha=0.60)\\n\\n# Penambahan legenda\\nplt.legend(loc='upper right', fontsize='medium')\\n\\n# Judul grafik\\nplt.title('Distibusi kadar NO2 semua kota', fontsize=20)\\nplt.xlabel('Ukuran partikulat (µg/m³)', fontsize=18)\\nplt.ylabel('Frekuensi Data', fontsize=18)\\n\""
            ],
            "application/vnd.google.colaboratory.intrinsic+json": {
              "type": "string"
            }
          },
          "metadata": {},
          "execution_count": 18
        }
      ]
    },
    {
      "cell_type": "code",
      "source": [
        "\"\"\"\n",
        "#Bagian pemeriksaan distribusi CO dan O3\n",
        "# Ukuran grafik pertama\n",
        "plt.figure(figsize=(19, 8))\n",
        "\n",
        "# Grafik histograms untuk PM2.5 di semua kota\n",
        "sns.histplot(dfaotizhongxin['CO'], bins=30, kde=True, color='skyblue', label='kadar CO2 di Aotizhongxin', alpha=0.6)\n",
        "# Kota Changping\n",
        "sns.histplot(dfchangping['CO'], bins=30, kde=True, color='black', label='kadar CO2 di Changping', alpha=0.35)\n",
        "#area Dingling\n",
        "sns.histplot(dfdingling['CO'], bins=30, kde=True, color='pink', label='kadar SO2 di Dingling', alpha=0.75)\n",
        "#area Dongsi\n",
        "sns.histplot(dfdongsi['CO'], bins=30, kde=True, color='violet', label='kadar CO2 di Dongsi', alpha=0.75)\n",
        "#Area Guanyuan\n",
        "sns.histplot(dfguanyuan['CO'], bins=30, kde=True, color='darkviolet', label='kadar SO2 di Guanyuan', alpha=0.25)\n",
        "#Area Guchen\n",
        "sns.histplot(dfgucheng['CO'], bins=30, kde=True, color='green', label='kadar SO2 di Gucheng', alpha=1.0)\n",
        "#Area Huatiou\n",
        "sns.histplot(dfhuairou['CO'], bins=30, kde=True, color='red', label='kadar SO2 di Gucheng', alpha=0.20)\n",
        "#Area Nonzhanguan\n",
        "sns.histplot(dfnonzhanguan['CO'], bins=30, kde=True, color='orange', label='kadar SO2 di Nonzhanguan', alpha=0.53)\n",
        "#Area Shunyi\n",
        "sns.histplot(dfshunyi['CO'], bins=30, kde=True, color='teal', label='kadar SO2 di Shunyi', alpha=0.45)\n",
        "#Area Tiantan\n",
        "sns.histplot(dftiantan['CO'], bins=30, kde=True, color='white', label='kadar SO2 di Tiantan', alpha=0.55)\n",
        "#Area Wanliu\n",
        "sns.histplot(dfwanliu['CO'], bins=30, kde=True, color='grey', label='kadar SO2 di Wanliu', alpha=0.95)\n",
        "#Area Wanshouxigong\n",
        "sns.histplot(dfwanshouxigong['CO'], bins=30, kde=True, color='blue', label='kadar SO2 di Wanshouxigong', alpha=0.70)\n",
        "\n",
        "\n",
        "# Penambahan legenda\n",
        "plt.legend(loc='upper right', fontsize='medium')\n",
        "\n",
        "# Judul grafik kedua\n",
        "plt.title('Distribusi kadar gas CO di semua kota', fontsize=20)\n",
        "plt.xlabel('Ukuran partikulat (µg/m³)', fontsize=18)\n",
        "plt.ylabel('Frekuensi Data', fontsize=18)\n",
        "\n",
        "#Bagian dua untuk pemeriksaan kecundrangan di kadar Ozon\n",
        "plt.figure(figsize=(19, 8))\n",
        "#pemeriksan seaborn\n",
        "sns.histplot(dfaotizhongxin['O3'], bins=30, kde=True, color='orange', label='kadar ozon di Aotizhongxin', alpha=0.6)\n",
        "#Changping\n",
        "sns.histplot(dfchangping['O3'], bins=30, kde=True, color='red', label='kadar ozon di Changping', alpha=0.35)\n",
        "#Dingling\n",
        "sns.histplot(dfdingling['O3'], bins=30, kde=True, color='darkblue', label='kadar ozon di Dingling', alpha=0.75)\n",
        "#Dongsi\n",
        "sns.histplot(dfdongsi['O3'], bins=30, kde=True, color='grey', label='kadar ozon di Dongsi', alpha=0.75)\n",
        "#Guanyuan\n",
        "sns.histplot(dfguanyuan['O3'], bins=30, kde=True, color='black', label='kadar ozon di Guanyuan', alpha=0.25)\n",
        "#Gucheng\n",
        "sns.histplot(dfgucheng['O3'], bins=30, kde=True, color='blue', label='kadar ozon di Gucheng', alpha=1.0)\n",
        "#Huairou\n",
        "sns.histplot(dfhuairou['O3'], bins=30, kde=True, color='pink', label='kadar ozon di Huairou', alpha=0.30)\n",
        "#Area Nonzhanguan\n",
        "sns.histplot(dfnonzhanguan['O3'], bins=30, kde=True, color='orange', label='kadar ozon di Nonzhanguan', alpha=0.60)\n",
        "#Area Shunyi\n",
        "sns.histplot(dfshunyi['O3'], bins=30, kde=True, color='green', label='kadar ozon di Shunyi', alpha=0.65)\n",
        "#Area Tiantan\n",
        "sns.histplot(dftiantan['O3'], bins=30, kde=True, color='violet', label='kadar ozon di Tiantan', alpha=0.55)\n",
        "#Area Wanliu\n",
        "sns.histplot(dfwanliu['O3'], bins=30, kde=True, color='white', label='kadar ozon di Wanliu', alpha=0.95)\n",
        "#Area Wanshouxigong\n",
        "sns.histplot(dfwanshouxigong['O3'], bins=30, kde=True, color='yellow', label='Kadar ozon di Wanshouxigong', alpha=0.60)\n",
        "\n",
        "# Penambahan legenda\n",
        "plt.legend(loc='upper right', fontsize='medium')\n",
        "\n",
        "# Judul grafik\n",
        "plt.title('Distibusi kadar ozon di semua kota', fontsize=20)\n",
        "plt.xlabel('Ukuran partikulat (µg/m³)', fontsize=18)\n",
        "plt.ylabel('Frekuensi Data', fontsize=18)\n",
        "\"\"\""
      ],
      "metadata": {
        "id": "eGuqGNYtqsJr",
        "colab": {
          "base_uri": "https://localhost:8080/",
          "height": 104
        },
        "outputId": "99f6e6f5-2d7d-481e-cb0b-c681c460ab64"
      },
      "execution_count": 19,
      "outputs": [
        {
          "output_type": "execute_result",
          "data": {
            "text/plain": [
              "\"\\n#Bagian pemeriksaan distribusi CO dan O3\\n# Ukuran grafik pertama\\nplt.figure(figsize=(19, 8))\\n\\n# Grafik histograms untuk PM2.5 di semua kota\\nsns.histplot(dfaotizhongxin['CO'], bins=30, kde=True, color='skyblue', label='kadar CO2 di Aotizhongxin', alpha=0.6)\\n# Kota Changping\\nsns.histplot(dfchangping['CO'], bins=30, kde=True, color='black', label='kadar CO2 di Changping', alpha=0.35)\\n#area Dingling\\nsns.histplot(dfdingling['CO'], bins=30, kde=True, color='pink', label='kadar SO2 di Dingling', alpha=0.75)\\n#area Dongsi\\nsns.histplot(dfdongsi['CO'], bins=30, kde=True, color='violet', label='kadar CO2 di Dongsi', alpha=0.75)\\n#Area Guanyuan\\nsns.histplot(dfguanyuan['CO'], bins=30, kde=True, color='darkviolet', label='kadar SO2 di Guanyuan', alpha=0.25)\\n#Area Guchen\\nsns.histplot(dfgucheng['CO'], bins=30, kde=True, color='green', label='kadar SO2 di Gucheng', alpha=1.0)\\n#Area Huatiou\\nsns.histplot(dfhuairou['CO'], bins=30, kde=True, color='red', label='kadar SO2 di Gucheng', alpha=0.20)\\n#Area Nonzhanguan\\nsns.histplot(dfnonzhanguan['CO'], bins=30, kde=True, color='orange', label='kadar SO2 di Nonzhanguan', alpha=0.53)\\n#Area Shunyi\\nsns.histplot(dfshunyi['CO'], bins=30, kde=True, color='teal', label='kadar SO2 di Shunyi', alpha=0.45)\\n#Area Tiantan\\nsns.histplot(dftiantan['CO'], bins=30, kde=True, color='white', label='kadar SO2 di Tiantan', alpha=0.55)\\n#Area Wanliu\\nsns.histplot(dfwanliu['CO'], bins=30, kde=True, color='grey', label='kadar SO2 di Wanliu', alpha=0.95)\\n#Area Wanshouxigong\\nsns.histplot(dfwanshouxigong['CO'], bins=30, kde=True, color='blue', label='kadar SO2 di Wanshouxigong', alpha=0.70)\\n\\n\\n# Penambahan legenda\\nplt.legend(loc='upper right', fontsize='medium')\\n\\n# Judul grafik kedua\\nplt.title('Distribusi kadar gas CO di semua kota', fontsize=20)\\nplt.xlabel('Ukuran partikulat (µg/m³)', fontsize=18)\\nplt.ylabel('Frekuensi Data', fontsize=18)\\n\\n#Bagian dua untuk pemeriksaan kecundrangan di kadar Ozon\\nplt.figure(figsize=(19, 8))\\n#pemeriksan seaborn\\nsns.histplot(dfaotizhongxin['O3'], bins=30, kde=True, color='orange', label='kadar ozon di Aotizhongxin', alpha=0.6)\\n#Changping\\nsns.histplot(dfchangping['O3'], bins=30, kde=True, color='red', label='kadar ozon di Changping', alpha=0.35)\\n#Dingling\\nsns.histplot(dfdingling['O3'], bins=30, kde=True, color='darkblue', label='kadar ozon di Dingling', alpha=0.75)\\n#Dongsi\\nsns.histplot(dfdongsi['O3'], bins=30, kde=True, color='grey', label='kadar ozon di Dongsi', alpha=0.75)\\n#Guanyuan\\nsns.histplot(dfguanyuan['O3'], bins=30, kde=True, color='black', label='kadar ozon di Guanyuan', alpha=0.25)\\n#Gucheng\\nsns.histplot(dfgucheng['O3'], bins=30, kde=True, color='blue', label='kadar ozon di Gucheng', alpha=1.0)\\n#Huairou\\nsns.histplot(dfhuairou['O3'], bins=30, kde=True, color='pink', label='kadar ozon di Huairou', alpha=0.30)\\n#Area Nonzhanguan\\nsns.histplot(dfnonzhanguan['O3'], bins=30, kde=True, color='orange', label='kadar ozon di Nonzhanguan', alpha=0.60)\\n#Area Shunyi\\nsns.histplot(dfshunyi['O3'], bins=30, kde=True, color='green', label='kadar ozon di Shunyi', alpha=0.65)\\n#Area Tiantan\\nsns.histplot(dftiantan['O3'], bins=30, kde=True, color='violet', label='kadar ozon di Tiantan', alpha=0.55)\\n#Area Wanliu\\nsns.histplot(dfwanliu['O3'], bins=30, kde=True, color='white', label='kadar ozon di Wanliu', alpha=0.95)\\n#Area Wanshouxigong\\nsns.histplot(dfwanshouxigong['O3'], bins=30, kde=True, color='yellow', label='Kadar ozon di Wanshouxigong', alpha=0.60)\\n\\n# Penambahan legenda\\nplt.legend(loc='upper right', fontsize='medium')\\n\\n# Judul grafik\\nplt.title('Distibusi kadar ozon di semua kota', fontsize=20)\\nplt.xlabel('Ukuran partikulat (µg/m³)', fontsize=18)\\nplt.ylabel('Frekuensi Data', fontsize=18)\\n\""
            ],
            "application/vnd.google.colaboratory.intrinsic+json": {
              "type": "string"
            }
          },
          "metadata": {},
          "execution_count": 19
        }
      ]
    },
    {
      "cell_type": "code",
      "source": [
        "\"\"\"\n",
        "#Pemeriksaan tempratur, tekanan, dan nilai tekanan poin dew\n",
        "# Ukuran grafik pertama (suhu)\n",
        "plt.figure(figsize=(19, 8))\n",
        "\n",
        "# Grafik histograms untuk PM2.5 di semua kota\n",
        "sns.histplot(dfaotizhongxin['TEMP'], bins=30, kde=True, color='skyblue', label='nilai suhu di Aotizhongxin', alpha=0.6)\n",
        "# Kota Changping\n",
        "sns.histplot(dfchangping['TEMP'], bins=30, kde=True, color='black', label='suhu di Changping', alpha=0.35)\n",
        "#area Dingling\n",
        "sns.histplot(dfdingling['TEMP'], bins=30, kde=True, color='pink', label='nilai suhu di Dingling', alpha=0.75)\n",
        "#area Dongsi\n",
        "sns.histplot(dfdongsi['TEMP'], bins=30, kde=True, color='violet', label='nilai suhu di Dongsi', alpha=0.75)\n",
        "#Area Guanyuan\n",
        "sns.histplot(dfguanyuan['TEMP'], bins=30, kde=True, color='darkviolet', label='nilai suhu di Guanyuan', alpha=0.25)\n",
        "#Area Guchen\n",
        "sns.histplot(dfgucheng['TEMP'], bins=30, kde=True, color='green', label='nilai suhu di Gucheng', alpha=1.0)\n",
        "#Area Huatiou\n",
        "sns.histplot(dfhuairou['TEMP'], bins=30, kde=True, color='red', label='nilai suhu di Gucheng', alpha=0.20)\n",
        "#Area Nonzhanguan\n",
        "sns.histplot(dfnonzhanguan['TEMP'], bins=30, kde=True, color='orange', label='nilai suhu di Nonzhanguan', alpha=0.53)\n",
        "#Area Shunyi\n",
        "sns.histplot(dfshunyi['TEMP'], bins=30, kde=True, color='teal', label='nilai suhu di Shunyi', alpha=0.45)\n",
        "#Area Tiantan\n",
        "sns.histplot(dftiantan['TEMP'], bins=30, kde=True, color='white', label='nilai suhu di Tiantan', alpha=0.55)\n",
        "#Area Wanliu\n",
        "sns.histplot(dfwanliu['TEMP'], bins=30, kde=True, color='grey', label='nilai suhu di Wanliu', alpha=0.95)\n",
        "#Area Wanshouxigong\n",
        "sns.histplot(dfwanshouxigong['TEMP'], bins=30, kde=True, color='blue', label='nilai suhu di Wanshouxigong', alpha=0.70)\n",
        "\n",
        "\n",
        "# Penambahan legenda\n",
        "plt.legend(loc='upper right', fontsize='medium')\n",
        "\n",
        "# Judul grafik pertama\n",
        "plt.title('Distribusi nilai suhu di semua kota', fontsize=20)\n",
        "plt.xlabel('Suhu udara (celsius)', fontsize=18)\n",
        "plt.ylabel('Frekuensi Data', fontsize=18)\n",
        "\n",
        "#Bagian dua untuk pemeriksaan kecundrangan di ukuran 10M\n",
        "plt.figure(figsize=(19, 8))\n",
        "#pemeriksan seaborn\n",
        "sns.histplot(dfaotizhongxin['PRES'], bins=30, kde=True, color='orange', label='nilai tekanan di Aotizhongxin', alpha=0.6)\n",
        "#Changping\n",
        "sns.histplot(dfchangping['PRES'], bins=30, kde=True, color='red', label='nilai tekanan di Changping', alpha=0.35)\n",
        "#Dingling\n",
        "sns.histplot(dfdingling['PRES'], bins=30, kde=True, color='darkblue', label='nilai tekanan di Dingling', alpha=0.75)\n",
        "#Dongsi\n",
        "sns.histplot(dfdongsi['PRES'], bins=30, kde=True, color='grey', label='nilai tekanan di Dongsi', alpha=0.75)\n",
        "#Guanyuan\n",
        "sns.histplot(dfguanyuan['PRES'], bins=30, kde=True, color='black', label='nilai tekanan di Guanyuan', alpha=0.25)\n",
        "#Gucheng\n",
        "sns.histplot(dfgucheng['PRES'], bins=30, kde=True, color='blue', label='nilai tekanan di Gucheng', alpha=1.0)\n",
        "#Huairou\n",
        "sns.histplot(dfhuairou['PRES'], bins=30, kde=True, color='pink', label='nilai tekanan di Huairou', alpha=0.30)\n",
        "#Area Nonzhanguan\n",
        "sns.histplot(dfnonzhanguan['PRES'], bins=30, kde=True, color='orange', label='nilai tekanan di Nonzhanguan', alpha=0.60)\n",
        "#Area Shunyi\n",
        "sns.histplot(dfshunyi['PRES'], bins=30, kde=True, color='green', label='nilai tekanan di Shunyi', alpha=0.65)\n",
        "#Area Tiantan\n",
        "sns.histplot(dftiantan['PRES'], bins=30, kde=True, color='violet', label='nilai tekanan di Tiantan', alpha=0.55)\n",
        "#Area Wanliu\n",
        "sns.histplot(dfwanliu['PRES'], bins=30, kde=True, color='white', label='nilai tekanan di Wanliu', alpha=0.95)\n",
        "#Area Wanshouxigong\n",
        "sns.histplot(dfwanshouxigong['PRES'], bins=30, kde=True, color='yellow', label='nilai tekanan di Wanshouxigong', alpha=0.60)\n",
        "\n",
        "# Penambahan legenda\n",
        "plt.legend(loc='upper right', fontsize='medium')\n",
        "\n",
        "# Judul grafik\n",
        "plt.title('Distibusi nilai tekanan semua kota', fontsize=20)\n",
        "plt.xlabel('Nilai tekanan (Hektopascal)', fontsize=18)\n",
        "plt.ylabel('Frekuensi Data', fontsize=18)\n",
        "\n",
        "#Kecendrungan di nilai tekanan DEW\n",
        "# Ukuran grafik pertama (suhu)\n",
        "plt.figure(figsize=(19, 8))\n",
        "\n",
        "# Grafik histograms untuk PM2.5 di semua kota\n",
        "sns.histplot(dfaotizhongxin['DEWP'], bins=30, kde=True, color='skyblue', label='nilai suhu dew di Aotizhongxin', alpha=0.6)\n",
        "# Kota Changping\n",
        "sns.histplot(dfchangping['DEWP'], bins=30, kde=True, color='black', label='nilai suhu dew di Changping', alpha=0.35)\n",
        "#area Dingling\n",
        "sns.histplot(dfdingling['DEWP'], bins=30, kde=True, color='pink', label='nilai suhu dew di Dingling', alpha=0.75)\n",
        "#area Dongsi\n",
        "sns.histplot(dfdongsi['DEWP'], bins=30, kde=True, color='violet', label='nilai suhu dew di Dongsi', alpha=0.75)\n",
        "#Area Guanyuan\n",
        "sns.histplot(dfguanyuan['DEWP'], bins=30, kde=True, color='darkviolet', label='nilai suhu dew di Guanyuan', alpha=0.25)\n",
        "#Area Guchen\n",
        "sns.histplot(dfgucheng['DEWP'], bins=30, kde=True, color='green', label='nilai suhu dew di Gucheng', alpha=1.0)\n",
        "#Area Huatiou\n",
        "sns.histplot(dfhuairou['DEWP'], bins=30, kde=True, color='red', label='nilai suhu dew di Gucheng', alpha=0.20)\n",
        "#Area Nonzhanguan\n",
        "sns.histplot(dfnonzhanguan['DEWP'], bins=30, kde=True, color='orange', label='nilai suhu dew di Nonzhanguan', alpha=0.53)\n",
        "#Area Shunyi\n",
        "sns.histplot(dfshunyi['DEWP'], bins=30, kde=True, color='teal', label='nilai suhu dew di Shunyi', alpha=0.45)\n",
        "#Area Tiantan\n",
        "sns.histplot(dftiantan['DEWP'], bins=30, kde=True, color='white', label='nilai suhu dew di Tiantan', alpha=0.55)\n",
        "#Area Wanliu\n",
        "sns.histplot(dfwanliu['DEWP'], bins=30, kde=True, color='grey', label='nilai suhu dew di Wanliu', alpha=0.95)\n",
        "#Area Wanshouxigong\n",
        "sns.histplot(dfwanshouxigong['DEWP'], bins=30, kde=True, color='blue', label='nilai suhu dew di Wanshouxigong', alpha=0.70)\n",
        "\n",
        "\n",
        "# Penambahan legenda\n",
        "plt.legend(loc='upper right', fontsize='medium')\n",
        "\n",
        "# Judul grafik kedua\n",
        "plt.title('Distribusi nilai suhu poin dew di semua kota', fontsize=20)\n",
        "plt.xlabel('Suhu udara (celsius)', fontsize=18)\n",
        "plt.ylabel('Frekuensi Data', fontsize=18)\n",
        "\"\"\""
      ],
      "metadata": {
        "id": "lOsFiqyCrhms",
        "colab": {
          "base_uri": "https://localhost:8080/",
          "height": 104
        },
        "outputId": "ee27a360-e3dc-42ea-a3c2-17e70c457e33"
      },
      "execution_count": 20,
      "outputs": [
        {
          "output_type": "execute_result",
          "data": {
            "text/plain": [
              "\"\\n#Pemeriksaan tempratur, tekanan, dan nilai tekanan poin dew\\n# Ukuran grafik pertama (suhu)\\nplt.figure(figsize=(19, 8))\\n\\n# Grafik histograms untuk PM2.5 di semua kota\\nsns.histplot(dfaotizhongxin['TEMP'], bins=30, kde=True, color='skyblue', label='nilai suhu di Aotizhongxin', alpha=0.6)\\n# Kota Changping\\nsns.histplot(dfchangping['TEMP'], bins=30, kde=True, color='black', label='suhu di Changping', alpha=0.35)\\n#area Dingling\\nsns.histplot(dfdingling['TEMP'], bins=30, kde=True, color='pink', label='nilai suhu di Dingling', alpha=0.75)\\n#area Dongsi\\nsns.histplot(dfdongsi['TEMP'], bins=30, kde=True, color='violet', label='nilai suhu di Dongsi', alpha=0.75)\\n#Area Guanyuan\\nsns.histplot(dfguanyuan['TEMP'], bins=30, kde=True, color='darkviolet', label='nilai suhu di Guanyuan', alpha=0.25)\\n#Area Guchen\\nsns.histplot(dfgucheng['TEMP'], bins=30, kde=True, color='green', label='nilai suhu di Gucheng', alpha=1.0)\\n#Area Huatiou\\nsns.histplot(dfhuairou['TEMP'], bins=30, kde=True, color='red', label='nilai suhu di Gucheng', alpha=0.20)\\n#Area Nonzhanguan\\nsns.histplot(dfnonzhanguan['TEMP'], bins=30, kde=True, color='orange', label='nilai suhu di Nonzhanguan', alpha=0.53)\\n#Area Shunyi\\nsns.histplot(dfshunyi['TEMP'], bins=30, kde=True, color='teal', label='nilai suhu di Shunyi', alpha=0.45)\\n#Area Tiantan\\nsns.histplot(dftiantan['TEMP'], bins=30, kde=True, color='white', label='nilai suhu di Tiantan', alpha=0.55)\\n#Area Wanliu\\nsns.histplot(dfwanliu['TEMP'], bins=30, kde=True, color='grey', label='nilai suhu di Wanliu', alpha=0.95)\\n#Area Wanshouxigong\\nsns.histplot(dfwanshouxigong['TEMP'], bins=30, kde=True, color='blue', label='nilai suhu di Wanshouxigong', alpha=0.70)\\n\\n\\n# Penambahan legenda\\nplt.legend(loc='upper right', fontsize='medium')\\n\\n# Judul grafik pertama\\nplt.title('Distribusi nilai suhu di semua kota', fontsize=20)\\nplt.xlabel('Suhu udara (celsius)', fontsize=18)\\nplt.ylabel('Frekuensi Data', fontsize=18)\\n\\n#Bagian dua untuk pemeriksaan kecundrangan di ukuran 10M\\nplt.figure(figsize=(19, 8))\\n#pemeriksan seaborn\\nsns.histplot(dfaotizhongxin['PRES'], bins=30, kde=True, color='orange', label='nilai tekanan di Aotizhongxin', alpha=0.6)\\n#Changping\\nsns.histplot(dfchangping['PRES'], bins=30, kde=True, color='red', label='nilai tekanan di Changping', alpha=0.35)\\n#Dingling\\nsns.histplot(dfdingling['PRES'], bins=30, kde=True, color='darkblue', label='nilai tekanan di Dingling', alpha=0.75)\\n#Dongsi\\nsns.histplot(dfdongsi['PRES'], bins=30, kde=True, color='grey', label='nilai tekanan di Dongsi', alpha=0.75)\\n#Guanyuan\\nsns.histplot(dfguanyuan['PRES'], bins=30, kde=True, color='black', label='nilai tekanan di Guanyuan', alpha=0.25)\\n#Gucheng\\nsns.histplot(dfgucheng['PRES'], bins=30, kde=True, color='blue', label='nilai tekanan di Gucheng', alpha=1.0)\\n#Huairou\\nsns.histplot(dfhuairou['PRES'], bins=30, kde=True, color='pink', label='nilai tekanan di Huairou', alpha=0.30)\\n#Area Nonzhanguan\\nsns.histplot(dfnonzhanguan['PRES'], bins=30, kde=True, color='orange', label='nilai tekanan di Nonzhanguan', alpha=0.60)\\n#Area Shunyi\\nsns.histplot(dfshunyi['PRES'], bins=30, kde=True, color='green', label='nilai tekanan di Shunyi', alpha=0.65)\\n#Area Tiantan\\nsns.histplot(dftiantan['PRES'], bins=30, kde=True, color='violet', label='nilai tekanan di Tiantan', alpha=0.55)\\n#Area Wanliu\\nsns.histplot(dfwanliu['PRES'], bins=30, kde=True, color='white', label='nilai tekanan di Wanliu', alpha=0.95)\\n#Area Wanshouxigong\\nsns.histplot(dfwanshouxigong['PRES'], bins=30, kde=True, color='yellow', label='nilai tekanan di Wanshouxigong', alpha=0.60)\\n\\n# Penambahan legenda\\nplt.legend(loc='upper right', fontsize='medium')\\n\\n# Judul grafik\\nplt.title('Distibusi nilai tekanan semua kota', fontsize=20)\\nplt.xlabel('Nilai tekanan (Hektopascal)', fontsize=18)\\nplt.ylabel('Frekuensi Data', fontsize=18)\\n\\n#Kecendrungan di nilai tekanan DEW\\n# Ukuran grafik pertama (suhu)\\nplt.figure(figsize=(19, 8))\\n\\n# Grafik histograms untuk PM2.5 di semua kota\\nsns.histplot(dfaotizhongxin['DEWP'], bins=30, kde=True, color='skyblue', label='nilai suhu dew di Aotizhongxin', alpha=0.6)\\n# Kota Changping\\nsns.histplot(dfchangping['DEWP'], bins=30, kde=True, color='black', label='nilai suhu dew di Changping', alpha=0.35)\\n#area Dingling\\nsns.histplot(dfdingling['DEWP'], bins=30, kde=True, color='pink', label='nilai suhu dew di Dingling', alpha=0.75)\\n#area Dongsi\\nsns.histplot(dfdongsi['DEWP'], bins=30, kde=True, color='violet', label='nilai suhu dew di Dongsi', alpha=0.75)\\n#Area Guanyuan\\nsns.histplot(dfguanyuan['DEWP'], bins=30, kde=True, color='darkviolet', label='nilai suhu dew di Guanyuan', alpha=0.25)\\n#Area Guchen\\nsns.histplot(dfgucheng['DEWP'], bins=30, kde=True, color='green', label='nilai suhu dew di Gucheng', alpha=1.0)\\n#Area Huatiou\\nsns.histplot(dfhuairou['DEWP'], bins=30, kde=True, color='red', label='nilai suhu dew di Gucheng', alpha=0.20)\\n#Area Nonzhanguan\\nsns.histplot(dfnonzhanguan['DEWP'], bins=30, kde=True, color='orange', label='nilai suhu dew di Nonzhanguan', alpha=0.53)\\n#Area Shunyi\\nsns.histplot(dfshunyi['DEWP'], bins=30, kde=True, color='teal', label='nilai suhu dew di Shunyi', alpha=0.45)\\n#Area Tiantan\\nsns.histplot(dftiantan['DEWP'], bins=30, kde=True, color='white', label='nilai suhu dew di Tiantan', alpha=0.55)\\n#Area Wanliu\\nsns.histplot(dfwanliu['DEWP'], bins=30, kde=True, color='grey', label='nilai suhu dew di Wanliu', alpha=0.95)\\n#Area Wanshouxigong\\nsns.histplot(dfwanshouxigong['DEWP'], bins=30, kde=True, color='blue', label='nilai suhu dew di Wanshouxigong', alpha=0.70)\\n\\n\\n# Penambahan legenda\\nplt.legend(loc='upper right', fontsize='medium')\\n\\n# Judul grafik kedua\\nplt.title('Distribusi nilai suhu poin dew di semua kota', fontsize=20)\\nplt.xlabel('Suhu udara (celsius)', fontsize=18)\\nplt.ylabel('Frekuensi Data', fontsize=18)\\n\""
            ],
            "application/vnd.google.colaboratory.intrinsic+json": {
              "type": "string"
            }
          },
          "metadata": {},
          "execution_count": 20
        }
      ]
    },
    {
      "cell_type": "markdown",
      "source": [
        "##Pemeriksaan Kecendrungan melalui plot kotak"
      ],
      "metadata": {
        "id": "5raah033vtZ8"
      }
    },
    {
      "cell_type": "code",
      "source": [
        "#Visualisasi plot kotak untuk ukuran partikulat (bagian penenada)\n",
        "aotizp = dfaotizhongxin[['PM2.5','PM10']]\n",
        "chanp = dfchangping[['PM2.5','PM10']]\n",
        "dinp = dfdingling[['PM2.5','PM10']]\n",
        "donp = dfdongsi[['PM2.5','PM10']]\n",
        "guap = dfguanyuan[['PM2.5','PM10']]\n",
        "gucp = dfgucheng[['PM2.5','PM10']]\n",
        "huap = dfhuairou[['PM2.5','PM10']]\n",
        "nonp = dfnonzhanguan[['PM2.5','PM10']]\n",
        "shyp = dfshunyi[['PM2.5','PM10']]\n",
        "tiap = dftiantan[['PM2.5','PM10']]\n",
        "wanp = dfwanliu[['PM2.5','PM10']]\n",
        "wxp = dfwanshouxigong[['PM2.5','PM10']]\n",
        "\n",
        "#kolom agregasi\n",
        "aggpm = pd.concat([aotizp, chanp, dinp, donp, guap, gucp, huap, nonp, shyp, tiap, wanp, wxp],\n",
        "                         keys=['Aotizhongxin', 'Changping', 'Dingling', 'Dongsi',\n",
        "                               'Guanyuan', 'Guchen', 'Huairo',\n",
        "                               'Nonzhanguan', 'Shunyi', 'Tiantan',\n",
        "                               'Wanliu', 'Wanshouxigong'])\n",
        "\n",
        "# pengindeksan ulang\n",
        "aggpm.reset_index(level=0, inplace=True)\n",
        "aggpm.rename(columns={'level_0': 'Kota'}, inplace=True)\n",
        "#peleburan dua dataframe\n",
        "dflebura = aggpm.melt(id_vars=['Kota'], value_vars=['PM2.5', 'PM10'],\n",
        "                              var_name='Pollutant', value_name='Nilai')\n",
        "#ilustrasi plot kotak untuk pencilan (area astetik)\n",
        "sns.set(style=\"whitegrid\")\n",
        "# Ilustrasi plot kotak\n",
        "plt.figure(figsize=(15, 7))\n",
        "sns.boxplot(x='Kota', y='Nilai', hue='Pollutant', data=dflebura)\n",
        "plt.title('Plot Kotak untuk Partikulat ')\n",
        "plt.xticks(rotation=90)\n",
        "plt.ylabel('Kadar Partikulat (µg/m³)')\n",
        "plt.legend(title='Ukuran partikulat')\n",
        "plt.tight_layout()\n",
        "plt.show()\n"
      ],
      "metadata": {
        "colab": {
          "base_uri": "https://localhost:8080/",
          "height": 701
        },
        "id": "7_b1grQowko6",
        "outputId": "f13595a7-8bcc-476e-ec37-20d671655c7b"
      },
      "execution_count": 51,
      "outputs": [
        {
          "output_type": "display_data",
          "data": {
            "text/plain": [
              "<Figure size 1500x700 with 1 Axes>"
            ],
            "image/png": "[encoded data removed]"
          },
          "metadata": {}
        }
      ]
    },
    {
      "cell_type": "code",
      "source": [
        "#Inspeksi Karbon monoksida\n",
        "coaotiz = dfaotizhongxin['CO']\n",
        "coahan = dfchangping['CO']\n",
        "codin = dfdingling['CO']\n",
        "codon = dfdongsi['CO']\n",
        "cogua = dfguanyuan['CO']\n",
        "cohua = dfhuairou['CO']\n",
        "coguc = dfgucheng['CO']\n",
        "conon = dfnonzhanguan['CO']\n",
        "cosh = dfshunyi['CO']\n",
        "cotia = dftiantan['CO']\n",
        "cowa = dfwanliu['CO']\n",
        "cowx = dfwanshouxigong['CO']\n",
        "#agregasi data\n",
        "aggb = pd.concat([coaotiz, coahan, codin, codon, cogua, cohua, coguc, conon, cosh, cotia, cowa, cowx], keys=['Aotizhongxin', 'Changping', 'Dingling', 'Dongsi', 'Guanyuan', 'Guchen', 'Huairo',\n",
        "                        'Nonzhanguan', 'Shunyi', 'Tiantan', 'Wanliu', 'Wanshouxigong'])\n",
        "aggbdf = aggb.to_frame()\n",
        "#Pengindeksan ulang untuk CO\n",
        "aggbdf.reset_index(level=0, inplace=False)  # Create new DataFrame with reset index\n",
        "aggbdf.rename(columns={'level_0': 'Kota'}, inplace=True)\n",
        "\n",
        "# Insersi kota:\n",
        "aggbdf = aggbdf.reset_index(level=0)  # Pengelihatan data\n",
        "aggbdf.rename(columns={'level_0': 'Kota'}, inplace=True)\n",
        "\n",
        "dfleburai = aggbdf.melt(id_vars=['Kota'], value_vars=['CO'],\n",
        "                              var_name='Pollutant', value_name='Nilai')\n",
        "#ilustasi bagian kadar senyawa\n",
        "sns.set(style=\"whitegrid\")\n",
        "# Ilustrasi plot kotak\n",
        "plt.figure(figsize=(15, 7))\n",
        "sns.boxplot(x='Kota', y='Nilai', hue='Pollutant', data=dfleburai)\n",
        "plt.title('Plot Kotak untuk Ukuran Karbon Monoksida')\n",
        "plt.xticks(rotation=90)\n",
        "plt.ylabel('Kadar Partikulat (µg/m³)')\n",
        "plt.legend(title='Inspeksi Karbon monoksida')\n",
        "plt.tight_layout()\n",
        "plt.show()\n"
      ],
      "metadata": {
        "id": "JJYvrkBVACEn"
      },
      "execution_count": null,
      "outputs": []
    },
    {
      "cell_type": "code",
      "source": [
        "#Inspeksi konsentrasi senyawa (SO2, NO2, O3/ozon) untuk dua belas kota\n",
        "aotizc = dfaotizhongxin[['SO2','NO2','O3']]\n",
        "chanc = dfchangping[['SO2','NO2','O3']]\n",
        "dinc = dfdingling[['SO2','NO2','O3']]\n",
        "donc = dfdongsi[['SO2','NO2','O3']]\n",
        "guac = dfguanyuan[['SO2','NO2','O3']]\n",
        "guchc = dfgucheng[['SO2','NO2','O3']]\n",
        "huac = dfhuairou[['SO2','NO2','O3']]\n",
        "nonc = dfnonzhanguan[['SO2','NO2','O3']]\n",
        "shyc = dfshunyi[['SO2','NO2','O3']]\n",
        "tianc = dftiantan[['SO2','NO2','O3']]\n",
        "wanc = dfwanliu[['SO2','NO2','O3']]\n",
        "wxgc = dfwanshouxigong[['SO2','NO2','O3']]\n",
        "\n",
        "#agresasi dengan nama kota\n",
        "aggc = pd.concat([aotizc, chanc, dinc, donc, guac, guchc, huac, nonc, shyc, tianc, wanc, wxgc],\n",
        "                 keys=['Aotizhongxin', 'Changping', 'Dingling', 'Dongsi', 'Guanyuan', 'Guchen', 'Huairo',\n",
        "                        'Nonzhanguan', 'Shunyi', 'Tiantan', 'Wanliu', 'Wanshouxigong'])\n",
        "#Pengindeksan ulang untuk senyawa\n",
        "aggc.reset_index(level=0, inplace=True)\n",
        "aggc.rename(columns={'level_0': 'Kota'}, inplace=True)\n",
        "#peleburan nama kota\n",
        "dfleburb = aggc.melt(id_vars=['Kota'], value_vars=['SO2','NO2','O3'],\n",
        "                              var_name='Pollutant', value_name='Nilai')\n",
        "#ilustasi bagian kadar senyawa\n",
        "sns.set(style=\"whitegrid\")\n",
        "# Ilustrasi plot kotak\n",
        "plt.figure(figsize=(15, 7))\n",
        "sns.boxplot(x='Kota', y='Nilai', hue='Pollutant', data=dfleburb)\n",
        "plt.title('Plot Kotak untuk Ukuran Tiga Senyawa Lain')\n",
        "plt.xticks(rotation=90)\n",
        "plt.ylabel('Kadar Partikulat (µg/m³)')\n",
        "plt.legend(title='Inspeksi tiga senyawa')\n",
        "plt.tight_layout()\n",
        "plt.show()\n",
        "\n"
      ],
      "metadata": {
        "id": "E4IeHGCIvxye"
      },
      "execution_count": null,
      "outputs": []
    },
    {
      "cell_type": "code",
      "source": [
        "#Area suhu, tekanan, dan nilai dew\n"
      ],
      "metadata": {
        "id": "SVAxDI7ki2Ju"
      },
      "execution_count": null,
      "outputs": []
    },
    {
      "cell_type": "code",
      "source": [
        "#Inspeksi kadar hujan dan kecepatan angin\n"
      ],
      "metadata": {
        "id": "wLNeo2Vm8vFE"
      },
      "execution_count": null,
      "outputs": []
    },
    {
      "cell_type": "markdown",
      "metadata": {
        "id": "MW7WF2kr8DC1"
      },
      "source": [
        "### Pendalaman Informasi"
      ]
    },
    {
      "cell_type": "code",
      "execution_count": null,
      "metadata": {
        "id": "e9CQCZjk8DC2"
      },
      "outputs": [],
      "source": [
        "# eksplorasi ukuran partikulat dalam satuan waktu\n",
        "\n"
      ]
    },
    {
      "cell_type": "code",
      "source": [
        "#Pemeriksan kadar senyawa selama pemeriksaan\n"
      ],
      "metadata": {
        "id": "kwcCSIZZ_JDG"
      },
      "execution_count": null,
      "outputs": []
    },
    {
      "cell_type": "markdown",
      "source": [
        "**Insight:**\n",
        "- xxx\n",
        "- xxx"
      ],
      "metadata": {
        "id": "MMi6xGaDkbCi"
      }
    },
    {
      "cell_type": "markdown",
      "source": [
        "**Insight:**\n",
        "- xxx\n",
        "- xxx"
      ],
      "metadata": {
        "id": "7dtxhAPrkhPL"
      }
    },
    {
      "cell_type": "markdown",
      "source": [
        "**Insight:**\n",
        "- xxx\n",
        "- xxx"
      ],
      "metadata": {
        "id": "Q_5ejIqckiSP"
      }
    },
    {
      "cell_type": "markdown",
      "source": [
        "**Insight:**\n",
        "- xxx\n",
        "- xxx"
      ],
      "metadata": {
        "id": "th_Lzl2Fkj9O"
      }
    },
    {
      "cell_type": "markdown",
      "metadata": {
        "id": "zsyZjqak8DC2"
      },
      "source": [
        "## Visualization & Explanatory Analysis"
      ]
    },
    {
      "cell_type": "markdown",
      "metadata": {
        "id": "HZxOiQ6n8DC2"
      },
      "source": [
        "### Pertanyaan 1:"
      ]
    },
    {
      "cell_type": "code",
      "execution_count": null,
      "metadata": {
        "id": "1swJUdAD8DC2"
      },
      "outputs": [],
      "source": [
        "#Tahap awal visualisasi untuk pertanyaan 1\n"
      ]
    },
    {
      "cell_type": "markdown",
      "metadata": {
        "id": "DgHI7CiU8DC2"
      },
      "source": [
        "### Pertanyaan 2:"
      ]
    },
    {
      "cell_type": "code",
      "execution_count": null,
      "metadata": {
        "id": "Go0lCsvO8DC2"
      },
      "outputs": [],
      "source": [
        "#Tahap awal visualisasi untuk pertanyaan 1\n"
      ]
    },
    {
      "cell_type": "markdown",
      "source": [
        "**Insight:**\n",
        "- xxx\n",
        "- xxx"
      ],
      "metadata": {
        "id": "_0-36BDLklRg"
      }
    },
    {
      "cell_type": "markdown",
      "source": [
        "## Analisis Lanjutan (Opsional)"
      ],
      "metadata": {
        "id": "9y4VUsmcYNZ5"
      }
    },
    {
      "cell_type": "code",
      "source": [],
      "metadata": {
        "id": "iWhnzsJGYUCO"
      },
      "execution_count": null,
      "outputs": []
    },
    {
      "cell_type": "markdown",
      "metadata": {
        "id": "_WeHlCeX8DC2"
      },
      "source": [
        "## Conclusion"
      ]
    },
    {
      "cell_type": "markdown",
      "metadata": {
        "id": "ZTcyR48Y8DC2"
      },
      "source": [
        "- Conclution pertanyaan 1\n",
        "- Conclution pertanyaan 2"
      ]
    }
  ],
  "metadata": {
    "kernelspec": {
      "display_name": "Python 3",
      "language": "python",
      "name": "python3"
    },
    "language_info": {
      "name": "python",
      "version": "3.8.0 (tags/v3.8.0:fa919fd, Oct 14 2019, 19:21:23) [MSC v.1916 32 bit (Intel)]"
    },
    "orig_nbformat": 4,
    "vscode": {
      "interpreter": {
        "hash": "972b3bf27e332e87b5379f2791f6ef9dfc79c71018c370b0d7423235e20fe4d7"
      }
    },
    "colab": {
      "provenance": [],
      "include_colab_link": true
    }
  },
  "nbformat": 4,
  "nbformat_minor": 0
}