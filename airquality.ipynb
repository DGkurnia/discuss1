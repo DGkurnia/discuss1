{
  "cells": [
    {
      "cell_type": "markdown",
      "metadata": {
        "id": "view-in-github",
        "colab_type": "text"
      },
      "source": [
        "<a href=\"https://colab.research.google.com/github/DGkurnia/discuss1/blob/main/airquality.ipynb\" target=\"_parent\"><img src=\"https://colab.research.google.com/assets/colab-badge.svg\" alt=\"Open In Colab\"/></a>"
      ]
    },
    {
      "cell_type": "markdown",
      "metadata": {
        "id": "H9wADwK78DCz"
      },
      "source": [
        "# Proyek Analisis Data: [Input Nama Dataset]\n",
        "- **Nama:** [Derfansyah Guswiranata Kurnia]\n",
        "- **Email:** [weerakurnia@gmail.com]\n",
        "- **ID Dicoding:** [dgkurnia]"
      ]
    },
    {
      "cell_type": "markdown",
      "metadata": {
        "id": "eE0raob58DC0"
      },
      "source": [
        "## Menentukan Pertanyaan Bisnis"
      ]
    },
    {
      "cell_type": "markdown",
      "metadata": {
        "id": "GmQeQ5YF8DC0"
      },
      "source": [
        "- Pertanyaan 1 : Bagaimana kondisi suhu di dua belas kota dari tahun 2013 samapai 2017 ?\n",
        "- Pertanyaan 2 : Bagaimana pemeriksaan ukuran partikuler (untuk PM 2.5 dan PM 10) di dua belas kota dari tahun 2013 sampai 2017 ?.\n",
        "- Pertanyaan 3 : Bagaimana pemeriksaan kadar sulfur dioksida (SO2), kadar nitrogen monoksida (NO) dan karbon monoksida (CO) di dua belas kota dari tahun 2013 sampai 2017 ?.\n",
        "- Pertanyaan 4 : Bagaimana pemeriksaan kondisi gas ozone (O3) dari tahun 2013 sampai 2017 ?."
      ]
    },
    {
      "cell_type": "code",
      "source": [
        "from google.colab import drive\n",
        "drive.mount('/content/drive') #dasar instalasi file dari Google Drive"
      ],
      "metadata": {
        "id": "iF46fY_-9rex",
        "colab": {
          "base_uri": "https://localhost:8080/"
        },
        "outputId": "9f332647-bea4-466d-aef9-511693e5009c"
      },
      "execution_count": 1,
      "outputs": [
        {
          "output_type": "stream",
          "name": "stdout",
          "text": [
            "Mounted at /content/drive\n"
          ]
        }
      ]
    },
    {
      "cell_type": "markdown",
      "metadata": {
        "id": "H-z4QGlO8DC1"
      },
      "source": [
        "## Impor Semua Paket/Library yang Digunakan\n",
        "Kumpulan perpustakaan Python yang dipakai untuk proyek:\n"
      ]
    },
    {
      "cell_type": "code",
      "execution_count": null,
      "metadata": {
        "id": "FVYwaObI8DC1"
      },
      "outputs": [],
      "source": [
        "#persiapan perpustakaan dan file untuk pembersihan\n",
        "import numpy as np\n",
        "import pandas as pd #dasar pengelolaan data\n",
        "import matplotlib.pyplot as plt\n",
        "import seaborn as sns\n",
        "import warnings\n",
        "warnings.filterwarnings('ignore')\n",
        "from datetime import datetime # dasar pengelolaan data berbasis waktu\n",
        "from scipy.interpolate import interp1d #interpolasi linear\n",
        "!pip install pykrige\n",
        "from pykrige.ok import OrdinaryKriging as okrig #teknik k-riging"
      ]
    },
    {
      "cell_type": "markdown",
      "metadata": {
        "id": "h_Sh51Xy8DC1"
      },
      "source": [
        "## Data Wrangling\n",
        "Pada tahap ini, jumlah dataframe yang akan dianalisis adalah 12 unit"
      ]
    },
    {
      "cell_type": "code",
      "source": [
        "\n",
        "#persiapan insersi data\n",
        "dfaotizhongxin = pd.read_csv('/content/drive/MyDrive/csv-files/aqins/aotizhongxin.csv')\n",
        "dfchangping = pd.read_csv('/content/drive/MyDrive/csv-files/aqins/changping.csv')\n",
        "dfdingling = pd.read_csv('/content/drive/MyDrive/csv-files/aqins/dingling.csv')\n",
        "dfdongsi = pd.read_csv('/content/drive/MyDrive/csv-files/aqins/dongsi.csv')\n",
        "dfguanyuan = pd.read_csv('/content/drive/MyDrive/csv-files/aqins/guanyuan.csv')\n",
        "dfgucheng = pd.read_csv('/content/drive/MyDrive/csv-files/aqins/gucheng.csv')\n",
        "dfhuairou = pd.read_csv('/content/drive/MyDrive/csv-files/aqins/huairo.csv')\n",
        "dfnonzhanguan = pd.read_csv('/content/drive/MyDrive/csv-files/aqins/nonzhanguan.csv')\n",
        "dfshunyi = pd.read_csv('/content/drive/MyDrive/csv-files/aqins/shunyi.csv')\n",
        "dftiantan = pd.read_csv('/content/drive/MyDrive/csv-files/aqins/tiantan.csv')\n",
        "dfwanliu = pd.read_csv('/content/drive/MyDrive/csv-files/aqins/wanliu.csv')\n",
        "dfwanshouxigong = pd.read_csv('/content/drive/MyDrive/csv-files/aqins/wanshouxigong.csv')\n",
        "\"\"\"\n",
        "Kota awal adalah Aotizhungxin dan kota akhir adalah Wanshouxigong\n",
        "\"\"\""
      ],
      "metadata": {
        "id": "yMQnk69f9BNg",
        "colab": {
          "base_uri": "https://localhost:8080/",
          "height": 35
        },
        "outputId": "296edae7-cb8f-46c9-b00c-d90d9c2a3db6"
      },
      "execution_count": 18,
      "outputs": [
        {
          "output_type": "execute_result",
          "data": {
            "text/plain": [
              "'\\nKota awal adalah Aotizhungxin dan kota akhir adalah Wanshouxigong\\n'"
            ],
            "application/vnd.google.colaboratory.intrinsic+json": {
              "type": "string"
            }
          },
          "metadata": {},
          "execution_count": 18
        }
      ]
    },
    {
      "cell_type": "markdown",
      "metadata": {
        "id": "sXU2GBYu8DC1"
      },
      "source": [
        "### Tahap Pengumpulan (Gathering Data)\n",
        "#### rincian dari pengumpulan data : ada 12 dataset kota yang terdiri dari\n",
        "* Nomor\n",
        "* Tahun\n",
        "* Bulan\n",
        "* Jam\n",
        "* kadar partikulat (PM 2.5 dan 10)\n",
        "* kadar senyawa SO2, NO, CO, dan O3 (dalam mikrogram/ m^3)\n",
        "* tempratur (dalam celsius)\n",
        "* Nilai tekanan (dalam hektoPascal)\n",
        "* arah angin dan kecepatan angin\n",
        "-- Nilai Tahun, bulan dan jam bisa diubah menjadi tanggal.\n"
      ]
    },
    {
      "cell_type": "markdown",
      "metadata": {
        "id": "FHSiqaZp8DC1"
      },
      "source": [
        "### Assessing Data\n",
        "#### Hal yang diperhatikan dalam pemeriksaan kadar udara\n",
        "- Total data duplikat\n",
        "-- Aotizhongxin : tidak ada\n",
        "-- Changpin : Tidak ada\n",
        "- Jumlah data hilang di masing-masing unit\n",
        "-- Kota Aotizhingxin : 925 data di PM2.5, 718 di PM 10. Tiga kolom memiliki data kosong di atas 500\n",
        "-- Kota Changpin : banyak data hilang berada di pemeriksaan empat gas tersebut\n",
        "--- Kota lain memiliki kecendrungan untuk memiliki data kosong di kondisi tersebut\n",
        "#### Hal unik lain\n",
        "Forrmat tanggal yang salah (awalnya tahun, bulan, hari, dan jam) yang dipisah"
      ]
    },
    {
      "cell_type": "code",
      "execution_count": 4,
      "metadata": {
        "id": "zjCBk1BI8DC1",
        "colab": {
          "base_uri": "https://localhost:8080/"
        },
        "outputId": "402c07b2-1788-4f76-a4e5-8e60e70a2fe7"
      },
      "outputs": [
        {
          "output_type": "stream",
          "name": "stdout",
          "text": [
            "<class 'pandas.core.frame.DataFrame'>\n",
            "RangeIndex: 35064 entries, 0 to 35063\n",
            "Data columns (total 18 columns):\n",
            " #   Column   Non-Null Count  Dtype  \n",
            "---  ------   --------------  -----  \n",
            " 0   No       35064 non-null  int64  \n",
            " 1   year     35064 non-null  int64  \n",
            " 2   month    35064 non-null  int64  \n",
            " 3   day      35064 non-null  int64  \n",
            " 4   hour     35064 non-null  int64  \n",
            " 5   PM2.5    34139 non-null  float64\n",
            " 6   PM10     34346 non-null  float64\n",
            " 7   SO2      34129 non-null  float64\n",
            " 8   NO2      34041 non-null  float64\n",
            " 9   CO       33288 non-null  float64\n",
            " 10  O3       33345 non-null  float64\n",
            " 11  TEMP     35044 non-null  float64\n",
            " 12  PRES     35044 non-null  float64\n",
            " 13  DEWP     35044 non-null  float64\n",
            " 14  RAIN     35044 non-null  float64\n",
            " 15  wd       34983 non-null  object \n",
            " 16  WSPM     35050 non-null  float64\n",
            " 17  station  35064 non-null  object \n",
            "dtypes: float64(11), int64(5), object(2)\n",
            "memory usage: 4.8+ MB\n"
          ]
        }
      ],
      "source": [
        "\"\"\"\n",
        "pemeriksaan data dari data kurang lengkap untuk enam kota pertama :\n",
        "(kota Aotizhongxin sampai Huairo)\n",
        "\"\"\"\n",
        "#dfaotizhongxin.info()\n",
        "#dfaotizhongxin.isnull().sum()\n",
        "#dfaotizhongxin.duplicated().sum() # kota Aotizhongxin\n",
        "#dfchangping.info()\n",
        "#dfchangping.isnull().sum()\n",
        "#dfchangping.duplicated().sum() # Changping\n",
        "#dfdongsi.isnull().sum()\n",
        "#dfdongsi.duplicated().sum()\n",
        "#dfdingling.info()\n",
        "#dfdingling.isnull().sum()\n",
        "#dfdingling.duplicated().sum() #Dingling"
      ]
    },
    {
      "cell_type": "code",
      "source": [
        "\"\"\"\n",
        "pemeriksaan data dari data kurang lengkap untuk enam kota terakhir :\n",
        "(kota Nonzhanguan sampai Wanshouxigong)\n",
        "\"\"\"\n",
        "#dfnonzhanguan.info()\n",
        "#dfnonzhanguan.isnull().sum()\n",
        "#dfnonzhanguan.duplicated().sum() #Nonzhanguan\n",
        "#dfwanshouxigong.info()"
      ],
      "metadata": {
        "id": "ax-3tEjc9Cj1",
        "colab": {
          "base_uri": "https://localhost:8080/",
          "height": 35
        },
        "outputId": "2e0e0820-37b9-47ec-a1ad-e290587f94ea"
      },
      "execution_count": null,
      "outputs": [
        {
          "output_type": "execute_result",
          "data": {
            "text/plain": [
              "'\\npemeriksaan data dari data kurang lengkap untuk enam kota terakhir :\\n(kota Nonzhanguan sampai Wanshouxigong)\\n'"
            ],
            "application/vnd.google.colaboratory.intrinsic+json": {
              "type": "string"
            }
          },
          "metadata": {},
          "execution_count": 81
        }
      ]
    },
    {
      "cell_type": "markdown",
      "metadata": {
        "id": "EhN5R4hr8DC1"
      },
      "source": [
        "### Cleaning Data\n",
        "#### Pengantar : Data ini bisa dimanfaatkan untuk pengaturan sehingga proses yang sesuai untuk pembersihan data adalah interpolasi kolom indikator yang berangka demi menjaga aspek kolom yang hilang. Di sisilain, pengisian data dengan modus berlaku untuk kolom non integer\n",
        "Tahapan pembersihan data\n",
        "(hal ini berlaku untuk 12 kota)\n",
        "1.   Pengubahan format waktu dan menghapus format salah (Tahun, bulan, angka, dan jam)\n",
        "2. Proses interpolasi untuk kolom hilang di indikator\n",
        "3. Pengisian nilai non numerik yang hilang\n",
        "\n",
        "\n"
      ]
    },
    {
      "cell_type": "code",
      "source": [
        "#pembersihan bagian pertama (pengubahan format data waktu) untuk dua belas kota\n",
        "dfaotizhongxin['datetime'] = dfaotizhongxin[['year', 'month', 'day', 'hour']].apply(lambda x: datetime(*x), axis=1)\n",
        "dfchangping['datetime'] = dfchangping[['year', 'month', 'day', 'hour']].apply(lambda x: datetime(*x), axis=1)\n",
        "dfdingling['datetime'] = dfdingling[['year', 'month', 'day', 'hour']].apply(lambda x: datetime(*x), axis=1)\n",
        "dfdongsi['datetime'] = dfdongsi[['year', 'month', 'day', 'hour']].apply(lambda x: datetime(*x), axis=1)\n",
        "dfguanyuan['datetime'] = dfguanyuan[['year', 'month', 'day', 'hour']].apply(lambda x: datetime(*x), axis=1)\n",
        "dfgucheng['datetime'] = dfgucheng[['year', 'month', 'day', 'hour']].apply(lambda x: datetime(*x), axis=1)\n",
        "dfhuairou['datetime'] = dfhuairou[['year', 'month', 'day', 'hour']].apply(lambda x: datetime(*x), axis=1)\n",
        "dfnonzhanguan['datetime'] = dfnonzhanguan[['year', 'month', 'day', 'hour']].apply(lambda x: datetime(*x), axis=1)\n",
        "dfshunyi['datetime'] = dfshunyi[['year', 'month', 'day', 'hour']].apply(lambda x: datetime(*x), axis=1)\n",
        "dftiantan['datetime'] = dftiantan[['year', 'month', 'day', 'hour']].apply(lambda x: datetime(*x), axis=1)\n",
        "dfwanliu['datetime'] = dfwanliu[['year', 'month', 'day', 'hour']].apply(lambda x: datetime(*x), axis=1)\n",
        "dfwanshouxigong['datetime'] = dfwanshouxigong[['year', 'month', 'day', 'hour']].apply(lambda x: datetime(*x), axis=1)\n",
        "\n",
        "#penghapusan kolom 'tahun' dan tiga indeks lain untuk 12 kota (dari Aotizhongxin sampai Wanshouxigong)\n",
        "\n",
        "dfaotizhongxin.drop(['year', 'month', 'day', 'hour'], axis=1, inplace=True)\n",
        "dfchangping.drop(['year', 'month', 'day', 'hour'], axis=1, inplace=True)\n",
        "dfdingling.drop(['year', 'month', 'day', 'hour'], axis=1, inplace=True)\n",
        "dfdongsi.drop(['year', 'month', 'day', 'hour'], axis=1, inplace=True)\n",
        "dfguanyuan.drop(['year', 'month', 'day', 'hour'], axis=1, inplace=True)\n",
        "dfgucheng.drop(['year', 'month', 'day', 'hour'], axis=1, inplace=True)\n",
        "dfhuairou.drop(['year', 'month', 'day', 'hour'], axis=1, inplace=True)\n",
        "dfnonzhanguan.drop(['year', 'month', 'day', 'hour'], axis=1, inplace=True)\n",
        "dfshunyi.drop(['year', 'month', 'day', 'hour'], axis=1, inplace=True)\n",
        "dftiantan.drop(['year', 'month', 'day', 'hour'], axis=1, inplace=True)\n",
        "dfwanliu.drop(['year', 'month', 'day', 'hour'], axis=1, inplace=True)\n",
        "dfwanshouxigong.drop(['year', 'month', 'day', 'hour'], axis=1, inplace=True)\n",
        "\n",
        "#pemeriksaan kolom untuk memeriksa jika kota sudah memiliki indikator waktu\n",
        "#dfaotizhongxin.head(10) #Kota Aotizhongxin\n",
        "#dfchangping.head(10)# Kota Changping\n",
        "#dfdingling.head(10)# Kota Dingling\n",
        "#dfdongsi.head(10)# Kota Dongsi\n",
        "#dfguanyuan.head(10)# Kota Guanyuan\n",
        "#dfgucheng.head(10)# Kota Gucheng\n",
        "#dfhuairou.head(10)# Kota Huairou\n",
        "#dfnonzhanguan.head(10) #kota Nanzhanguan\n",
        "#dfshunyi.head(10) #kota sunyi\n",
        "#dftiantan.head(10) #Kota Tiantan\n",
        "#dfwanliu.head(10) #Kota Wanliu\n",
        "#dfwanshouxigong.head(10) #Kota Wanshouxigong\n",
        "#hasil ini untuk memeriksa penghapusan kolom waktu"
      ],
      "metadata": {
        "id": "jVnYpprE9Evz"
      },
      "execution_count": 21,
      "outputs": []
    },
    {
      "cell_type": "code",
      "source": [
        "\"\"\"\n",
        "#bagian dua (proses interpolasi kolom)\n",
        "Tahap pertama pemeriksaan data yang hilang untuk masing-masing kota dari Aotizhongxing sampai Wanshouxigong\n",
        "\"\"\"\n",
        "# pemeriksan total kolom kosong untuk interpolasi\n",
        "#dfaotizhongxin.isnull().sum() #untuk memeriksa kolom sebelum interpolasi (Aotizhongxing)\n",
        "#dfchangping.isnull().sum() #untuk memeriksa kolom sebelum interpolasi (Changping)\n",
        "#dfdingling.isnull().sum() #untuk memeriksa kolom sebelum interpolasi (Dingling)\n",
        "#dfdongsi.isnull().sum() #untuk memeriksa kolom sebelum interpolasi (Dongsi)\n",
        "#dfguanyuan.isnull().sum() #untuk memeriksa kolom sebelum interpolasi (Guanyuan)\n",
        "#dfgucheng.isnull().sum() #untuk memeriksa kolom sebelum interpolasi (Gucheng)\n",
        "#dfhuairou.isnull().sum() #untuk memeriksa kolom sebelum interpolasi (Huairou)\n",
        "#dfnonzhanguan.isnull().sum() #untuk memeriksa kolom sebelum interpolasi (Nonzhanguan)\n",
        "#dfshunyi.isnull().sum() #untuk memeriksa kolom sebelum interpolasi (Shunyi)\n",
        "#dftiantan.isnull().sum() #untuk memeriksa kolom sebelum interpolasi (Tiantan)\n",
        "#dfwanliu.isnull().sum() #untuk memeriksa kolom sebelum interpolasi (Wanliu)\n",
        "#dfwanshouxigong.isnull().sum() #untuk memeriksa kolom sebelum interpolasi (Wanshouxigong)"
      ],
      "metadata": {
        "id": "z_vV5MYiFp_Y",
        "colab": {
          "base_uri": "https://localhost:8080/",
          "height": 35
        },
        "outputId": "2fb4a5e9-37b3-42f3-a58b-dbe4840c21ff"
      },
      "execution_count": null,
      "outputs": [
        {
          "output_type": "execute_result",
          "data": {
            "text/plain": [
              "'\\n#bagian dua (proses interpolasi kolom)\\nTahap pertama pemeriksaan data yang hilang untuk masing-masing kota dari Aotizhongxing sampai Wanshouxigong\\n'"
            ],
            "application/vnd.google.colaboratory.intrinsic+json": {
              "type": "string"
            }
          },
          "metadata": {},
          "execution_count": 6
        }
      ]
    },
    {
      "cell_type": "markdown",
      "source": [
        "##Resume Kolom Hilang Data untuk Interpolasi:\n",
        "\n",
        "*   Sebagian besar kolom hilang bisa 'diinterpolasi' untuk menjaga orisinilitas data\n",
        "*   Proses ini melibatkan dua belas Kota\n",
        "\n"
      ],
      "metadata": {
        "id": "wHjQJ2MmqssU"
      }
    },
    {
      "cell_type": "code",
      "source": [
        "# persiapan interpolasi (Aotizhongxin sampai terakhir) di kolom PM2.5 dan PM10 sebelum pembersihan data\n",
        "dfaotizhongxin['PM2.5'] = dfaotizhongxin['PM2.5'].interpolate(method='linear')\n",
        "dfaotizhongxin['PM10'] = dfaotizhongxin['PM10'].interpolate(method='linear')\n",
        "#Area Aotizhongxin\n",
        "dfchangping['PM2.5'] = dfchangping['PM2.5'].interpolate(method='linear')\n",
        "dfchangping['PM10'] = dfchangping['PM10'].interpolate(method='linear')\n",
        "#Area Changping\n",
        "dfdingling['PM2.5'] = dfdingling['PM2.5'].interpolate(method='linear')\n",
        "dfdingling['PM10'] = dfdingling['PM10'].interpolate(method='linear')\n",
        "#Area Dingling\n",
        "dfdongsi['PM2.5'] = dfdongsi['PM2.5'].interpolate(method='linear')\n",
        "dfdongsi['PM10'] = dfdongsi['PM10'].interpolate(method='linear')\n",
        "#Area Dongsi\n",
        "dfguanyuan['PM2.5'] = dfguanyuan['PM2.5'].interpolate(method='linear')\n",
        "dfguanyuan['PM10'] = dfguanyuan['PM10'].interpolate(method='linear')\n",
        "#Area Guanyuan\n",
        "dfgucheng['PM2.5'] = dfgucheng['PM2.5'].interpolate(method='linear')\n",
        "dfgucheng['PM10'] = dfgucheng['PM10'].interpolate(method='linear')\n",
        "#Area Gucheng\n",
        "dfhuairou['PM2.5'] = dfhuairou['PM2.5'].interpolate(method='linear')\n",
        "dfhuairou['PM10'] = dfhuairou['PM10'].interpolate(method='linear')\n",
        "#Area Huairou\n",
        "dfnonzhanguan['PM2.5'] = dfnonzhanguan['PM2.5'].interpolate(method='linear')\n",
        "dfnonzhanguan['PM10'] = dfnonzhanguan['PM10'].interpolate(method='linear')\n",
        "#Area Nonzhanguan\n",
        "dfshunyi['PM2.5'] = dfshunyi['PM2.5'].interpolate(method='linear')\n",
        "dfshunyi['PM10'] = dfshunyi['PM10'].interpolate(method='linear')\n",
        "#Area Shunyi\n",
        "dftiantan['PM2.5'] = dftiantan['PM2.5'].interpolate(method='linear')\n",
        "dftiantan['PM10'] = dftiantan['PM10'].interpolate(method='linear')\n",
        "#Area Tiantan\n",
        "dfwanliu['PM2.5'] = dfwanliu['PM2.5'].interpolate(method='linear')\n",
        "dfwanliu['PM10'] = dfwanliu['PM10'].interpolate(method='linear')\n",
        "#Area Wanliu\n",
        "dfwanshouxigong['PM2.5'] = dfwanshouxigong['PM2.5'].interpolate(method='linear')\n",
        "dfwanshouxigong['PM10'] = dfwanshouxigong['PM10'].interpolate(method='linear')\n",
        "#Area Wanshouxigong"
      ],
      "metadata": {
        "id": "xjltdMQA4A2T"
      },
      "execution_count": 22,
      "outputs": []
    },
    {
      "cell_type": "code",
      "source": [
        "#pemeriksaan nilai interpolasi untuk PM\n",
        "#dfaotizhongxin[['PM2.5','PM10']] #untuk memeriksa kolom setelah interpolasi (Aotizhongxing)\n",
        "#dfchangping[['PM2.5','PM10']] #untuk memeriksa kolom setelah interpolasi (Changping)\n",
        "#dfdingling[['PM2.5','PM10']] #untuk memeriksa kolom setelah interpolasi (Dingling)\n",
        "#dfdongsi[['PM2.5','PM10']] #untuk memeriksa kolom setelah interpolasi (Dongsi)\n",
        "#pemeriksaan hasil interpolasi untuk nilai dua jenis meter\n",
        "#dfaotizhongxin.isnull().sum() #untuk memeriksa kolom setelah interpolasi PM (Aotizhongxing)\n",
        "#dfchangping.isnull().sum() #untuk memeriksa kolom setelah interpolasi PM (Changping)"
      ],
      "metadata": {
        "id": "E-E8nUjxWPdQ",
        "colab": {
          "base_uri": "https://localhost:8080/",
          "height": 554
        },
        "outputId": "938dd324-5c64-49bf-8af8-4c16146ff34f"
      },
      "execution_count": 23,
      "outputs": [
        {
          "output_type": "execute_result",
          "data": {
            "text/plain": [
              "No             0\n",
              "PM2.5          0\n",
              "PM10           0\n",
              "SO2          628\n",
              "NO2          667\n",
              "CO          1521\n",
              "O3           604\n",
              "TEMP          53\n",
              "PRES          50\n",
              "DEWP          53\n",
              "RAIN          51\n",
              "wd           140\n",
              "WSPM          43\n",
              "station        0\n",
              "datetime       0\n",
              "dtype: int64"
            ],
            "text/html": [
              "<div>\n",
              "<style scoped>\n",
              "    .dataframe tbody tr th:only-of-type {\n",
              "        vertical-align: middle;\n",
              "    }\n",
              "\n",
              "    .dataframe tbody tr th {\n",
              "        vertical-align: top;\n",
              "    }\n",
              "\n",
              "    .dataframe thead th {\n",
              "        text-align: right;\n",
              "    }\n",
              "</style>\n",
              "<table border=\"1\" class=\"dataframe\">\n",
              "  <thead>\n",
              "    <tr style=\"text-align: right;\">\n",
              "      <th></th>\n",
              "      <th>0</th>\n",
              "    </tr>\n",
              "  </thead>\n",
              "  <tbody>\n",
              "    <tr>\n",
              "      <th>No</th>\n",
              "      <td>0</td>\n",
              "    </tr>\n",
              "    <tr>\n",
              "      <th>PM2.5</th>\n",
              "      <td>0</td>\n",
              "    </tr>\n",
              "    <tr>\n",
              "      <th>PM10</th>\n",
              "      <td>0</td>\n",
              "    </tr>\n",
              "    <tr>\n",
              "      <th>SO2</th>\n",
              "      <td>628</td>\n",
              "    </tr>\n",
              "    <tr>\n",
              "      <th>NO2</th>\n",
              "      <td>667</td>\n",
              "    </tr>\n",
              "    <tr>\n",
              "      <th>CO</th>\n",
              "      <td>1521</td>\n",
              "    </tr>\n",
              "    <tr>\n",
              "      <th>O3</th>\n",
              "      <td>604</td>\n",
              "    </tr>\n",
              "    <tr>\n",
              "      <th>TEMP</th>\n",
              "      <td>53</td>\n",
              "    </tr>\n",
              "    <tr>\n",
              "      <th>PRES</th>\n",
              "      <td>50</td>\n",
              "    </tr>\n",
              "    <tr>\n",
              "      <th>DEWP</th>\n",
              "      <td>53</td>\n",
              "    </tr>\n",
              "    <tr>\n",
              "      <th>RAIN</th>\n",
              "      <td>51</td>\n",
              "    </tr>\n",
              "    <tr>\n",
              "      <th>wd</th>\n",
              "      <td>140</td>\n",
              "    </tr>\n",
              "    <tr>\n",
              "      <th>WSPM</th>\n",
              "      <td>43</td>\n",
              "    </tr>\n",
              "    <tr>\n",
              "      <th>station</th>\n",
              "      <td>0</td>\n",
              "    </tr>\n",
              "    <tr>\n",
              "      <th>datetime</th>\n",
              "      <td>0</td>\n",
              "    </tr>\n",
              "  </tbody>\n",
              "</table>\n",
              "</div><br><label><b>dtype:</b> int64</label>"
            ]
          },
          "metadata": {},
          "execution_count": 23
        }
      ]
    },
    {
      "cell_type": "markdown",
      "source": [
        "##Bagian 2 pembersihan dataset untuk pemeriksaan empat senyawa (dalam mikro meter/ meter kubik)"
      ],
      "metadata": {
        "id": "xjmOxhArsguc"
      }
    },
    {
      "cell_type": "code",
      "source": [
        "#pembersihan data SO2, NO2, CO O3 di dataset (Aotizhongxin sampai Wanshouxigong)\n",
        "dfaotizhongxin[['SO2', 'NO2', 'CO', 'O3']] = dfaotizhongxin[['SO2', 'NO2', 'CO', 'O3']].interpolate(method='linear') #Kota Aotizhongxin\n",
        "dfchangping[['SO2', 'NO2', 'CO', 'O3']] = dfchangping[['SO2', 'NO2', 'CO', 'O3']].interpolate(method='linear') #Kota Changping\n",
        "dfdingling[['SO2', 'NO2', 'CO', 'O3']] = dfdingling[['SO2', 'NO2', 'CO', 'O3']].interpolate(method='linear') #Kota Dingling\n",
        "#dfdongsi[['SO2', 'NO2', 'CO', 'O3']] = dfdongsi[[['SO2', 'NO2', 'CO', 'O3']]].interpolate(method='linear') #Kota Dongsi\n",
        "dfguanyuan[['SO2', 'NO2', 'CO', 'O3']] = dfguanyuan[['SO2', 'NO2', 'CO', 'O3']].interpolate(method='linear') #Kota Guanyuan\n",
        "dfgucheng[['SO2', 'NO2', 'CO', 'O3']] = dfgucheng[['SO2', 'NO2', 'CO', 'O3']].interpolate(method='linear') #Kota Gucheng\n",
        "dfhuairou[['SO2', 'NO2', 'CO', 'O3']] = dfhuairou[['SO2', 'NO2', 'CO', 'O3']].interpolate(method='linear') #Kota Huairou\n",
        "dfnonzhanguan[['SO2', 'NO2', 'CO', 'O3']] = dfnonzhanguan[['SO2', 'NO2', 'CO', 'O3']].interpolate(method='linear') #Kota Nonzhanguan\n",
        "dfshunyi[['SO2', 'NO2', 'CO', 'O3']] = dfshunyi[['SO2', 'NO2', 'CO', 'O3']].interpolate(method='linear') #Kota Shunyi\n",
        "dfwanliu[['SO2', 'NO2', 'CO', 'O3']] = dfwanliu[['SO2', 'NO2', 'CO', 'O3']].interpolate(method='linear') #Kota Wanliu\n",
        "dfwanshouxigong[['SO2', 'NO2', 'CO', 'O3']] = dfwanshouxigong[['SO2', 'NO2', 'CO', 'O3']].interpolate(method='linear') #Kota Wanshouxigong\n",
        "\n",
        "#pemeriksaan interpolasi konsentrasi gas\n",
        "#dfaotizhongxin.isnull().sum() #untuk memeriksa kolom setelah interpolasi (Aotizhongxing)"
      ],
      "metadata": {
        "id": "-4tAryilsQAV"
      },
      "execution_count": 24,
      "outputs": []
    },
    {
      "cell_type": "markdown",
      "source": [
        "###Interpolasi suhu, tekanan, dan nilai tekanan dew poin"
      ],
      "metadata": {
        "id": "wZEpWblLuH56"
      }
    },
    {
      "cell_type": "code",
      "source": [
        "#persiapan proses interpolasi\n",
        "dfaotizhongxin[['TEMP','PRES','DEWP']] = dfaotizhongxin[['TEMP','PRES','DEWP']].interpolate(method='linear') #Kota Aotizhongxin\n",
        "dfchangping[['TEMP','PRES','DEWP']] = dfchangping[['TEMP','PRES','DEWP']].interpolate(method='linear') #Kota Changping\n",
        "dfdingling[['TEMP','PRES','DEWP']] = dfdingling[['TEMP','PRES','DEWP']].interpolate(method='linear') #Kota Dingling\n",
        "dfdongsi[['TEMP','PRES','DEWP']] = dfdongsi[['TEMP','PRES','DEWP']].interpolate(method='linear') #Kota Dongsi\n",
        "dfguanyuan[['TEMP','PRES','DEWP']] = dfguanyuan[['TEMP','PRES','DEWP']].interpolate(method='linear') #Kota Guanyuan\n",
        "dfgucheng[['TEMP','PRES','DEWP']] = dfgucheng[['TEMP','PRES','DEWP']].interpolate(method='linear') #Kota Gucheng\n",
        "dfhuairou[['TEMP','PRES','DEWP']] = dfhuairou[['TEMP','PRES','DEWP']].interpolate(method='linear') #Kota Huairou\n",
        "dfnonzhanguan[['TEMP','PRES','DEWP']] = dfnonzhanguan[['TEMP','PRES','DEWP']].interpolate(method='linear') #Kota Nonzhanguan\n",
        "dfshunyi[['TEMP','PRES','DEWP']] = dfshunyi[['TEMP','PRES','DEWP']].interpolate(method='linear') #Kota Shunyi\n",
        "dfwanliu[['TEMP','PRES','DEWP']] = dfwanliu[['TEMP','PRES','DEWP']].interpolate(method='linear') #Kota Wanliu\n",
        "dfwanshouxigong[['TEMP','PRES','DEWP']] = dfwanshouxigong[['TEMP','PRES','DEWP']].interpolate(method='linear') #Kota Wanshouxigong\n",
        "\n",
        "\n",
        "#Proses interpolasi untuk kadar hujan\n",
        "dfaotizhongxin['RAIN'] = dfaotizhongxin['RAIN'].interpolate(method='linear') #Kota Aotizhongxin\n",
        "dfchangping['RAIN'] = dfchangping['RAIN'].interpolate(method='linear') #Kota Changping\n",
        "dfdingling['RAIN'] = dfdingling['RAIN'].interpolate(method='linear') #Kota Dingling\n",
        "dfdongsi['RAIN'] = dfdongsi['RAIN'].interpolate(method='linear') #Kota Dongsi\n",
        "dfguanyuan['RAIN'] = dfguanyuan['RAIN'].interpolate(method='linear') #Kota Guanyuan\n",
        "dfgucheng['RAIN'] = dfgucheng['RAIN'].interpolate(method='linear') #Kota Gucheng\n",
        "dfhuairou['RAIN'] = dfhuairou['RAIN'].interpolate(method='linear') #Kota Huairou\n",
        "dfnonzhanguan['RAIN'] = dfnonzhanguan['RAIN'].interpolate(method='linear') #Kota Nonzhanguan\n",
        "dfshunyi['RAIN'] = dfshunyi['RAIN'].interpolate(method='linear') #Kota Shunyi\n",
        "dfwanliu['RAIN'] = dfwanliu['RAIN'].interpolate(method='linear') #Kota Wanliu\n",
        "dfwanshouxigong['RAIN'] = dfwanshouxigong['RAIN'].interpolate(method='linear') #Kota Wanshouxigong\n",
        "\n",
        "#pemeriksaan hasil interpolasi\n",
        "dfaotizhongxin.isnull().sum() #untuk memeriksa kolom setelah interpolasi kadar suhu(Aotizhongxing)"
      ],
      "metadata": {
        "id": "ZRcrtmeCufYU"
      },
      "execution_count": null,
      "outputs": []
    },
    {
      "cell_type": "markdown",
      "source": [
        "#interpolasi tahap 2 untuk meningkatkan akurasi\n",
        "untuk dua ukuran partikulat\n",
        "1.   Ukuran PM2.5 (i)\n",
        "2.   Ukuran PM10 (ii)\n",
        "\n"
      ],
      "metadata": {
        "id": "w1uiwK8cfVdC"
      }
    },
    {
      "cell_type": "code",
      "source": [
        "#persiapan kriging untuk pengukuran nomor dan PM2.5 (untuk kedua belas kota)\n",
        "mao = dfaotizhongxin['No'].values\n",
        "pmai = dfaotizhongxin['PM2.5'].values #Kota Aotizhongxin\n",
        "mch = dfchangping['No'].values\n",
        "pmci = dfchangping['PM2.5'].values #Kota Changping\n",
        "dli = dfdingling['No'].values\n",
        "pmdi = dfdingling['PM2.5'].values #Kota Dingling\n",
        "mdo = dfdongsi['No'].values\n",
        "pmdoi = dfdongsi['PM2.5'].values #Kota Dongsi\n",
        "mgua = dfguanyuan['No'].values\n",
        "pmguai = dfguanyuan['PM2.5'].values #Kota Guanyuan\n",
        "mguc = dfgucheng['No'].values\n",
        "pmguci = dfgucheng['PM2.5'].values #Kota Gucheng\n",
        "mhua = dfhuairou['No'].values\n",
        "pmhuai = dfhuairou['PM2.5'].values #Kota Huairou\n",
        "mnon = dfnonzhanguan['No'].values\n",
        "pmnoni = dfnonzhanguan['PM2.5'].values #Kota Nonzhanguan\n",
        "msh = dfshunyi['No'].values\n",
        "pmshi = dfshunyi['PM2.5'].values #Kota Shunyi\n",
        "mtia = dftiantan['No'].values\n",
        "pmtiai = dftiantan['PM2.5'].values #Kota Tiantan\n",
        "mwan = dfwanliu['No'].values\n",
        "pmwani = dfwanliu['PM2.5'].values #Kota Wanliu\n",
        "mwax = dfwanshouxigong['No'].values\n",
        "pmwaxi = dfwanshouxigong['PM2.5'].values #Kota Wanshouxigong\n",
        "\n",
        "#pengukuran PM10\n",
        "mao = dfaotizhongxin['No'].values\n",
        "pmaii = dfaotizhongxin['PM10'].values #Kota Aotizhongxin\n",
        "mch = dfchangping['No'].values\n",
        "pmcii = dfchangping['PM10'].values #Kota Changping\n",
        "mdi = dfdingling['No'].values\n",
        "pmdii = dfdingling['PM10'].values #Kota Dingling\n",
        "mdo = dfdongsi['No'].values\n",
        "pmdoii = dfdongsi['PM10'].values #Kota Dongsi\n",
        "mgua = dfguanyuan['No'].values\n",
        "pmguaii = dfguanyuan['PM10'].values #Kota Guanyuan\n",
        "mguc = dfgucheng['No'].values\n",
        "pmgucii = dfgucheng['PM10'].values #Kota Gucheng\n",
        "mhua = dfhuairou['No'].values\n",
        "pmhuaii = dfhuairou['PM10'].values #Kota Huairou\n",
        "mnon = dfnonzhanguan['No'].values\n",
        "pmnonii = dfnonzhanguan['PM10'].values #Kota Nonzhanguan\n",
        "msh = dfshunyi['No'].values\n",
        "pmshii = dfshunyi['PM10'].values #Kota Shunyi\n",
        "mtia = dftiantan['No'].values\n",
        "pmtiaii = dftiantan['PM10'].values #Kota Tiantan\n",
        "mwan = dfwanliu['No'].values\n",
        "pmwanii = dfwanliu['PM10'].values #Kota Wanliu\n",
        "mwax = dfwanshouxigong['PNo'].values\n",
        "pmwaxii = dfwanshouxigong['PM10'].values #Kota Wanshouxigong\n",
        "\n",
        "\n",
        "#persiapan model eksponensial untuk PM2.5 dan PM10\n",
        "okao = okrig(x=mao, y=pmai, z=pmaii, variogram_model='exponential') #Aotizhongxin\n",
        "okch = okrig(x=mch, y=pmci, z=pmcii, variogram_model='exponential') #Changping\n",
        "okdli = okrig(x=dli, y=pmdi, z=pmdii, variogram_model='exponential') #Dingling\n",
        "okdo = okrig(x=mdo, y=pmdoi, z=pmdoii, variogram_model='exponential') #Dongsi\n",
        "okgua = okrig(x=mgua, y=pmguai, z=pmguaii, variogram_model='exponential') #Guanyuan\n",
        "okguc = okrig(x=mguc, y=pmguci, z=pmgucii, variogram_model='exponential') #Gucheng\n",
        "okhua = okrig(x=mhua, y=pmhuai, z=pmhuaii, variogram_model='exponential') #Huairou\n",
        "oknon = okrig(x=mnon, y=pmnoni, z=pmnonii, variogram_model='exponential') #Nonzhanguan\n",
        "oksh = okrig(x=msh, y=pmshi, z=pmshii, variogram_model='exponential') #Shunyi\n",
        "oktia = okrig(x=mtia, y=pmtiai, z=pmtiaii, variogram_model='exponential') #Tiantan\n",
        "okwal = okrig(x=mwan, y=pmwani, z=pmwanii, variogram_model='exponential') #Wanliu\n",
        "okwax = okrig(x=mwax, y=pmwaxi, z=pmwaxii, variogram_model='exponential') #Wanshouxigong\n",
        "\n",
        "#perincian nilai 'grid' untuk interpolasi masing-masing kota\n",
        "griao = np.arrange(start=dfaotizhongxin['No'].min(), stop=dfaotizhongxin['No'].max(), step=1, dtype=int)\n",
        "grich = np.arrange(start=dfchangping['No'].min(), stop=dfchangping['No'].max(), step=1, dtype=int)\n",
        "gridl = np.arrange(start=dfdingling['No'].min(), stop=dfdingling['No'].max(), step=1, dtype=int)\n",
        "grido = np.arrange(start=dfdongsi['No'].min(), stop=dfdongsi['No'].max(), step=1, dtype=int)\n",
        "grigua = np.arrange(start=dfguanyuan['No'].min(), stop=dfguanyuan['No'].max(), step=1, dtype=int)\n",
        "griguc = np.arrange(start=dfgucheng['No'].min(), stop=dfgucheng['No'].max(), step=1, dtype=int)\n",
        "grihua = np.arrange(start=dfhuairou['No'].min(), stop=dfhuairou['No'].max(), step=1, dtype=int)\n",
        "grinon = np.arrange(start=dfnonzhanguan['No'].min(), stop=dfnonzhanguan['No'].max(), step=1, dtype=int)\n",
        "grish = np.arrange(start=dfshunyi['No'].min(), stop=dfshunyi['No'].max(), step=1, dtype=int)\n",
        "gritia = np.arrange(start=dftiantan['No'].min(), stop=dftiantan['No'].max(), step=1, dtype=int)\n",
        "griwan = np.arrange(start=dfwanliu['No'].min(), stop=dfwanliu['No'].max(), step=1, dtype=int)\n",
        "griwax = np.arrange(start=dfwanshouxigong['No'].min(), stop=dfwanshouxigong['No'].max(), step=1, dtype=int)\n",
        "\n",
        "#eksekusi nilai 'grid' untuk dua belas kota\n"
      ],
      "metadata": {
        "id": "Jo6CIHwyfaf3"
      },
      "execution_count": null,
      "outputs": []
    },
    {
      "cell_type": "markdown",
      "source": [
        "##Untuk empat gas (dalam mikrometer/m^3)\n",
        "Empat gas ini memiliki penandaan yang berbeda\n",
        "*   Kode untuk gas SO2 adalah 's'\n",
        "*   Kode untuk gas NO adalah 'n'\n",
        "* Kode untuk gas CO adalah 'c'\n",
        "* Kode untuk gas O3 adalah 'o'\n",
        "\n"
      ],
      "metadata": {
        "id": "dIBwXZAYg8uf"
      }
    },
    {
      "cell_type": "code",
      "source": [
        "#gas NO dan gas SO2 ('s' dan 'n')\n",
        "mao = dfaotizhongxin['No'].values\n",
        "so2ai = dfaotizhongxin['SO2'].values #Kota Aotizhongxin\n",
        "no2ai = dfaotizhongxin['NO'].values #Kota Aotizhongxin\n",
        "mch = dfchangping['No'].values\n",
        "so2ci = dfchangping['SO2'].values #Kota Changping\n",
        "no2ci = dfchangping['NO'].values #Kota Changping\n",
        "dli = dfdingling['No'].values\n",
        "so2di = dfdingling['SO2'].values #Kota Dingling\n",
        "no2di = dfdingling['NO'].values #Kota Dingling\n",
        "mdo = dfdongsi['No'].values\n",
        "so2doi = dfdongsi['SO2'].values #Kota Dongsi\n",
        "no2doi = dfdongsi['NO'].values #Kota Dongsi\n",
        "m\n",
        "\n",
        "#persiapan model\n",
        "\n"
      ],
      "metadata": {
        "id": "XNZhztbzh0kK"
      },
      "execution_count": null,
      "outputs": []
    },
    {
      "cell_type": "code",
      "source": [
        "#gas CO dan O3 ('c' dan 'o')"
      ],
      "metadata": {
        "id": "N8C7rqX3nlk7"
      },
      "execution_count": null,
      "outputs": []
    },
    {
      "cell_type": "markdown",
      "source": [
        "##Pengisian data hilang untuk arah angin dan kecepatan\n"
      ],
      "metadata": {
        "id": "u4Ja19ApckoT"
      }
    },
    {
      "cell_type": "code",
      "source": [
        "#persiapan pengisian data hilang di arah angin\n",
        "dfaotizhongxin['wd'] = dfaotizhongxin['wd'].fillna('unknown', inplace=True) #Kota Aotizhongxin\n",
        "dfchangping['wd'] = dfchangping['wd'].fillna('unknown', inplace=True) #Kota Changping\n",
        "dfdingling['wd'] = dfdingling['wd'].fillna('unknown', inplace=True) #Kota Dingling\n",
        "dfdongsi['wd'] = dfdongsi['wd'].fillna('unknown', inplace=True) #Kota Dongsi\n",
        "dfguanyuan['wd'] = dfguanyuan['wd'].fillna('unknown', inplace=True) #Kota Guanyuan\n",
        "dfgucheng['wd'] = dfgucheng['wd'].fillna('unknown', inplace=True) #Kota Gucheng\n",
        "dfhuairou['wd'] = dfhuairou['wd'].fillna('unknown', inplace=True) #Kota Huairou\n",
        "dfnonzhanguan['wd'] = dfnonzhanguan['wd'].fillna('unknown', inplace=True) #Kota Nonzhanguan\n",
        "dfshunyi['wd'] = dfshunyi['wd'].fillna('unknown', inplace=True) #Kota Shunyi\n",
        "\n",
        "#interpolasi linear untuk kecepatan angin\n",
        "dfaotizhongxin['WSPM'] = dfaotizhongxin['WSPM'].interpolate(method='linear') #Kota Aotizhongxin\n",
        "dfchangping['WSPM'] = dfchangping['WSPM'].interpolate(method='linear') #Kota Changping\n",
        "dfdingling['WSPM'] = dfdingling['WSPM'].interpolate(method='linear') #Kota Dingling\n",
        "dfdongsi['WSPM'] = dfdongsi['WSPM'].interpolate(method='linear') #Kota Dongsi\n",
        "dfguanyuan['WSPM'] = dfguanyuan['WSPM'].interpolate(method='linear') #Kota Guanyuan\n"
      ],
      "metadata": {
        "id": "oaFRS75xcr7M"
      },
      "execution_count": 26,
      "outputs": []
    },
    {
      "cell_type": "markdown",
      "metadata": {
        "id": "gp-Y6wU38DC1"
      },
      "source": [
        "## Exploratory Data Analysis (EDA)"
      ]
    },
    {
      "cell_type": "markdown",
      "source": [
        "**Insight:**\n",
        "- xxx\n",
        "- xxx"
      ],
      "metadata": {
        "id": "MMi6xGaDkbCi"
      }
    },
    {
      "cell_type": "markdown",
      "source": [
        "**Insight:**\n",
        "- xxx\n",
        "- xxx"
      ],
      "metadata": {
        "id": "7dtxhAPrkhPL"
      }
    },
    {
      "cell_type": "markdown",
      "source": [
        "**Insight:**\n",
        "- xxx\n",
        "- xxx"
      ],
      "metadata": {
        "id": "Q_5ejIqckiSP"
      }
    },
    {
      "cell_type": "markdown",
      "metadata": {
        "id": "MW7WF2kr8DC1"
      },
      "source": [
        "### Explore The insight"
      ]
    },
    {
      "cell_type": "code",
      "execution_count": null,
      "metadata": {
        "id": "e9CQCZjk8DC2"
      },
      "outputs": [],
      "source": []
    },
    {
      "cell_type": "markdown",
      "source": [
        "**Insight:**\n",
        "- xxx\n",
        "- xxx"
      ],
      "metadata": {
        "id": "th_Lzl2Fkj9O"
      }
    },
    {
      "cell_type": "markdown",
      "metadata": {
        "id": "zsyZjqak8DC2"
      },
      "source": [
        "## Visualization & Explanatory Analysis"
      ]
    },
    {
      "cell_type": "markdown",
      "metadata": {
        "id": "HZxOiQ6n8DC2"
      },
      "source": [
        "### Pertanyaan 1:"
      ]
    },
    {
      "cell_type": "code",
      "execution_count": null,
      "metadata": {
        "id": "1swJUdAD8DC2"
      },
      "outputs": [],
      "source": []
    },
    {
      "cell_type": "markdown",
      "metadata": {
        "id": "DgHI7CiU8DC2"
      },
      "source": [
        "### Pertanyaan 2:"
      ]
    },
    {
      "cell_type": "code",
      "execution_count": null,
      "metadata": {
        "id": "Go0lCsvO8DC2"
      },
      "outputs": [],
      "source": []
    },
    {
      "cell_type": "markdown",
      "source": [
        "**Insight:**\n",
        "- xxx\n",
        "- xxx"
      ],
      "metadata": {
        "id": "_0-36BDLklRg"
      }
    },
    {
      "cell_type": "markdown",
      "source": [
        "## Analisis Lanjutan (Opsional)"
      ],
      "metadata": {
        "id": "9y4VUsmcYNZ5"
      }
    },
    {
      "cell_type": "code",
      "source": [],
      "metadata": {
        "id": "iWhnzsJGYUCO"
      },
      "execution_count": null,
      "outputs": []
    },
    {
      "cell_type": "markdown",
      "metadata": {
        "id": "_WeHlCeX8DC2"
      },
      "source": [
        "## Conclusion"
      ]
    },
    {
      "cell_type": "markdown",
      "metadata": {
        "id": "ZTcyR48Y8DC2"
      },
      "source": [
        "- Conclution pertanyaan 1\n",
        "- Conclution pertanyaan 2"
      ]
    }
  ],
  "metadata": {
    "kernelspec": {
      "display_name": "Python 3",
      "language": "python",
      "name": "python3"
    },
    "language_info": {
      "name": "python",
      "version": "3.8.0 (tags/v3.8.0:fa919fd, Oct 14 2019, 19:21:23) [MSC v.1916 32 bit (Intel)]"
    },
    "orig_nbformat": 4,
    "vscode": {
      "interpreter": {
        "hash": "972b3bf27e332e87b5379f2791f6ef9dfc79c71018c370b0d7423235e20fe4d7"
      }
    },
    "colab": {
      "provenance": [],
      "include_colab_link": true
    }
  },
  "nbformat": 4,
  "nbformat_minor": 0
}