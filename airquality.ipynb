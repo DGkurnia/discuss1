{
  "cells": [
    {
      "cell_type": "markdown",
      "metadata": {
        "id": "view-in-github",
        "colab_type": "text"
      },
      "source": [
        "<a href=\"https://colab.research.google.com/github/DGkurnia/discuss1/blob/main/airquality.ipynb\" target=\"_parent\"><img src=\"https://colab.research.google.com/assets/colab-badge.svg\" alt=\"Open In Colab\"/></a>"
      ]
    },
    {
      "cell_type": "markdown",
      "metadata": {
        "id": "H9wADwK78DCz"
      },
      "source": [
        "# Proyek Analisis Data: [Input Nama Dataset]\n",
        "- **Nama:** [Derfansyah Guswiranata Kurnia]\n",
        "- **Email:** [weerakurnia@gmail.com]\n",
        "- **ID Dicoding:** [dgkurnia]"
      ]
    },
    {
      "cell_type": "markdown",
      "metadata": {
        "id": "eE0raob58DC0"
      },
      "source": [
        "## Menentukan Pertanyaan Bisnis"
      ]
    },
    {
      "cell_type": "markdown",
      "metadata": {
        "id": "GmQeQ5YF8DC0"
      },
      "source": [
        "- Pertanyaan 1 : Bagaimana kondisi suhu di dua belas kota dari tahun 2013 samapai 2017 ?\n",
        "- Pertanyaan 2 : Bagaimana pemeriksaan ukuran partikuler (untuk PM 2.5 dan PM 10) di dua belas kota dari tahun 2013 sampai 2017 ?.\n",
        "- Pertanyaan 3 : Bagaimana pemeriksaan kadar sulfur dioksida (SO2), kadar nitrogen monoksida (NO) dan karbon monoksida (CO) di dua belas kota dari tahun 2013 sampai 2017 ?.\n",
        "- Pertanyaan 4 : Bagaimana pemeriksaan kondisi gas ozone (O3) dari tahun 2013 sampai 2017 ?."
      ]
    },
    {
      "cell_type": "code",
      "source": [
        "from google.colab import drive\n",
        "drive.mount('/content/drive') #dasar instalasi file dari Google Drive"
      ],
      "metadata": {
        "id": "iF46fY_-9rex",
        "colab": {
          "base_uri": "https://localhost:8080/"
        },
        "outputId": "d7299765-d751-4301-f945-223dcd8fa416"
      },
      "execution_count": 2,
      "outputs": [
        {
          "output_type": "stream",
          "name": "stdout",
          "text": [
            "Drive already mounted at /content/drive; to attempt to forcibly remount, call drive.mount(\"/content/drive\", force_remount=True).\n"
          ]
        }
      ]
    },
    {
      "cell_type": "markdown",
      "metadata": {
        "id": "H-z4QGlO8DC1"
      },
      "source": [
        "## Impor Semua Paket/Library yang Digunakan\n",
        "Kumpulan perpustakaan Python yang dipakai untuk proyek:\n"
      ]
    },
    {
      "cell_type": "code",
      "execution_count": 3,
      "metadata": {
        "id": "FVYwaObI8DC1",
        "colab": {
          "base_uri": "https://localhost:8080/"
        },
        "outputId": "a7e490d0-839b-4c4c-ae80-2a215157c2a7"
      },
      "outputs": [
        {
          "output_type": "stream",
          "name": "stdout",
          "text": [
            "Requirement already satisfied: pykrige in /usr/local/lib/python3.10/dist-packages (1.7.2)\n",
            "Requirement already satisfied: numpy>=1.20.0 in /usr/local/lib/python3.10/dist-packages (from pykrige) (1.26.4)\n",
            "Requirement already satisfied: scipy<2,>=1.1.0 in /usr/local/lib/python3.10/dist-packages (from pykrige) (1.13.1)\n"
          ]
        }
      ],
      "source": [
        "#persiapan perpustakaan dan file untuk pembersihan\n",
        "import numpy as np\n",
        "import pandas as pd #dasar pengelolaan data\n",
        "import matplotlib.pyplot as plt\n",
        "import seaborn as sns\n",
        "import warnings\n",
        "warnings.filterwarnings('ignore')\n",
        "from datetime import datetime # dasar pengelolaan data berbasis waktu\n",
        "from scipy.interpolate import interp1d #interpolasi linear\n",
        "!pip install pykrige\n",
        "from pykrige.ok import OrdinaryKriging as okrig #teknik k-riging"
      ]
    },
    {
      "cell_type": "markdown",
      "metadata": {
        "id": "h_Sh51Xy8DC1"
      },
      "source": [
        "## Data Wrangling\n",
        "Pada tahap ini, jumlah dataframe yang akan dianalisis adalah 12 unit"
      ]
    },
    {
      "cell_type": "code",
      "source": [
        "\n",
        "#persiapan insersi data\n",
        "dfaotizhongxin = pd.read_csv('/content/drive/MyDrive/csv-files/aqins/aotizhongxin.csv')\n",
        "dfchangping = pd.read_csv('/content/drive/MyDrive/csv-files/aqins/changping.csv')\n",
        "dfdingling = pd.read_csv('/content/drive/MyDrive/csv-files/aqins/dingling.csv')\n",
        "dfdongsi = pd.read_csv('/content/drive/MyDrive/csv-files/aqins/dongsi.csv')\n",
        "dfguanyuan = pd.read_csv('/content/drive/MyDrive/csv-files/aqins/guanyuan.csv')\n",
        "dfgucheng = pd.read_csv('/content/drive/MyDrive/csv-files/aqins/gucheng.csv')\n",
        "dfhuairou = pd.read_csv('/content/drive/MyDrive/csv-files/aqins/huairo.csv')\n",
        "dfnonzhanguan = pd.read_csv('/content/drive/MyDrive/csv-files/aqins/nonzhanguan.csv')\n",
        "dfshunyi = pd.read_csv('/content/drive/MyDrive/csv-files/aqins/shunyi.csv')\n",
        "dftiantan = pd.read_csv('/content/drive/MyDrive/csv-files/aqins/tiantan.csv')\n",
        "dfwanliu = pd.read_csv('/content/drive/MyDrive/csv-files/aqins/wanliu.csv')\n",
        "dfwanshouxigong = pd.read_csv('/content/drive/MyDrive/csv-files/aqins/wanshouxigong.csv')\n",
        "\"\"\"\n",
        "Kota awal adalah Aotizhungxin dan kota akhir adalah Wanshouxigong\n",
        "\"\"\""
      ],
      "metadata": {
        "id": "yMQnk69f9BNg",
        "colab": {
          "base_uri": "https://localhost:8080/",
          "height": 35
        },
        "outputId": "56da58c8-5489-46a1-f3fb-9a737bfcc979"
      },
      "execution_count": 4,
      "outputs": [
        {
          "output_type": "execute_result",
          "data": {
            "text/plain": [
              "'\\nKota awal adalah Aotizhungxin dan kota akhir adalah Wanshouxigong\\n'"
            ],
            "application/vnd.google.colaboratory.intrinsic+json": {
              "type": "string"
            }
          },
          "metadata": {},
          "execution_count": 4
        }
      ]
    },
    {
      "cell_type": "markdown",
      "metadata": {
        "id": "sXU2GBYu8DC1"
      },
      "source": [
        "### Tahap Pengumpulan (Gathering Data)\n",
        "#### rincian dari pengumpulan data : ada 12 dataset kota yang terdiri dari\n",
        "* Nomor\n",
        "* Tahun\n",
        "* Bulan\n",
        "* Jam\n",
        "* kadar partikulat (PM 2.5 dan 10)\n",
        "* kadar senyawa SO2, NO, CO, dan O3 (dalam mikrogram/ m^3)\n",
        "* tempratur (dalam celsius)\n",
        "* Nilai tekanan (dalam hektoPascal)\n",
        "* arah angin dan kecepatan angin\n",
        "-- Nilai Tahun, bulan dan jam bisa diubah menjadi tanggal.\n"
      ]
    },
    {
      "cell_type": "markdown",
      "metadata": {
        "id": "FHSiqaZp8DC1"
      },
      "source": [
        "### Assessing Data\n",
        "#### Hal yang diperhatikan dalam pemeriksaan kadar udara\n",
        "- Total data duplikat\n",
        "-- Aotizhongxin : tidak ada\n",
        "-- Changpin : Tidak ada\n",
        "- Jumlah data hilang di masing-masing unit\n",
        "-- Kota Aotizhingxin : 925 data di PM2.5, 718 di PM 10. Tiga kolom memiliki data kosong di atas 500\n",
        "-- Kota Changpin : banyak data hilang berada di pemeriksaan empat gas tersebut\n",
        "--- Kota lain memiliki kecendrungan untuk memiliki data kosong di kondisi tersebut\n",
        "#### Hal unik lain\n",
        "Forrmat tanggal yang salah (awalnya tahun, bulan, hari, dan jam) yang dipisah"
      ]
    },
    {
      "cell_type": "code",
      "execution_count": 8,
      "metadata": {
        "id": "zjCBk1BI8DC1",
        "colab": {
          "base_uri": "https://localhost:8080/",
          "height": 70
        },
        "outputId": "ebebe0f6-cfd1-4edd-8417-b6f86f317140"
      },
      "outputs": [
        {
          "output_type": "execute_result",
          "data": {
            "text/plain": [
              "'\\npemeriksaan data dari data kurang lengkap untuk enam kota pertama :\\n(kota Aotizhongxin sampai Huairo)\\n\\n#dfaotizhongxin.info()\\n#dfaotizhongxin.isnull().sum()\\n#dfaotizhongxin.duplicated().sum() # kota Aotizhongxin\\n#dfchangping.info()\\n#dfchangping.isnull().sum()\\n#dfchangping.duplicated().sum() # Changping\\n#dfdongsi.isnull().sum()\\n#dfdongsi.duplicated().sum()\\n#dfdingling.info()\\n#dfdingling.isnull().sum()\\n#dfdingling.duplicated().sum() #Dingling\\n'"
            ],
            "application/vnd.google.colaboratory.intrinsic+json": {
              "type": "string"
            }
          },
          "metadata": {},
          "execution_count": 8
        }
      ],
      "source": [
        "\"\"\"\n",
        "pemeriksaan data dari data kurang lengkap untuk enam kota pertama :\n",
        "(kota Aotizhongxin sampai Huairo)\n",
        "\n",
        "#dfaotizhongxin.info()\n",
        "#dfaotizhongxin.isnull().sum()\n",
        "#dfaotizhongxin.duplicated().sum() # kota Aotizhongxin\n",
        "#dfchangping.info()\n",
        "#dfchangping.isnull().sum()\n",
        "#dfchangping.duplicated().sum() # Changping\n",
        "#dfdongsi.isnull().sum()\n",
        "#dfdongsi.duplicated().sum()\n",
        "#dfdingling.info()\n",
        "#dfdingling.isnull().sum()\n",
        "#dfdingling.duplicated().sum() #Dingling\n",
        "\"\"\""
      ]
    },
    {
      "cell_type": "code",
      "source": [
        "\"\"\"\n",
        "pemeriksaan data dari data kurang lengkap untuk enam kota terakhir :\n",
        "(kota Nonzhanguan sampai Wanshouxigong)\n",
        "\n",
        "#dfnonzhanguan.info()\n",
        "#dfnonzhanguan.isnull().sum()\n",
        "#dfnonzhanguan.duplicated().sum() #Nonzhanguan\n",
        "#dfwanshouxigong.info()\n",
        "\"\"\""
      ],
      "metadata": {
        "id": "ax-3tEjc9Cj1",
        "colab": {
          "base_uri": "https://localhost:8080/",
          "height": 52
        },
        "outputId": "9dadb878-cf9e-47f0-d9bd-f9edf5bc3715"
      },
      "execution_count": 7,
      "outputs": [
        {
          "output_type": "execute_result",
          "data": {
            "text/plain": [
              "'\\npemeriksaan data dari data kurang lengkap untuk enam kota terakhir :\\n(kota Nonzhanguan sampai Wanshouxigong)\\n\\n#dfnonzhanguan.info()\\n#dfnonzhanguan.isnull().sum()\\n#dfnonzhanguan.duplicated().sum() #Nonzhanguan\\n#dfwanshouxigong.info()\\n'"
            ],
            "application/vnd.google.colaboratory.intrinsic+json": {
              "type": "string"
            }
          },
          "metadata": {},
          "execution_count": 7
        }
      ]
    },
    {
      "cell_type": "markdown",
      "metadata": {
        "id": "EhN5R4hr8DC1"
      },
      "source": [
        "### Cleaning Data\n",
        "#### Pengantar : Data ini bisa dimanfaatkan untuk pengaturan sehingga proses yang sesuai untuk pembersihan data adalah interpolasi kolom indikator yang berangka demi menjaga aspek kolom yang hilang. Di sisilain, pengisian data dengan modus berlaku untuk kolom non integer\n",
        "Tahapan pembersihan data\n",
        "(hal ini berlaku untuk 12 kota)\n",
        "1.   Pengubahan format waktu dan menghapus format salah (Tahun, bulan, angka, dan jam)\n",
        "2. Proses interpolasi untuk kolom hilang di indikator\n",
        "3. Pengisian nilai non numerik yang hilang\n",
        "\n",
        "\n"
      ]
    },
    {
      "cell_type": "code",
      "source": [
        "#pembersihan bagian pertama (pengubahan format data waktu) untuk dua belas kota\n",
        "dfaotizhongxin['datetime'] = dfaotizhongxin[['year', 'month', 'day', 'hour']].apply(lambda x: datetime(*x), axis=1)\n",
        "dfchangping['datetime'] = dfchangping[['year', 'month', 'day', 'hour']].apply(lambda x: datetime(*x), axis=1)\n",
        "dfdingling['datetime'] = dfdingling[['year', 'month', 'day', 'hour']].apply(lambda x: datetime(*x), axis=1)\n",
        "dfdongsi['datetime'] = dfdongsi[['year', 'month', 'day', 'hour']].apply(lambda x: datetime(*x), axis=1)\n",
        "dfguanyuan['datetime'] = dfguanyuan[['year', 'month', 'day', 'hour']].apply(lambda x: datetime(*x), axis=1)\n",
        "dfgucheng['datetime'] = dfgucheng[['year', 'month', 'day', 'hour']].apply(lambda x: datetime(*x), axis=1)\n",
        "dfhuairou['datetime'] = dfhuairou[['year', 'month', 'day', 'hour']].apply(lambda x: datetime(*x), axis=1)\n",
        "dfnonzhanguan['datetime'] = dfnonzhanguan[['year', 'month', 'day', 'hour']].apply(lambda x: datetime(*x), axis=1)\n",
        "dfshunyi['datetime'] = dfshunyi[['year', 'month', 'day', 'hour']].apply(lambda x: datetime(*x), axis=1)\n",
        "dftiantan['datetime'] = dftiantan[['year', 'month', 'day', 'hour']].apply(lambda x: datetime(*x), axis=1)\n",
        "dfwanliu['datetime'] = dfwanliu[['year', 'month', 'day', 'hour']].apply(lambda x: datetime(*x), axis=1)\n",
        "dfwanshouxigong['datetime'] = dfwanshouxigong[['year', 'month', 'day', 'hour']].apply(lambda x: datetime(*x), axis=1)\n",
        "\n",
        "#penghapusan kolom 'tahun' dan tiga indeks lain untuk 12 kota (dari Aotizhongxin sampai Wanshouxigong)\n",
        "\n",
        "dfaotizhongxin.drop(['year', 'month', 'day', 'hour'], axis=1, inplace=True)\n",
        "dfchangping.drop(['year', 'month', 'day', 'hour'], axis=1, inplace=True)\n",
        "dfdingling.drop(['year', 'month', 'day', 'hour'], axis=1, inplace=True)\n",
        "dfdongsi.drop(['year', 'month', 'day', 'hour'], axis=1, inplace=True)\n",
        "dfguanyuan.drop(['year', 'month', 'day', 'hour'], axis=1, inplace=True)\n",
        "dfgucheng.drop(['year', 'month', 'day', 'hour'], axis=1, inplace=True)\n",
        "dfhuairou.drop(['year', 'month', 'day', 'hour'], axis=1, inplace=True)\n",
        "dfnonzhanguan.drop(['year', 'month', 'day', 'hour'], axis=1, inplace=True)\n",
        "dfshunyi.drop(['year', 'month', 'day', 'hour'], axis=1, inplace=True)\n",
        "dftiantan.drop(['year', 'month', 'day', 'hour'], axis=1, inplace=True)\n",
        "dfwanliu.drop(['year', 'month', 'day', 'hour'], axis=1, inplace=True)\n",
        "dfwanshouxigong.drop(['year', 'month', 'day', 'hour'], axis=1, inplace=True)\n",
        "\n",
        "#pemeriksaan kolom untuk memeriksa jika kota sudah memiliki indikator waktu\n",
        "#dfaotizhongxin.head(10) #Kota Aotizhongxin\n",
        "#dfchangping.head(10)# Kota Changping\n",
        "#dfdingling.head(10)# Kota Dingling\n",
        "#dfdongsi.head(10)# Kota Dongsi\n",
        "#dfguanyuan.head(10)# Kota Guanyuan\n",
        "#dfgucheng.head(10)# Kota Gucheng\n",
        "#dfhuairou.head(10)# Kota Huairou\n",
        "#dfnonzhanguan.head(10) #kota Nanzhanguan\n",
        "#dfshunyi.head(10) #kota sunyi\n",
        "#dftiantan.head(10) #Kota Tiantan\n",
        "#dfwanliu.head(10) #Kota Wanliu\n",
        "#dfwanshouxigong.head(10) #Kota Wanshouxigong\n",
        "#hasil ini untuk memeriksa penghapusan kolom waktu"
      ],
      "metadata": {
        "id": "jVnYpprE9Evz"
      },
      "execution_count": 9,
      "outputs": []
    },
    {
      "cell_type": "code",
      "source": [
        "\"\"\"\n",
        "#bagian dua (proses interpolasi kolom)\n",
        "Tahap pertama pemeriksaan data yang hilang untuk masing-masing kota dari Aotizhongxing sampai Wanshouxigong\n",
        "\"\"\"\n",
        "# pemeriksan total kolom kosong untuk interpolasi\n",
        "#dfaotizhongxin.isnull().sum() #untuk memeriksa kolom sebelum interpolasi (Aotizhongxing)\n",
        "#dfchangping.isnull().sum() #untuk memeriksa kolom sebelum interpolasi (Changping)\n",
        "#dfdingling.isnull().sum() #untuk memeriksa kolom sebelum interpolasi (Dingling)\n",
        "#dfdongsi.isnull().sum() #untuk memeriksa kolom sebelum interpolasi (Dongsi)\n",
        "#dfguanyuan.isnull().sum() #untuk memeriksa kolom sebelum interpolasi (Guanyuan)\n",
        "#dfgucheng.isnull().sum() #untuk memeriksa kolom sebelum interpolasi (Gucheng)\n",
        "#dfhuairou.isnull().sum() #untuk memeriksa kolom sebelum interpolasi (Huairou)\n",
        "#dfnonzhanguan.isnull().sum() #untuk memeriksa kolom sebelum interpolasi (Nonzhanguan)\n",
        "#dfshunyi.isnull().sum() #untuk memeriksa kolom sebelum interpolasi (Shunyi)\n",
        "#dftiantan.isnull().sum() #untuk memeriksa kolom sebelum interpolasi (Tiantan)\n",
        "#dfwanliu.isnull().sum() #untuk memeriksa kolom sebelum interpolasi (Wanliu)\n",
        "#dfwanshouxigong.isnull().sum() #untuk memeriksa kolom sebelum interpolasi (Wanshouxigong)"
      ],
      "metadata": {
        "id": "z_vV5MYiFp_Y",
        "colab": {
          "base_uri": "https://localhost:8080/",
          "height": 35
        },
        "outputId": "83455e28-d50e-4b6a-dfa9-3e7ad1772b60"
      },
      "execution_count": 10,
      "outputs": [
        {
          "output_type": "execute_result",
          "data": {
            "text/plain": [
              "'\\n#bagian dua (proses interpolasi kolom)\\nTahap pertama pemeriksaan data yang hilang untuk masing-masing kota dari Aotizhongxing sampai Wanshouxigong\\n'"
            ],
            "application/vnd.google.colaboratory.intrinsic+json": {
              "type": "string"
            }
          },
          "metadata": {},
          "execution_count": 10
        }
      ]
    },
    {
      "cell_type": "markdown",
      "source": [
        "##Resume Kolom Hilang Data untuk Interpolasi Linear:\n",
        "\n",
        "*   Sebagian besar kolom hilang bisa 'diinterpolasi' untuk menjaga orisinilitas data\n",
        "*   Proses ini melibatkan dua belas Kota\n",
        "\n"
      ],
      "metadata": {
        "id": "wHjQJ2MmqssU"
      }
    },
    {
      "cell_type": "code",
      "source": [
        "# persiapan interpolasi (Aotizhongxin sampai terakhir) di kolom PM2.5 dan PM10 sebelum pembersihan data\n",
        "dfaotizhongxin['PM2.5'] = dfaotizhongxin['PM2.5'].interpolate(method='linear')\n",
        "dfaotizhongxin['PM10'] = dfaotizhongxin['PM10'].interpolate(method='linear')\n",
        "#Area Aotizhongxin\n",
        "dfchangping['PM2.5'] = dfchangping['PM2.5'].interpolate(method='linear')\n",
        "dfchangping['PM10'] = dfchangping['PM10'].interpolate(method='linear')\n",
        "#Area Changping\n",
        "dfdingling['PM2.5'] = dfdingling['PM2.5'].interpolate(method='linear')\n",
        "dfdingling['PM10'] = dfdingling['PM10'].interpolate(method='linear')\n",
        "#Area Dingling\n",
        "dfdongsi['PM2.5'] = dfdongsi['PM2.5'].interpolate(method='linear')\n",
        "dfdongsi['PM10'] = dfdongsi['PM10'].interpolate(method='linear')\n",
        "#Area Dongsi\n",
        "dfguanyuan['PM2.5'] = dfguanyuan['PM2.5'].interpolate(method='linear')\n",
        "dfguanyuan['PM10'] = dfguanyuan['PM10'].interpolate(method='linear')\n",
        "#Area Guanyuan\n",
        "dfgucheng['PM2.5'] = dfgucheng['PM2.5'].interpolate(method='linear')\n",
        "dfgucheng['PM10'] = dfgucheng['PM10'].interpolate(method='linear')\n",
        "#Area Gucheng\n",
        "dfhuairou['PM2.5'] = dfhuairou['PM2.5'].interpolate(method='linear')\n",
        "dfhuairou['PM10'] = dfhuairou['PM10'].interpolate(method='linear')\n",
        "#Area Huairou\n",
        "dfnonzhanguan['PM2.5'] = dfnonzhanguan['PM2.5'].interpolate(method='linear')\n",
        "dfnonzhanguan['PM10'] = dfnonzhanguan['PM10'].interpolate(method='linear')\n",
        "#Area Nonzhanguan\n",
        "dfshunyi['PM2.5'] = dfshunyi['PM2.5'].interpolate(method='linear')\n",
        "dfshunyi['PM10'] = dfshunyi['PM10'].interpolate(method='linear')\n",
        "#Area Shunyi\n",
        "dftiantan['PM2.5'] = dftiantan['PM2.5'].interpolate(method='linear')\n",
        "dftiantan['PM10'] = dftiantan['PM10'].interpolate(method='linear')\n",
        "#Area Tiantan\n",
        "dfwanliu['PM2.5'] = dfwanliu['PM2.5'].interpolate(method='linear')\n",
        "dfwanliu['PM10'] = dfwanliu['PM10'].interpolate(method='linear')\n",
        "#Area Wanliu\n",
        "dfwanshouxigong['PM2.5'] = dfwanshouxigong['PM2.5'].interpolate(method='linear')\n",
        "dfwanshouxigong['PM10'] = dfwanshouxigong['PM10'].interpolate(method='linear')\n",
        "#Area Wanshouxigong"
      ],
      "metadata": {
        "id": "xjltdMQA4A2T"
      },
      "execution_count": 11,
      "outputs": []
    },
    {
      "cell_type": "code",
      "source": [
        "#pemeriksaan nilai interpolasi untuk PM\n",
        "#dfaotizhongxin[['PM2.5','PM10']] #untuk memeriksa kolom setelah interpolasi (Aotizhongxing)\n",
        "#dfchangping[['PM2.5','PM10']] #untuk memeriksa kolom setelah interpolasi (Changping)\n",
        "#dfdingling[['PM2.5','PM10']] #untuk memeriksa kolom setelah interpolasi (Dingling)\n",
        "#dfdongsi[['PM2.5','PM10']] #untuk memeriksa kolom setelah interpolasi (Dongsi)\n",
        "#pemeriksaan hasil interpolasi untuk nilai dua jenis meter\n",
        "#dfaotizhongxin.isnull().sum() #untuk memeriksa kolom setelah interpolasi PM (Aotizhongxing)\n",
        "#dfchangping.isnull().sum() #untuk memeriksa kolom setelah interpolasi PM (Changping)"
      ],
      "metadata": {
        "id": "E-E8nUjxWPdQ"
      },
      "execution_count": 24,
      "outputs": []
    },
    {
      "cell_type": "markdown",
      "source": [
        "##Bagian 2 pembersihan dataset untuk pemeriksaan empat senyawa (dalam mikro meter/ meter kubik)"
      ],
      "metadata": {
        "id": "xjmOxhArsguc"
      }
    },
    {
      "cell_type": "code",
      "source": [
        "#pembersihan data SO2, NO2, CO O3 di dataset (Aotizhongxin sampai Wanshouxigong)\n",
        "dfaotizhongxin[['SO2', 'NO2', 'CO', 'O3']] = dfaotizhongxin[['SO2', 'NO2', 'CO', 'O3']].interpolate(method='linear') #Kota Aotizhongxin\n",
        "dfchangping[['SO2', 'NO2', 'CO', 'O3']] = dfchangping[['SO2', 'NO2', 'CO', 'O3']].interpolate(method='linear') #Kota Changping\n",
        "dfdingling[['SO2', 'NO2', 'CO', 'O3']] = dfdingling[['SO2', 'NO2', 'CO', 'O3']].interpolate(method='linear') #Kota Dingling\n",
        "#dfdongsi[['SO2', 'NO2', 'CO', 'O3']] = dfdongsi[[['SO2', 'NO2', 'CO', 'O3']]].interpolate(method='linear') #Kota Dongsi\n",
        "dfguanyuan[['SO2', 'NO2', 'CO', 'O3']] = dfguanyuan[['SO2', 'NO2', 'CO', 'O3']].interpolate(method='linear') #Kota Guanyuan\n",
        "dfgucheng[['SO2', 'NO2', 'CO', 'O3']] = dfgucheng[['SO2', 'NO2', 'CO', 'O3']].interpolate(method='linear') #Kota Gucheng\n",
        "dfhuairou[['SO2', 'NO2', 'CO', 'O3']] = dfhuairou[['SO2', 'NO2', 'CO', 'O3']].interpolate(method='linear') #Kota Huairou\n",
        "dfnonzhanguan[['SO2', 'NO2', 'CO', 'O3']] = dfnonzhanguan[['SO2', 'NO2', 'CO', 'O3']].interpolate(method='linear') #Kota Nonzhanguan\n",
        "dfshunyi[['SO2', 'NO2', 'CO', 'O3']] = dfshunyi[['SO2', 'NO2', 'CO', 'O3']].interpolate(method='linear') #Kota Shunyi\n",
        "dfwanliu[['SO2', 'NO2', 'CO', 'O3']] = dfwanliu[['SO2', 'NO2', 'CO', 'O3']].interpolate(method='linear') #Kota Wanliu\n",
        "dfwanshouxigong[['SO2', 'NO2', 'CO', 'O3']] = dfwanshouxigong[['SO2', 'NO2', 'CO', 'O3']].interpolate(method='linear') #Kota Wanshouxigong\n",
        "\n",
        "#pemeriksaan interpolasi konsentrasi gas\n",
        "#dfaotizhongxin.isnull().sum() #untuk memeriksa kolom setelah interpolasi (Aotizhongxing)"
      ],
      "metadata": {
        "id": "-4tAryilsQAV"
      },
      "execution_count": 12,
      "outputs": []
    },
    {
      "cell_type": "markdown",
      "source": [
        "###Interpolasi suhu, tekanan, dan nilai tekanan dew secara linear"
      ],
      "metadata": {
        "id": "wZEpWblLuH56"
      }
    },
    {
      "cell_type": "code",
      "source": [
        "#persiapan proses interpolasi\n",
        "dfaotizhongxin[['TEMP','PRES','DEWP']] = dfaotizhongxin[['TEMP','PRES','DEWP']].interpolate(method='linear') #Kota Aotizhongxin\n",
        "dfchangping[['TEMP','PRES','DEWP']] = dfchangping[['TEMP','PRES','DEWP']].interpolate(method='linear') #Kota Changping\n",
        "dfdingling[['TEMP','PRES','DEWP']] = dfdingling[['TEMP','PRES','DEWP']].interpolate(method='linear') #Kota Dingling\n",
        "dfdongsi[['TEMP','PRES','DEWP']] = dfdongsi[['TEMP','PRES','DEWP']].interpolate(method='linear') #Kota Dongsi\n",
        "dfguanyuan[['TEMP','PRES','DEWP']] = dfguanyuan[['TEMP','PRES','DEWP']].interpolate(method='linear') #Kota Guanyuan\n",
        "dfgucheng[['TEMP','PRES','DEWP']] = dfgucheng[['TEMP','PRES','DEWP']].interpolate(method='linear') #Kota Gucheng\n",
        "dfhuairou[['TEMP','PRES','DEWP']] = dfhuairou[['TEMP','PRES','DEWP']].interpolate(method='linear') #Kota Huairou\n",
        "dfnonzhanguan[['TEMP','PRES','DEWP']] = dfnonzhanguan[['TEMP','PRES','DEWP']].interpolate(method='linear') #Kota Nonzhanguan\n",
        "dfshunyi[['TEMP','PRES','DEWP']] = dfshunyi[['TEMP','PRES','DEWP']].interpolate(method='linear') #Kota Shunyi\n",
        "dfwanliu[['TEMP','PRES','DEWP']] = dfwanliu[['TEMP','PRES','DEWP']].interpolate(method='linear') #Kota Wanliu\n",
        "dfwanshouxigong[['TEMP','PRES','DEWP']] = dfwanshouxigong[['TEMP','PRES','DEWP']].interpolate(method='linear') #Kota Wanshouxigong\n",
        "\n",
        "\n",
        "#Proses interpolasi untuk kadar hujan\n",
        "dfaotizhongxin['RAIN'] = dfaotizhongxin['RAIN'].interpolate(method='linear') #Kota Aotizhongxin\n",
        "dfchangping['RAIN'] = dfchangping['RAIN'].interpolate(method='linear') #Kota Changping\n",
        "dfdingling['RAIN'] = dfdingling['RAIN'].interpolate(method='linear') #Kota Dingling\n",
        "dfdongsi['RAIN'] = dfdongsi['RAIN'].interpolate(method='linear') #Kota Dongsi\n",
        "dfguanyuan['RAIN'] = dfguanyuan['RAIN'].interpolate(method='linear') #Kota Guanyuan\n",
        "dfgucheng['RAIN'] = dfgucheng['RAIN'].interpolate(method='linear') #Kota Gucheng\n",
        "dfhuairou['RAIN'] = dfhuairou['RAIN'].interpolate(method='linear') #Kota Huairou\n",
        "dfnonzhanguan['RAIN'] = dfnonzhanguan['RAIN'].interpolate(method='linear') #Kota Nonzhanguan\n",
        "dfshunyi['RAIN'] = dfshunyi['RAIN'].interpolate(method='linear') #Kota Shunyi\n",
        "dfwanliu['RAIN'] = dfwanliu['RAIN'].interpolate(method='linear') #Kota Wanliu\n",
        "dfwanshouxigong['RAIN'] = dfwanshouxigong['RAIN'].interpolate(method='linear') #Kota Wanshouxigong\n",
        "\n",
        "#pemeriksaan hasil interpolasi\n",
        "#dfaotizhongxin.isnull().sum() #untuk memeriksa kolom setelah interpolasi kadar suhu(Aotizhongxing)"
      ],
      "metadata": {
        "id": "ZRcrtmeCufYU"
      },
      "execution_count": 13,
      "outputs": []
    },
    {
      "cell_type": "markdown",
      "source": [
        "#interpolasi tahap 2 untuk meningkatkan akurasi\n",
        "untuk dua ukuran partikulat\n",
        "1.   Ukuran PM2.5 (i)\n",
        "2.   Ukuran PM10 (ii)\n",
        "\n"
      ],
      "metadata": {
        "id": "w1uiwK8cfVdC"
      }
    },
    {
      "cell_type": "code",
      "source": [
        "#persiapan interpolasi kriging untuk pengukuran nomor dan PM2.5 (untuk kedua belas kota)\n",
        "mao = dfaotizhongxin['No'].values\n",
        "pmai = dfaotizhongxin['PM2.5'].values #Kota Aotizhongxin\n",
        "mch = dfchangping['No'].values\n",
        "pmci = dfchangping['PM2.5'].values #Kota Changping\n",
        "dli = dfdingling['No'].values\n",
        "pmdi = dfdingling['PM2.5'].values #Kota Dingling\n",
        "mdo = dfdongsi['No'].values\n",
        "pmdoi = dfdongsi['PM2.5'].values #Kota Dongsi\n",
        "mgua = dfguanyuan['No'].values\n",
        "pmguai = dfguanyuan['PM2.5'].values #Kota Guanyuan\n",
        "mguc = dfgucheng['No'].values\n",
        "pmguci = dfgucheng['PM2.5'].values #Kota Gucheng\n",
        "mhua = dfhuairou['No'].values\n",
        "pmhuai = dfhuairou['PM2.5'].values #Kota Huairou\n",
        "mnon = dfnonzhanguan['No'].values\n",
        "pmnoni = dfnonzhanguan['PM2.5'].values #Kota Nonzhanguan\n",
        "msh = dfshunyi['No'].values\n",
        "pmshi = dfshunyi['PM2.5'].values #Kota Shunyi\n",
        "mtia = dftiantan['No'].values\n",
        "pmtiai = dftiantan['PM2.5'].values #Kota Tiantan\n",
        "mwan = dfwanliu['No'].values\n",
        "pmwani = dfwanliu['PM2.5'].values #Kota Wanliu\n",
        "mwax = dfwanshouxigong['No'].values\n",
        "pmwaxi = dfwanshouxigong['PM2.5'].values #Kota Wanshouxigong\n",
        "\n",
        "#untuk ukuran PM10 lanjut ke bagian lain"
      ],
      "metadata": {
        "id": "Jo6CIHwyfaf3"
      },
      "execution_count": 14,
      "outputs": []
    },
    {
      "cell_type": "code",
      "source": [
        "#pengukuran PM10\n",
        "mao = dfaotizhongxin['No'].values\n",
        "pmaii = dfaotizhongxin['PM10'].values #Kota Aotizhongxin\n",
        "mch = dfchangping['No'].values\n",
        "pmcii = dfchangping['PM10'].values #Kota Changping\n",
        "mdi = dfdingling['No'].values\n",
        "pmdii = dfdingling['PM10'].values #Kota Dingling\n",
        "mdo = dfdongsi['No'].values\n",
        "pmdoii = dfdongsi['PM10'].values #Kota Dongsi\n",
        "mgua = dfguanyuan['No'].values\n",
        "pmguaii = dfguanyuan['PM10'].values #Kota Guanyuan\n",
        "mguc = dfgucheng['No'].values\n",
        "pmgucii = dfgucheng['PM10'].values #Kota Gucheng\n",
        "mhua = dfhuairou['No'].values\n",
        "pmhuaii = dfhuairou['PM10'].values #Kota Huairou\n",
        "\n",
        "#Lanjut ke bagian selanjutnya"
      ],
      "metadata": {
        "id": "elaPc_Mb2FG0"
      },
      "execution_count": 15,
      "outputs": []
    },
    {
      "cell_type": "code",
      "source": [
        "#Dari Huairou\n",
        "mnon = dfnonzhanguan['No'].values\n",
        "pmnonii = dfnonzhanguan['PM10'].values #Kota Nonzhanguan\n",
        "msh = dfshunyi['No'].values\n",
        "pmshii = dfshunyi['PM10'].values #Kota Shunyi\n",
        "mtia = dftiantan['No'].values\n",
        "pmtiaii = dftiantan['PM10'].values #Kota Tiantan\n",
        "mwan = dfwanliu['No'].values\n",
        "pmwanii = dfwanliu['PM10'].values #Kota Wanliu\n",
        "mwax = dfwanshouxigong['No'].values\n",
        "pmwaxii = dfwanshouxigong['PM10'].values #Kota Wanshouxigong\n",
        "\n",
        "#lanjut ke halaman lain untuk eksekusi"
      ],
      "metadata": {
        "id": "iwy_tbir9o0U"
      },
      "execution_count": null,
      "outputs": []
    },
    {
      "cell_type": "code",
      "source": [
        "#persiapan model eksponensial untuk PM2.5 dan PM10\n",
        "okao = okrig(x=mao, y=pmai, z=pmaii, variogram_model='exponential') #Aotizhongxin\n",
        "okch = okrig(x=mch, y=pmci, z=pmcii, variogram_model='exponential') #Changping\n",
        "okdli = okrig(x=dli, y=pmdi, z=pmdii, variogram_model='exponential') #Dingling\n",
        "okdo = okrig(x=mdo, y=pmdoi, z=pmdoii, variogram_model='exponential') #Dongsi\n",
        "okgua = okrig(x=mgua, y=pmguai, z=pmguaii, variogram_model='exponential') #Guanyuan\n",
        "okguc = okrig(x=mguc, y=pmguci, z=pmgucii, variogram_model='exponential') #Gucheng\n",
        "okhua = okrig(x=mhua, y=pmhuai, z=pmhuaii, variogram_model='exponential') #Huairou\n",
        "oknon = okrig(x=mnon, y=pmnoni, z=pmnonii, variogram_model='exponential') #Nonzhanguan\n",
        "oksh = okrig(x=msh, y=pmshi, z=pmshii, variogram_model='exponential') #Shunyi\n",
        "oktia = okrig(x=mtia, y=pmtiai, z=pmtiaii, variogram_model='exponential') #Tiantan\n",
        "okwal = okrig(x=mwan, y=pmwani, z=pmwanii, variogram_model='exponential') #Wanliu\n",
        "okwax = okrig(x=mwax, y=pmwaxi, z=pmwaxii, variogram_model='exponential') #Wanshouxigong\n",
        "#lanjut ke prediksi"
      ],
      "metadata": {
        "id": "9vMFTz8l2Jcf"
      },
      "execution_count": 16,
      "outputs": []
    },
    {
      "cell_type": "code",
      "source": [
        "#perincian nilai 'grid' untuk interpolasi masing-masing kota (pm2.5 adalah sumbu x)\n",
        "grixao = np.arange(start=dfaotizhongxin['PM2.5'].min(), stop=dfaotizhongxin['PM2.5'].max(), step=1, dtype=int)\n",
        "grixch = np.arange(start=dfchangping['PM2.5'].min(), stop=dfchangping['PM2.5'].max(), step=1, dtype=int)\n",
        "grixdl = np.arange(start=dfdingling['PM2.5'].min(), stop=dfdingling['PM2.5'].max(), step=1, dtype=int)\n",
        "grixdo = np.arange(start=dfdongsi['PM2.5'].min(), stop=dfdongsi['PM2.5'].max(), step=1, dtype=int)\n",
        "grixgua = np.arange(start=dfguanyuan['PM2.5'].min(), stop=dfguanyuan['PM2.5'].max(), step=1, dtype=int)\n",
        "grixguc = np.arange(start=dfgucheng['PM2.5'].min(), stop=dfgucheng['PM2.5'].max(), step=1, dtype=int)\n",
        "grixhua = np.arange(start=dfhuairou['PM2.5'].min(), stop=dfhuairou['PM2.5'].max(), step=1, dtype=int)\n",
        "grixnon = np.arange(start=dfnonzhanguan['PM2.5'].min(), stop=dfnonzhanguan['PM2.5'].max(), step=1, dtype=int)\n",
        "grixsh = np.arange(start=dfshunyi['PM2.5'].min(), stop=dfshunyi['PM2.5'].max(), step=1, dtype=int)\n",
        "grixtia = np.arange(start=dftiantan['PM2.5'].min(), stop=dftiantan['PM2.5'].max(), step=1, dtype=int)\n",
        "grixwan = np.arange(start=dfwanliu['PM2.5'].min(), stop=dfwanliu['PM2.5'].max(), step=1, dtype=int)\n",
        "grixwax = np.arange(start=dfwanshouxigong['PM2.5'].min(), stop=dfwanshouxigong['PM2.5'].max(), step=1, dtype=int)\n",
        "#Bagian PM10 di bagian selanjutnya"
      ],
      "metadata": {
        "id": "dq5f77ehw5o3"
      },
      "execution_count": 18,
      "outputs": []
    },
    {
      "cell_type": "code",
      "source": [
        "#Bagian PM10 (sumbu y)\n",
        "griyao = np.arange(start=dfaotizhongxin['PM10'].min(), stop=dfaotizhongxin['PM10'].max(), step=1, dtype=int)\n",
        "griych = np.arange(start=dfchangping['PM10'].min(), stop=dfchangping['PM10'].max(), step=1, dtype=int)\n",
        "griydl = np.arange(start=dfdingling['PM10'].min(), stop=dfdingling['PM10'].max(), step=1, dtype=int)\n",
        "griydo = np.arange(start=dfdongsi['PM10'].min(), stop=dfdongsi['PM10'].max(), step=1, dtype=int)\n",
        "griygua = np.arange(start=dfguanyuan['PM10'].min(), stop=dfguanyuan['PM10'].max(), step=1, dtype=int)\n",
        "griyguc = np.arange(start=dfgucheng['PM10'].min(), stop=dfgucheng['PM10'].max(), step=1, dtype=int)\n",
        "griyhua = np.arange(start=dfhuairou['PM10'].min(), stop=dfhuairou['PM10'].max(), step=1, dtype=int)\n",
        "griynon = np.arange(start=dfnonzhanguan['PM10'].min(), stop=dfnonzhanguan['PM10'].max(), step=1, dtype=int)\n",
        "griysh = np.arange(start=dfshunyi['PM10'].min(), stop=dfshunyi['PM10'].max(), step=1, dtype=int)\n",
        "griytia = np.arange(start=dftiantan['PM10'].min(), stop=dftiantan['PM10'].max(), step=1, dtype=int)\n",
        "griywan = np.arange(start=dfwanliu['PM10'].min(), stop=dfwanliu['PM10'].max(), step=1, dtype=int)\n",
        "griywax = np.arange(start=dfwanshouxigong['PM10'].min(), stop=dfwanshouxigong['PM10'].max(), step=1, dtype=int)\n"
      ],
      "metadata": {
        "id": "90jUmcVL7rrV"
      },
      "execution_count": 19,
      "outputs": []
    },
    {
      "cell_type": "code",
      "source": [
        "#eksekusi nilai 'grid' untuk enam kota kota\n",
        "zao = okao.execute(mao, grixao, griyao) #Aotizhongxin\n",
        "zch = okch.execute(mch,grixch, griych) #Changpin\n",
        "zdl = okdli.execute(mdi, grixdl, griydl) #Dingling\n",
        "zdo = okdo.execute(mdo, grixdo, griydo) #Dongsi\n",
        "zgua = okgua.execute(mgua, grixgua, griygua) #Guanyuan\n",
        "zgu =  okguc.execute(mguc, grixguc, griyguc) #Gucheng\n",
        "zhua = okhua.execute(mhua, grixhua, griyhua) #Huairou"
      ],
      "metadata": {
        "colab": {
          "base_uri": "https://localhost:8080/",
          "height": 211
        },
        "id": "h0wo4bHz7yUe",
        "outputId": "d7e73de7-ad25-47e2-84a6-495c02b6d45f"
      },
      "execution_count": 1,
      "outputs": [
        {
          "output_type": "error",
          "ename": "NameError",
          "evalue": "name 'okao' is not defined",
          "traceback": [
            "\u001b[0;31m---------------------------------------------------------------------------\u001b[0m",
            "\u001b[0;31mNameError\u001b[0m                                 Traceback (most recent call last)",
            "\u001b[0;32m<ipython-input-1-18e7137af14e>\u001b[0m in \u001b[0;36m<cell line: 2>\u001b[0;34m()\u001b[0m\n\u001b[1;32m      1\u001b[0m \u001b[0;31m#eksekusi nilai 'grid' untuk enam kota kota\u001b[0m\u001b[0;34m\u001b[0m\u001b[0;34m\u001b[0m\u001b[0m\n\u001b[0;32m----> 2\u001b[0;31m \u001b[0mzao\u001b[0m \u001b[0;34m=\u001b[0m \u001b[0mokao\u001b[0m\u001b[0;34m.\u001b[0m\u001b[0mexecute\u001b[0m\u001b[0;34m(\u001b[0m\u001b[0mmao\u001b[0m\u001b[0;34m,\u001b[0m \u001b[0mgrixao\u001b[0m\u001b[0;34m,\u001b[0m \u001b[0mgriyao\u001b[0m\u001b[0;34m)\u001b[0m \u001b[0;31m#Aotizhongxin\u001b[0m\u001b[0;34m\u001b[0m\u001b[0;34m\u001b[0m\u001b[0m\n\u001b[0m\u001b[1;32m      3\u001b[0m \u001b[0mzch\u001b[0m \u001b[0;34m=\u001b[0m \u001b[0mokch\u001b[0m\u001b[0;34m.\u001b[0m\u001b[0mexecute\u001b[0m\u001b[0;34m(\u001b[0m\u001b[0mmch\u001b[0m\u001b[0;34m,\u001b[0m\u001b[0mgrixch\u001b[0m\u001b[0;34m,\u001b[0m \u001b[0mgriych\u001b[0m\u001b[0;34m)\u001b[0m \u001b[0;31m#Changpin\u001b[0m\u001b[0;34m\u001b[0m\u001b[0;34m\u001b[0m\u001b[0m\n\u001b[1;32m      4\u001b[0m \u001b[0mzdl\u001b[0m \u001b[0;34m=\u001b[0m \u001b[0mokdli\u001b[0m\u001b[0;34m.\u001b[0m\u001b[0mexecute\u001b[0m\u001b[0;34m(\u001b[0m\u001b[0mmdi\u001b[0m\u001b[0;34m,\u001b[0m \u001b[0mgrixdl\u001b[0m\u001b[0;34m,\u001b[0m \u001b[0mgriydl\u001b[0m\u001b[0;34m)\u001b[0m \u001b[0;31m#Dingling\u001b[0m\u001b[0;34m\u001b[0m\u001b[0;34m\u001b[0m\u001b[0m\n\u001b[1;32m      5\u001b[0m \u001b[0mzdo\u001b[0m \u001b[0;34m=\u001b[0m \u001b[0mokdo\u001b[0m\u001b[0;34m.\u001b[0m\u001b[0mexecute\u001b[0m\u001b[0;34m(\u001b[0m\u001b[0mmdo\u001b[0m\u001b[0;34m,\u001b[0m \u001b[0mgrixdo\u001b[0m\u001b[0;34m,\u001b[0m \u001b[0mgriydo\u001b[0m\u001b[0;34m)\u001b[0m \u001b[0;31m#Dongsi\u001b[0m\u001b[0;34m\u001b[0m\u001b[0;34m\u001b[0m\u001b[0m\n",
            "\u001b[0;31mNameError\u001b[0m: name 'okao' is not defined"
          ]
        }
      ]
    },
    {
      "cell_type": "code",
      "source": [
        "#dari non zhanguan\n",
        "znon = oknon.execute(mnon, grixnon, griynon) #Nonzhanguan\n",
        "zsh = oksh.execute(msh, grixsh, griysh) #Shunyi\n",
        "ztia = oktia.execute(mtia, grixtia, griytia) #Tiantan\n",
        "zwan = okwal.execute(mwan, grixwan, griywan) #Wanliu\n",
        "zwax = okwax.execute(mwax, grixwax, griywax) #Wanshouxigong"
      ],
      "metadata": {
        "id": "pPsRi25g3R25"
      },
      "execution_count": null,
      "outputs": []
    },
    {
      "cell_type": "markdown",
      "source": [
        "##Untuk empat gas (dalam mikrometer/m^3)\n",
        "Empat gas ini memiliki penandaan yang berbeda\n",
        "*   Kode untuk gas SO2 adalah 's'\n",
        "*   Kode untuk gas NO adalah 'n'\n",
        "* Kode untuk gas CO adalah 'c'\n",
        "* Kode untuk gas O3 adalah 'o'\n",
        "\n"
      ],
      "metadata": {
        "id": "dIBwXZAYg8uf"
      }
    },
    {
      "cell_type": "code",
      "source": [
        "#gas NO dan gas SO2 ('s' dan 'n')\n",
        "mao = dfaotizhongxin['No'].values\n",
        "so2ai = dfaotizhongxin['SO2'].values #Kota Aotizhongxin\n",
        "no2ai = dfaotizhongxin['NO2'].values #Kota Aotizhongxin\n",
        "mch = dfchangping['No'].values\n",
        "so2ci = dfchangping['SO2'].values #Kota Changping\n",
        "no2ci = dfchangping['NO2'].values #Kota Changping\n",
        "dli = dfdingling['No'].values\n",
        "so2di = dfdingling['SO2'].values #Kota Dingling\n",
        "no2di = dfdingling['NO2'].values #Kota Dingling\n",
        "mdo = dfdongsi['No'].values\n",
        "so2doi = dfdongsi['SO2'].values #Kota Dongsi\n",
        "no2doi = dfdongsi['NO2'].values #Kota Dongsi\n"
      ],
      "metadata": {
        "id": "XNZhztbzh0kK"
      },
      "execution_count": null,
      "outputs": []
    },
    {
      "cell_type": "code",
      "source": [
        "#dari guanyuan ke kota Shunyi\n",
        "mgua = dfguanyuan['No'].values\n",
        "so2gua = dfguanyuan['SO2'].values #Kota Guanyuan\n",
        "no2gua = dfguanyuan['NO2'].values #Kota Guanyuan\n",
        "mguc = dfgucheng['No'].values\n",
        "so2guci = dfgucheng['SO2'].values #Kota Gucheng\n",
        "no2guci = dfgucheng['NO2'].values #Kota Gucheng\n",
        "mhua = dfhuairou['No'].values\n",
        "so2huai = dfhuairou['SO2'].values #Kota Huairou\n",
        "no2huai = dfhuairou['NO2'].values #Kota Huairou\n",
        "mnon = dfnonzhanguan['No'].values\n",
        "so2noni = dfnonzhanguan['SO2'].values #Kota Nonzhanguan\n",
        "no2noni = dfnonzhanguan['NO2'].values #Kota Nonzhanguan\n",
        "mosh = dfshunyi['No'].values\n",
        "so2shi = dfshunyi['SO2'].values #Kota Shunyi\n",
        "no2shi = dfshunyi['NO2'].values #Kota Shunyi\n",
        "\n"
      ],
      "metadata": {
        "id": "gW-9Rc4y2ls-"
      },
      "execution_count": null,
      "outputs": []
    },
    {
      "cell_type": "code",
      "source": [
        "#Bagian akhir\n",
        "mtia = dftiantan['No'].values\n",
        "so2ti = dftiantan['SO2'].values #Kota Tiantan\n",
        "no2ti = dftiantan['NO2'].values #Kota Tiantan\n",
        "mowal = dfwanliu['No'].values\n",
        "so2wani = dfwanliu['SO2'].values #Kota Wanliu\n",
        "no2wani = dfwanliu['NO2'].values #Kota Wanliu\n",
        "mowax = dfwanshouxigong['No'].values\n",
        "so2waxi = dfwanshouxigong['SO2'].values #Kota Wanshouxigong\n",
        "no2waxi = dfwanshouxigong['NO2'].values #Kota Wanshouxigong\n",
        "\n",
        "\n",
        "#persiapan model untuk gas NO2 dan SO2\n",
        "okaoii = okrig(x=mao, y=so2ai, z=no2ai, variogram_model='exponential') #Aotizhongxin\n",
        "okchii = okrig(x=mch, y=so2ci, z=no2ci, variogram_model='exponential') #Changping\n",
        "okdlii = okrig(x=dli, y=so2di, z=no2di, variogram_model='exponential') #Dingling\n",
        "okdoii = okrig(x=mdo, y=so2doi, z=no2doi, variogram_model='exponential') #Dongsi\n",
        "okguaii = okrig(x=mgua, y=so2gua, z=no2gua, variogram_model='exponential') #Guanyuan\n",
        "okgucii = okrig(x=mguc, y=so2guci, z=no2guci, variogram_model='exponential') #Gucheng\n",
        "okhuaii = okrig(x=mhua, y=so2huai, z=no2huai, variogram_model='exponential') #Huairou"
      ],
      "metadata": {
        "id": "SKQoptVd4lPs"
      },
      "execution_count": null,
      "outputs": []
    },
    {
      "cell_type": "code",
      "source": [
        "#lanjutan pemeriksaan (eksekusi untuk gas SO2 dan NO2)\n",
        "oknonii = okrig(x=mnon, y=so2noni, z=no2noni, variogram_model='exponential')#Nonzhanguan\n",
        "okshii = okrig(x=mosh, y=so2shi, z=no2shi, variogram_model='exponential') #Shunyi\n",
        "oktia = okrig(x=mtia, y=so2ti, z=no2ti, variogram_model='exponential') #Tiantan\n",
        "\n",
        "#tahap eksekusi awal"
      ],
      "metadata": {
        "id": "8FiaiWjTvLxU"
      },
      "execution_count": null,
      "outputs": []
    },
    {
      "cell_type": "code",
      "source": [
        "#gas CO dan O3 ('c' dan 'o')\n",
        "mao = dfaotizhongxin['No'].values\n",
        "coai = dfaotizhongxin['CO'].values #Kota Aotizhongxin\n",
        "ozai = dfaotizhongxin['O3'].values #Kota Aotizhongxin\n",
        "mch = dfchangping['No'].values\n",
        "cochi = dfchangping['CO'].values #Kota Changping\n",
        "ozchi = dfchangping['O3'].values #Kota Changping\n",
        "dli = dfdingling['No'].values\n",
        "codi = dfdingling['CO'].values #Kota Dingling\n",
        "ozdli = dfdingling['O3'].values #Kota Dingling\n",
        "mdo = dfdongsi['No'].values\n",
        "codoi = dfdongsi['CO'].values #Kota Dongsi\n",
        "ozdoi = dfdongsi['O3'].values #Kota Dongsi\n",
        "mgua = dfguanyuan['No'].values\n",
        "cogua = dfguanyuan['CO'].values #Kota Guanyuan\n",
        "ozgua = dfguanyuan['O3'].values #Kota Guanyuan\n",
        "mguc = dfgucheng['No'].values\n",
        "coguc = dfgucheng['CO'].values #Kota Gucheng\n",
        "ozguc = dfgucheng['O3'].values #Kota Gucheng\n",
        "mhua = dfhuairou['No'].values\n",
        "cohuai = dfhuairou['CO'].values #Kota Huairou\n",
        "ozhuai = dfhuairou['O3'].values #Kota Huairou\n",
        "\n"
      ],
      "metadata": {
        "id": "N8C7rqX3nlk7"
      },
      "execution_count": null,
      "outputs": []
    },
    {
      "cell_type": "code",
      "source": [
        "#Lanjutan analisis (persiapan untuk gas CO dan O3)\n",
        "okaoiiii = okrig(x=mao, y=coai, z=ozai, variogram_model='exponential') #Aotizhongxin\n",
        "okchiii = okrig(x=mch, y=cochi, z=ozchi, variogram_model='exponential') #Changping"
      ],
      "metadata": {
        "id": "sKHYUn7yv7Cv"
      },
      "execution_count": null,
      "outputs": []
    },
    {
      "cell_type": "code",
      "source": [
        "#Bagian 2\n"
      ],
      "metadata": {
        "id": "TNAdWD_74yaA"
      },
      "execution_count": null,
      "outputs": []
    },
    {
      "cell_type": "markdown",
      "source": [
        "##Pengisian data hilang untuk arah angin dan kecepatan\n"
      ],
      "metadata": {
        "id": "u4Ja19ApckoT"
      }
    },
    {
      "cell_type": "code",
      "source": [
        "#persiapan pengisian data hilang di arah angin\n",
        "dfaotizhongxin['wd'] = dfaotizhongxin['wd'].fillna('unknown', inplace=True) #Kota Aotizhongxin\n",
        "dfchangping['wd'] = dfchangping['wd'].fillna('unknown', inplace=True) #Kota Changping\n",
        "dfdingling['wd'] = dfdingling['wd'].fillna('unknown', inplace=True) #Kota Dingling\n",
        "dfdongsi['wd'] = dfdongsi['wd'].fillna('unknown', inplace=True) #Kota Dongsi\n",
        "dfguanyuan['wd'] = dfguanyuan['wd'].fillna('unknown', inplace=True) #Kota Guanyuan\n",
        "dfgucheng['wd'] = dfgucheng['wd'].fillna('unknown', inplace=True) #Kota Gucheng\n",
        "dfhuairou['wd'] = dfhuairou['wd'].fillna('unknown', inplace=True) #Kota Huairou\n",
        "dfnonzhanguan['wd'] = dfnonzhanguan['wd'].fillna('unknown', inplace=True) #Kota Nonzhanguan\n",
        "dfshunyi['wd'] = dfshunyi['wd'].fillna('unknown', inplace=True) #Kota Shunyi\n",
        "\n",
        "#interpolasi linear untuk kecepatan angin\n",
        "dfaotizhongxin['WSPM'] = dfaotizhongxin['WSPM'].interpolate(method='linear') #Kota Aotizhongxin\n",
        "dfchangping['WSPM'] = dfchangping['WSPM'].interpolate(method='linear') #Kota Changping\n",
        "dfdingling['WSPM'] = dfdingling['WSPM'].interpolate(method='linear') #Kota Dingling\n",
        "dfdongsi['WSPM'] = dfdongsi['WSPM'].interpolate(method='linear') #Kota Dongsi\n",
        "dfguanyuan['WSPM'] = dfguanyuan['WSPM'].interpolate(method='linear') #Kota Guanyuan\n",
        "dfhuairou['WSPM'] = dfhuairou['WSPM'].interpolate(method='linear') #Kota Huairou\n",
        "dfnonzhanguan['WSPM'] = dfnonzhanguan['WSPM'].interpolate(method='linear') #Kota Nonzhanguan\n",
        "dfshunyi['WSPM'] = dfshunyi['WSPM'].interpolate(method='linear') #Kota Shunyi\n",
        "\n"
      ],
      "metadata": {
        "id": "oaFRS75xcr7M"
      },
      "execution_count": 17,
      "outputs": []
    },
    {
      "cell_type": "markdown",
      "metadata": {
        "id": "gp-Y6wU38DC1"
      },
      "source": [
        "## Exploratory Data Analysis (EDA)"
      ]
    },
    {
      "cell_type": "markdown",
      "source": [
        "**Insight:**\n",
        "- xxx\n",
        "- xxx"
      ],
      "metadata": {
        "id": "MMi6xGaDkbCi"
      }
    },
    {
      "cell_type": "markdown",
      "source": [
        "**Insight:**\n",
        "- xxx\n",
        "- xxx"
      ],
      "metadata": {
        "id": "7dtxhAPrkhPL"
      }
    },
    {
      "cell_type": "markdown",
      "source": [
        "**Insight:**\n",
        "- xxx\n",
        "- xxx"
      ],
      "metadata": {
        "id": "Q_5ejIqckiSP"
      }
    },
    {
      "cell_type": "markdown",
      "metadata": {
        "id": "MW7WF2kr8DC1"
      },
      "source": [
        "### Explore The insight"
      ]
    },
    {
      "cell_type": "code",
      "execution_count": null,
      "metadata": {
        "id": "e9CQCZjk8DC2"
      },
      "outputs": [],
      "source": [
        "# eksplirasi\n"
      ]
    },
    {
      "cell_type": "markdown",
      "source": [
        "**Insight:**\n",
        "- xxx\n",
        "- xxx"
      ],
      "metadata": {
        "id": "th_Lzl2Fkj9O"
      }
    },
    {
      "cell_type": "markdown",
      "metadata": {
        "id": "zsyZjqak8DC2"
      },
      "source": [
        "## Visualization & Explanatory Analysis"
      ]
    },
    {
      "cell_type": "markdown",
      "metadata": {
        "id": "HZxOiQ6n8DC2"
      },
      "source": [
        "### Pertanyaan 1:"
      ]
    },
    {
      "cell_type": "code",
      "execution_count": null,
      "metadata": {
        "id": "1swJUdAD8DC2"
      },
      "outputs": [],
      "source": [
        "#Tahap awal visualisasi untuk pertanyaan 1\n"
      ]
    },
    {
      "cell_type": "markdown",
      "metadata": {
        "id": "DgHI7CiU8DC2"
      },
      "source": [
        "### Pertanyaan 2:"
      ]
    },
    {
      "cell_type": "code",
      "execution_count": null,
      "metadata": {
        "id": "Go0lCsvO8DC2"
      },
      "outputs": [],
      "source": [
        "#Tahap awal visualisasi untuk pertanyaan 1\n"
      ]
    },
    {
      "cell_type": "markdown",
      "source": [
        "**Insight:**\n",
        "- xxx\n",
        "- xxx"
      ],
      "metadata": {
        "id": "_0-36BDLklRg"
      }
    },
    {
      "cell_type": "markdown",
      "source": [
        "## Analisis Lanjutan (Opsional)"
      ],
      "metadata": {
        "id": "9y4VUsmcYNZ5"
      }
    },
    {
      "cell_type": "code",
      "source": [],
      "metadata": {
        "id": "iWhnzsJGYUCO"
      },
      "execution_count": null,
      "outputs": []
    },
    {
      "cell_type": "markdown",
      "metadata": {
        "id": "_WeHlCeX8DC2"
      },
      "source": [
        "## Conclusion"
      ]
    },
    {
      "cell_type": "markdown",
      "metadata": {
        "id": "ZTcyR48Y8DC2"
      },
      "source": [
        "- Conclution pertanyaan 1\n",
        "- Conclution pertanyaan 2"
      ]
    }
  ],
  "metadata": {
    "kernelspec": {
      "display_name": "Python 3",
      "language": "python",
      "name": "python3"
    },
    "language_info": {
      "name": "python",
      "version": "3.8.0 (tags/v3.8.0:fa919fd, Oct 14 2019, 19:21:23) [MSC v.1916 32 bit (Intel)]"
    },
    "orig_nbformat": 4,
    "vscode": {
      "interpreter": {
        "hash": "972b3bf27e332e87b5379f2791f6ef9dfc79c71018c370b0d7423235e20fe4d7"
      }
    },
    "colab": {
      "provenance": [],
      "include_colab_link": true
    }
  },
  "nbformat": 4,
  "nbformat_minor": 0
}