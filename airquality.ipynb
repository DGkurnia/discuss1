{
  "cells": [
    {
      "cell_type": "markdown",
      "metadata": {
        "id": "view-in-github",
        "colab_type": "text"
      },
      "source": [
        "<a href=\"https://colab.research.google.com/github/DGkurnia/discuss1/blob/main/airquality.ipynb\" target=\"_parent\"><img src=\"https://colab.research.google.com/assets/colab-badge.svg\" alt=\"Open In Colab\"/></a>"
      ]
    },
    {
      "cell_type": "markdown",
      "metadata": {
        "id": "H9wADwK78DCz"
      },
      "source": [
        "# Proyek Analisis Data: [Input Nama Dataset]\n",
        "- **Nama:** [Derfansyah Guswiranata Kurnia]\n",
        "- **Email:** [weerakurnia@gmail.com]\n",
        "- **ID Dicoding:** [dgkurnia]"
      ]
    },
    {
      "cell_type": "markdown",
      "metadata": {
        "id": "eE0raob58DC0"
      },
      "source": [
        "## Menentukan Pertanyaan Bisnis"
      ]
    },
    {
      "cell_type": "markdown",
      "metadata": {
        "id": "GmQeQ5YF8DC0"
      },
      "source": [
        "- Pertanyaan 1 : Bagaimana kondisi suhu di dua belas kota dari tahun 2013 samapai 2017 ?\n",
        "- Pertanyaan 2 : Bagaimana pemeriksaan ukuran partikuler (untuk PM 2.5 dan PM 10) di dua belas kota dari tahun 2013 sampai 2017 ?.\n",
        "- Pertanyaan 3 : Bagaimana pemeriksaan kadar sulfur dioksida (SO2), kadar nitrogen monoksida (NO) dan karbon monoksida (CO) di dua belas kota dari tahun 2013 sampai 2017 ?.\n",
        "- Pertanyaan 4 : Bagaimana pemeriksaan kondisi gas ozone (O3) dari tahun 2013 sampai 2017 ?."
      ]
    },
    {
      "cell_type": "code",
      "source": [
        "from google.colab import drive\n",
        "drive.mount('/content/drive') #dasar instalasi file dari Google Drive"
      ],
      "metadata": {
        "id": "iF46fY_-9rex",
        "colab": {
          "base_uri": "https://localhost:8080/"
        },
        "outputId": "1be204a1-4afd-4725-9656-13a235e1711d"
      },
      "execution_count": 1,
      "outputs": [
        {
          "output_type": "stream",
          "name": "stdout",
          "text": [
            "Mounted at /content/drive\n"
          ]
        }
      ]
    },
    {
      "cell_type": "markdown",
      "metadata": {
        "id": "H-z4QGlO8DC1"
      },
      "source": [
        "## Import Semua Packages/Library yang Digunakan"
      ]
    },
    {
      "cell_type": "code",
      "execution_count": 2,
      "metadata": {
        "id": "FVYwaObI8DC1"
      },
      "outputs": [],
      "source": [
        "#persiapan perpustakaan dan file untuk pembersihan\n",
        "import numpy as np\n",
        "import pandas as pd #dasar pengelolaan data\n",
        "import matplotlib.pyplot as plt\n",
        "import seaborn as sns\n",
        "import warnings\n",
        "warnings.filterwarnings('ignore')\n",
        "from datetime import datetime # dasar pengelolaan data berbasis waktu\n",
        "from scipy.interpolate import interp1d"
      ]
    },
    {
      "cell_type": "markdown",
      "metadata": {
        "id": "h_Sh51Xy8DC1"
      },
      "source": [
        "## Data Wrangling"
      ]
    },
    {
      "cell_type": "code",
      "source": [
        "#persiapan insersi data\n",
        "dfaotizhongxin = pd.read_csv('/content/drive/MyDrive/csv-files/aqins/aotizhongxin.csv')\n",
        "dfchangping = pd.read_csv('/content/drive/MyDrive/csv-files/aqins/changping.csv')\n",
        "dfdingling = pd.read_csv('/content/drive/MyDrive/csv-files/aqins/dingling.csv')\n",
        "dfdongsi = pd.read_csv('/content/drive/MyDrive/csv-files/aqins/dongsi.csv')\n",
        "dfguanyuan = pd.read_csv('/content/drive/MyDrive/csv-files/aqins/guanyuan.csv')\n",
        "dfgucheng = pd.read_csv('/content/drive/MyDrive/csv-files/aqins/gucheng.csv')\n",
        "dfhuairou = pd.read_csv('/content/drive/MyDrive/csv-files/aqins/huairo.csv')\n",
        "dfnonzhanguan = pd.read_csv('/content/drive/MyDrive/csv-files/aqins/nonzhanguan.csv')\n",
        "dfshunyi = pd.read_csv('/content/drive/MyDrive/csv-files/aqins/shunyi.csv')\n",
        "dftiantan = pd.read_csv('/content/drive/MyDrive/csv-files/aqins/tiantan.csv')\n",
        "dfwanliu = pd.read_csv('/content/drive/MyDrive/csv-files/aqins/wanliu.csv')\n",
        "dfwanshouxigong = pd.read_csv('/content/drive/MyDrive/csv-files/aqins/wanshouxigong.csv')\n",
        "\"\"\"\n",
        "Kota awal adalah Aotizhungxin dan kota akhir adalah Wanshouxigong\n",
        "\"\"\""
      ],
      "metadata": {
        "id": "yMQnk69f9BNg",
        "colab": {
          "base_uri": "https://localhost:8080/",
          "height": 35
        },
        "outputId": "d328e43e-3e7a-45cd-f268-b766a8b04eaa"
      },
      "execution_count": 3,
      "outputs": [
        {
          "output_type": "execute_result",
          "data": {
            "text/plain": [
              "'\\nKota awal adalah Aotizhungxin dan kota akhir adalah Wanshouxigong\\n'"
            ],
            "application/vnd.google.colaboratory.intrinsic+json": {
              "type": "string"
            }
          },
          "metadata": {},
          "execution_count": 3
        }
      ]
    },
    {
      "cell_type": "markdown",
      "metadata": {
        "id": "sXU2GBYu8DC1"
      },
      "source": [
        "### Tahap Pengumpulan (Gathering Data)\n",
        "#### rincian dari pengumpulan data : ada 12 dataset kota yang terdiri dari\n",
        "* Nomor\n",
        "* Tahun\n",
        "* Bulan\n",
        "* Jam\n",
        "* kadar partikulat (PM 2.5 dan 10)\n",
        "* kadar senyawa SO2, NO, CO, dan O3 (dalam mikrogram/ m^3)\n",
        "* tempratur (dalam celsius)\n",
        "* Nilai tekanan (dalam hektoPascal)\n",
        "* arah angin dan kecepatan angin\n",
        "-- Nilai Tahun, bulan dan jam bisa diubah menjadi tanggal.\n"
      ]
    },
    {
      "cell_type": "markdown",
      "metadata": {
        "id": "FHSiqaZp8DC1"
      },
      "source": [
        "### Assessing Data\n",
        "#### Hal yang diperhatikan dalam pemeriksaan kadar udara\n",
        "- Total data duplikat\n",
        "-- Aotizhongxin : tidak ada\n",
        "-- Changpin : Tidak ada\n",
        "- Jumlah data hilang di masing-masing unit\n",
        "-- Kota Aotizhingxin : 925 data di PM2.5, 718 di PM 10. Tiga kolom memiliki data kosong di atas 500\n",
        "-- Kota Changpin : banyak data hilang berada di pemeriksaan empat gas tersebut\n",
        "--- Kota lain memiliki kecendrungan untuk memiliki data kosong di kondisi tersebut\n",
        "#### Hal unik lain\n",
        "Forrmat tanggal yang salah (awalnya tahun, bulan, hari, dan jam) yang dipisah"
      ]
    },
    {
      "cell_type": "code",
      "execution_count": 4,
      "metadata": {
        "id": "zjCBk1BI8DC1",
        "colab": {
          "base_uri": "https://localhost:8080/",
          "height": 35
        },
        "outputId": "b69b1b23-2f75-4dec-a22d-a2f84bd227c7"
      },
      "outputs": [
        {
          "output_type": "execute_result",
          "data": {
            "text/plain": [
              "'\\npemeriksaan data dari data kurang lengkap untuk enam kota pertama :\\n(kota Aotizhongxin sampai Huairo)\\n'"
            ],
            "application/vnd.google.colaboratory.intrinsic+json": {
              "type": "string"
            }
          },
          "metadata": {},
          "execution_count": 4
        }
      ],
      "source": [
        "\"\"\"\n",
        "pemeriksaan data dari data kurang lengkap untuk enam kota pertama :\n",
        "(kota Aotizhongxin sampai Huairo)\n",
        "\"\"\"\n",
        "#dfaotizhongxin.info()\n",
        "#dfaotizhongxin.isnull().sum()\n",
        "#dfaotizhongxin.duplicated().sum() # kota Aotizhongxin\n",
        "#dfchangping.info()\n",
        "#dfchangping.isnull().sum()\n",
        "#dfchangping.duplicated().sum() # Changping\n",
        "#dfdongsi.isnull().sum()\n",
        "#dfdongsi.duplicated().sum()\n",
        "#dfdingling.info()\n",
        "#dfdingling.isnull().sum()\n",
        "#dfdingling.duplicated().sum() #Dingling"
      ]
    },
    {
      "cell_type": "code",
      "source": [
        "\"\"\"\n",
        "pemeriksaan data dari data kurang lengkap untuk enam kota terakhir :\n",
        "(kota Nonzhanguan sampai Wanshouxigong)\n",
        "\"\"\"\n",
        "#dfnonzhanguan.info()\n",
        "#dfnonzhanguan.isnull().sum()\n",
        "#dfnonzhanguan.duplicated().sum() #Nonzhanguan\n",
        "#dfwanshouxigong.info()"
      ],
      "metadata": {
        "id": "ax-3tEjc9Cj1",
        "colab": {
          "base_uri": "https://localhost:8080/",
          "height": 35
        },
        "outputId": "2e0e0820-37b9-47ec-a1ad-e290587f94ea"
      },
      "execution_count": null,
      "outputs": [
        {
          "output_type": "execute_result",
          "data": {
            "text/plain": [
              "'\\npemeriksaan data dari data kurang lengkap untuk enam kota terakhir :\\n(kota Nonzhanguan sampai Wanshouxigong)\\n'"
            ],
            "application/vnd.google.colaboratory.intrinsic+json": {
              "type": "string"
            }
          },
          "metadata": {},
          "execution_count": 81
        }
      ]
    },
    {
      "cell_type": "markdown",
      "metadata": {
        "id": "EhN5R4hr8DC1"
      },
      "source": [
        "### Cleaning Data\n",
        "#### Pengantar : Data ini bisa dimanfaatkan untuk pengaturan sehingga proses yang sesuai untuk pembersihan data adalah interpolasi kolom indikator yang berangka demi menjaga aspek kolom yang hilang. Di sisilain, pengisian data dengan modus berlaku untuk kolom non integer\n",
        "Tahapan pembersihan data\n",
        "(hal ini berlaku untuk 12 kota)\n",
        "1.   Pengubahan format waktu dan menghapus format salah\n",
        "2. Proses interpolasi untuk kolom hilang di indikator\n",
        "3. Pengisian nilai non numerik yang hilang\n",
        "\n",
        "\n"
      ]
    },
    {
      "cell_type": "code",
      "source": [
        "#pembersihan bagian pertama (pengubahan format data waktu) untuk dua belas kota\n",
        "dfaotizhongxin['datetime'] = dfaotizhongxin[['year', 'month', 'day', 'hour']].apply(lambda x: datetime(*x), axis=1)\n",
        "dfchangping['datetime'] = dfchangping[['year', 'month', 'day', 'hour']].apply(lambda x: datetime(*x), axis=1)\n",
        "dfdingling['datetime'] = dfdingling[['year', 'month', 'day', 'hour']].apply(lambda x: datetime(*x), axis=1)\n",
        "dfdongsi['datetime'] = dfdongsi[['year', 'month', 'day', 'hour']].apply(lambda x: datetime(*x), axis=1)\n",
        "dfguanyuan['datetime'] = dfguanyuan[['year', 'month', 'day', 'hour']].apply(lambda x: datetime(*x), axis=1)\n",
        "dfgucheng['datetime'] = dfgucheng[['year', 'month', 'day', 'hour']].apply(lambda x: datetime(*x), axis=1)\n",
        "dfhuairou['datetime'] = dfhuairou[['year', 'month', 'day', 'hour']].apply(lambda x: datetime(*x), axis=1)\n",
        "dfnonzhanguan['datetime'] = dfnonzhanguan[['year', 'month', 'day', 'hour']].apply(lambda x: datetime(*x), axis=1)\n",
        "dfshunyi['datetime'] = dfshunyi[['year', 'month', 'day', 'hour']].apply(lambda x: datetime(*x), axis=1)\n",
        "dftiantan['datetime'] = dftiantan[['year', 'month', 'day', 'hour']].apply(lambda x: datetime(*x), axis=1)\n",
        "dfwanliu['datetime'] = dfwanliu[['year', 'month', 'day', 'hour']].apply(lambda x: datetime(*x), axis=1)\n",
        "dfwanshouxigong['datetime'] = dfwanshouxigong[['year', 'month', 'day', 'hour']].apply(lambda x: datetime(*x), axis=1)\n",
        "\n",
        "#penghapusan kolom 'tahun' dan tiga indeks lain untuk 12 kota (dari Aotizhongxin sampai Wanshouxigong)\n",
        "\n",
        "dfaotizhongxin.drop(['year', 'month', 'day', 'hour'], axis=1, inplace=True)\n",
        "dfchangping.drop(['year', 'month', 'day', 'hour'], axis=1, inplace=True)\n",
        "dfdingling.drop(['year', 'month', 'day', 'hour'], axis=1, inplace=True)\n",
        "dfdongsi.drop(['year', 'month', 'day', 'hour'], axis=1, inplace=True)\n",
        "dfguanyuan.drop(['year', 'month', 'day', 'hour'], axis=1, inplace=True)\n",
        "dfgucheng.drop(['year', 'month', 'day', 'hour'], axis=1, inplace=True)\n",
        "dfhuairou.drop(['year', 'month', 'day', 'hour'], axis=1, inplace=True)\n",
        "dfnonzhanguan.drop(['year', 'month', 'day', 'hour'], axis=1, inplace=True)\n",
        "dfshunyi.drop(['year', 'month', 'day', 'hour'], axis=1, inplace=True)\n",
        "dftiantan.drop(['year', 'month', 'day', 'hour'], axis=1, inplace=True)\n",
        "dfwanliu.drop(['year', 'month', 'day', 'hour'], axis=1, inplace=True)\n",
        "dfwanshouxigong.drop(['year', 'month', 'day', 'hour'], axis=1, inplace=True)\n",
        "\n",
        "#pemeriksaan kolom untuk memeriksa jika kota sudah memiliki indikator waktu\n",
        "#dfaotizhongxin.head(10) #Kota Aotizhongxin\n",
        "#dfchangping.head(10)# Kota Changping\n",
        "#dfdingling.head(10)# Kota Dingling\n",
        "#dfdongsi.head(10)# Kota Dongsi\n",
        "#dfguanyuan.head(10)# Kota Guanyuan\n",
        "#dfgucheng.head(10)# Kota Gucheng\n",
        "#dfhuairou.head(10)# Kota Huairou\n",
        "#dfnonzhanguan.head(10) #kota Nanzhanguan\n",
        "#dfshunyi.head(10) #kota sunyi\n",
        "#dftiantan.head(10) #Kota Tiantan\n",
        "#dfwanliu.head(10) #Kota Wanliu\n",
        "#dfwanshouxigong.head(10) #Kota Wanshouxigong\n",
        "#hasil ini untuk memeriksa penghapusan kolom waktu"
      ],
      "metadata": {
        "id": "jVnYpprE9Evz"
      },
      "execution_count": 5,
      "outputs": []
    },
    {
      "cell_type": "code",
      "source": [
        "\"\"\"\n",
        "#bagian dua (proses interpolasi kolom)\n",
        "Tahap pertama pemeriksaan data yang hilang untuk masing-masing kota dari Aotizhongxing sampai Wanshouxigong\n",
        "\"\"\"\n",
        "# pemeriksan total kolom kosong untuk interpolasi\n",
        "#dfaotizhongxin.isnull().sum() #untuk memeriksa kolom sebelum interpolasi (Aotizhongxing)\n",
        "#dfchangping.isnull().sum() #untuk memeriksa kolom sebelum interpolasi (Changping)\n",
        "#dfdingling.isnull().sum() #untuk memeriksa kolom sebelum interpolasi (Dingling)\n",
        "#dfdongsi.isnull().sum() #untuk memeriksa kolom sebelum interpolasi (Dongsi)\n",
        "#dfguanyuan.isnull().sum() #untuk memeriksa kolom sebelum interpolasi (Guanyuan)\n",
        "#dfgucheng.isnull().sum() #untuk memeriksa kolom sebelum interpolasi (Gucheng)\n",
        "#dfhuairou.isnull().sum() #untuk memeriksa kolom sebelum interpolasi (Huairou)\n",
        "#dfnonzhanguan.isnull().sum() #untuk memeriksa kolom sebelum interpolasi (Nonzhanguan)\n",
        "#dfshunyi.isnull().sum() #untuk memeriksa kolom sebelum interpolasi (Shunyi)\n",
        "#dftiantan.isnull().sum() #untuk memeriksa kolom sebelum interpolasi (Tiantan)\n",
        "#dfwanliu.isnull().sum() #untuk memeriksa kolom sebelum interpolasi (Wanliu)\n",
        "#dfwanshouxigong.isnull().sum() #untuk memeriksa kolom sebelum interpolasi (Wanshouxigong)"
      ],
      "metadata": {
        "id": "z_vV5MYiFp_Y",
        "colab": {
          "base_uri": "https://localhost:8080/",
          "height": 35
        },
        "outputId": "2fb4a5e9-37b3-42f3-a58b-dbe4840c21ff"
      },
      "execution_count": 6,
      "outputs": [
        {
          "output_type": "execute_result",
          "data": {
            "text/plain": [
              "'\\n#bagian dua (proses interpolasi kolom)\\nTahap pertama pemeriksaan data yang hilang untuk masing-masing kota dari Aotizhongxing sampai Wanshouxigong\\n'"
            ],
            "application/vnd.google.colaboratory.intrinsic+json": {
              "type": "string"
            }
          },
          "metadata": {},
          "execution_count": 6
        }
      ]
    },
    {
      "cell_type": "markdown",
      "source": [
        "##Resume Kolom Hilang Data untuk Interpolasi:\n",
        "\n",
        "*   Sebagian besar kolom hilang bisa 'diinterpolasi'\n",
        "*   Kota\n",
        "\n"
      ],
      "metadata": {
        "id": "wHjQJ2MmqssU"
      }
    },
    {
      "cell_type": "code",
      "source": [
        "# persiapan interpolasi (Aotizhongxin sampai terakhir) di kolom PM2.5 dan PM10 sebelum pembersihan data\n",
        "dfaotizhongxin['PM2.5'] = dfaotizhongxin['PM2.5'].interpolate(method='linear')\n",
        "dfaotizhongxin['PM10'] = dfaotizhongxin['PM10'].interpolate(method='linear')\n",
        "#Area Aotizhongxin\n",
        "dfchangping['PM2.5'] = dfchangping['PM2.5'].interpolate(method='linear')\n",
        "dfchangping['PM10'] = dfchangping['PM10'].interpolate(method='linear')\n",
        "#Area Changping\n",
        "dfdingling['PM2.5'] = dfdingling['PM2.5'].interpolate(method='linear')\n",
        "dfdingling['PM10'] = dfdingling['PM10'].interpolate(method='linear')\n",
        "#Area Dingling\n",
        "dfdongsi['PM2.5'] = dfdongsi['PM2.5'].interpolate(method='linear')\n",
        "dfdongsi['PM10'] = dfdongsi['PM10'].interpolate(method='linear')\n",
        "#Area Dongsi\n",
        "dfguanyuan['PM2.5'] = dfguanyuan['PM2.5'].interpolate(method='linear')\n",
        "dfguanyuan['PM10'] = dfguanyuan['PM10'].interpolate(method='linear')\n",
        "#Area Guanyuan\n",
        "dfgucheng['PM2.5'] = dfgucheng['PM2.5'].interpolate(method='linear')\n",
        "dfgucheng['PM10'] = dfgucheng['PM10'].interpolate(method='linear')\n",
        "#Area Gucheng\n",
        "dfhuairou['PM2.5'] = dfhuairou['PM2.5'].interpolate(method='linear')\n",
        "dfhuairou['PM10'] = dfhuairou['PM10'].interpolate(method='linear')\n",
        "#Area Huairou\n",
        "dfnonzhanguan['PM2.5'] = dfnonzhanguan['PM2.5'].interpolate(method='linear')\n",
        "dfnonzhanguan['PM10'] = dfnonzhanguan['PM10'].interpolate(method='linear')\n",
        "#Area Nonzhanguan"
      ],
      "metadata": {
        "id": "xjltdMQA4A2T"
      },
      "execution_count": 7,
      "outputs": []
    },
    {
      "cell_type": "code",
      "source": [
        "#pemeriksaan nilai interpolasi\n",
        "dfaotizhongxin[['PM2.5','PM10']] #untuk memeriksa kolom setelah interpolasi (Aotizhongxing)\n",
        "dfchangping[['PM2.5','PM10']] #untuk memeriksa kolom setelah interpolasi (Changping)\n",
        "dfdingling[['PM2.5','PM10']] #untuk memeriksa kolom setelah interpolasi (Dingling)\n",
        "dfdongsi[['PM2.5','PM10']] #untuk memeriksa kolom setelah interpolasi (Dongsi)\n",
        "#pemeriksaan hasil interpolasi\n",
        "dfaotizhongxin.isnull().sum() #untuk memeriksa kolom setelah interpolasi (Aotizhongxing)"
      ],
      "metadata": {
        "id": "E-E8nUjxWPdQ",
        "colab": {
          "base_uri": "https://localhost:8080/",
          "height": 648
        },
        "outputId": "de155059-52cd-41aa-c63d-cfa994625fd3"
      },
      "execution_count": 8,
      "outputs": [
        {
          "output_type": "execute_result",
          "data": {
            "text/plain": [
              "No            0\n",
              "year          0\n",
              "month         0\n",
              "day           0\n",
              "hour          0\n",
              "PM2.5         0\n",
              "PM10          0\n",
              "SO2         935\n",
              "NO2        1023\n",
              "CO         1776\n",
              "O3         1719\n",
              "TEMP         20\n",
              "PRES         20\n",
              "DEWP         20\n",
              "RAIN         20\n",
              "wd           81\n",
              "WSPM         14\n",
              "station       0\n",
              "dtype: int64"
            ],
            "text/html": [
              "<div>\n",
              "<style scoped>\n",
              "    .dataframe tbody tr th:only-of-type {\n",
              "        vertical-align: middle;\n",
              "    }\n",
              "\n",
              "    .dataframe tbody tr th {\n",
              "        vertical-align: top;\n",
              "    }\n",
              "\n",
              "    .dataframe thead th {\n",
              "        text-align: right;\n",
              "    }\n",
              "</style>\n",
              "<table border=\"1\" class=\"dataframe\">\n",
              "  <thead>\n",
              "    <tr style=\"text-align: right;\">\n",
              "      <th></th>\n",
              "      <th>0</th>\n",
              "    </tr>\n",
              "  </thead>\n",
              "  <tbody>\n",
              "    <tr>\n",
              "      <th>No</th>\n",
              "      <td>0</td>\n",
              "    </tr>\n",
              "    <tr>\n",
              "      <th>year</th>\n",
              "      <td>0</td>\n",
              "    </tr>\n",
              "    <tr>\n",
              "      <th>month</th>\n",
              "      <td>0</td>\n",
              "    </tr>\n",
              "    <tr>\n",
              "      <th>day</th>\n",
              "      <td>0</td>\n",
              "    </tr>\n",
              "    <tr>\n",
              "      <th>hour</th>\n",
              "      <td>0</td>\n",
              "    </tr>\n",
              "    <tr>\n",
              "      <th>PM2.5</th>\n",
              "      <td>0</td>\n",
              "    </tr>\n",
              "    <tr>\n",
              "      <th>PM10</th>\n",
              "      <td>0</td>\n",
              "    </tr>\n",
              "    <tr>\n",
              "      <th>SO2</th>\n",
              "      <td>935</td>\n",
              "    </tr>\n",
              "    <tr>\n",
              "      <th>NO2</th>\n",
              "      <td>1023</td>\n",
              "    </tr>\n",
              "    <tr>\n",
              "      <th>CO</th>\n",
              "      <td>1776</td>\n",
              "    </tr>\n",
              "    <tr>\n",
              "      <th>O3</th>\n",
              "      <td>1719</td>\n",
              "    </tr>\n",
              "    <tr>\n",
              "      <th>TEMP</th>\n",
              "      <td>20</td>\n",
              "    </tr>\n",
              "    <tr>\n",
              "      <th>PRES</th>\n",
              "      <td>20</td>\n",
              "    </tr>\n",
              "    <tr>\n",
              "      <th>DEWP</th>\n",
              "      <td>20</td>\n",
              "    </tr>\n",
              "    <tr>\n",
              "      <th>RAIN</th>\n",
              "      <td>20</td>\n",
              "    </tr>\n",
              "    <tr>\n",
              "      <th>wd</th>\n",
              "      <td>81</td>\n",
              "    </tr>\n",
              "    <tr>\n",
              "      <th>WSPM</th>\n",
              "      <td>14</td>\n",
              "    </tr>\n",
              "    <tr>\n",
              "      <th>station</th>\n",
              "      <td>0</td>\n",
              "    </tr>\n",
              "  </tbody>\n",
              "</table>\n",
              "</div><br><label><b>dtype:</b> int64</label>"
            ]
          },
          "metadata": {},
          "execution_count": 8
        }
      ]
    },
    {
      "cell_type": "markdown",
      "metadata": {
        "id": "gp-Y6wU38DC1"
      },
      "source": [
        "## Exploratory Data Analysis (EDA)"
      ]
    },
    {
      "cell_type": "markdown",
      "source": [
        "**Insight:**\n",
        "- xxx\n",
        "- xxx"
      ],
      "metadata": {
        "id": "MMi6xGaDkbCi"
      }
    },
    {
      "cell_type": "markdown",
      "source": [
        "**Insight:**\n",
        "- xxx\n",
        "- xxx"
      ],
      "metadata": {
        "id": "7dtxhAPrkhPL"
      }
    },
    {
      "cell_type": "markdown",
      "source": [
        "**Insight:**\n",
        "- xxx\n",
        "- xxx"
      ],
      "metadata": {
        "id": "Q_5ejIqckiSP"
      }
    },
    {
      "cell_type": "markdown",
      "metadata": {
        "id": "MW7WF2kr8DC1"
      },
      "source": [
        "### Explore The insight"
      ]
    },
    {
      "cell_type": "code",
      "execution_count": null,
      "metadata": {
        "id": "e9CQCZjk8DC2"
      },
      "outputs": [],
      "source": []
    },
    {
      "cell_type": "markdown",
      "source": [
        "**Insight:**\n",
        "- xxx\n",
        "- xxx"
      ],
      "metadata": {
        "id": "th_Lzl2Fkj9O"
      }
    },
    {
      "cell_type": "markdown",
      "metadata": {
        "id": "zsyZjqak8DC2"
      },
      "source": [
        "## Visualization & Explanatory Analysis"
      ]
    },
    {
      "cell_type": "markdown",
      "metadata": {
        "id": "HZxOiQ6n8DC2"
      },
      "source": [
        "### Pertanyaan 1:"
      ]
    },
    {
      "cell_type": "code",
      "execution_count": null,
      "metadata": {
        "id": "1swJUdAD8DC2"
      },
      "outputs": [],
      "source": []
    },
    {
      "cell_type": "markdown",
      "metadata": {
        "id": "DgHI7CiU8DC2"
      },
      "source": [
        "### Pertanyaan 2:"
      ]
    },
    {
      "cell_type": "code",
      "execution_count": null,
      "metadata": {
        "id": "Go0lCsvO8DC2"
      },
      "outputs": [],
      "source": []
    },
    {
      "cell_type": "markdown",
      "source": [
        "**Insight:**\n",
        "- xxx\n",
        "- xxx"
      ],
      "metadata": {
        "id": "_0-36BDLklRg"
      }
    },
    {
      "cell_type": "markdown",
      "source": [
        "## Analisis Lanjutan (Opsional)"
      ],
      "metadata": {
        "id": "9y4VUsmcYNZ5"
      }
    },
    {
      "cell_type": "code",
      "source": [],
      "metadata": {
        "id": "iWhnzsJGYUCO"
      },
      "execution_count": null,
      "outputs": []
    },
    {
      "cell_type": "markdown",
      "metadata": {
        "id": "_WeHlCeX8DC2"
      },
      "source": [
        "## Conclusion"
      ]
    },
    {
      "cell_type": "markdown",
      "metadata": {
        "id": "ZTcyR48Y8DC2"
      },
      "source": [
        "- Conclution pertanyaan 1\n",
        "- Conclution pertanyaan 2"
      ]
    }
  ],
  "metadata": {
    "kernelspec": {
      "display_name": "Python 3",
      "language": "python",
      "name": "python3"
    },
    "language_info": {
      "name": "python",
      "version": "3.8.0 (tags/v3.8.0:fa919fd, Oct 14 2019, 19:21:23) [MSC v.1916 32 bit (Intel)]"
    },
    "orig_nbformat": 4,
    "vscode": {
      "interpreter": {
        "hash": "972b3bf27e332e87b5379f2791f6ef9dfc79c71018c370b0d7423235e20fe4d7"
      }
    },
    "colab": {
      "provenance": [],
      "include_colab_link": true
    }
  },
  "nbformat": 4,
  "nbformat_minor": 0
}