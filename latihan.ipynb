{
  "nbformat": 4,
  "nbformat_minor": 0,
  "metadata": {
    "colab": {
      "provenance": [],
      "mount_file_id": "129AbC7ff_HFo_RKD2pA3UHjoeNUc4WGv",
      "authorship_tag": "ABX9TyPkJVQ1ZZ04b6OY6QNEk1b9",
      "include_colab_link": true
    },
    "kernelspec": {
      "name": "python3",
      "display_name": "Python 3"
    },
    "language_info": {
      "name": "python"
    }
  },
  "cells": [
    {
      "cell_type": "markdown",
      "metadata": {
        "id": "view-in-github",
        "colab_type": "text"
      },
      "source": [
        "<a href=\"https://colab.research.google.com/github/DGkurnia/discuss1/blob/main/latihan.ipynb\" target=\"_parent\"><img src=\"https://colab.research.google.com/assets/colab-badge.svg\" alt=\"Open In Colab\"/></a>"
      ]
    },
    {
      "cell_type": "code",
      "execution_count": null,
      "metadata": {
        "colab": {
          "base_uri": "https://localhost:8080/"
        },
        "id": "5ZMjTbPKxRrZ",
        "outputId": "fa76d4fc-6f65-4087-d766-c7b45e635f2a"
      },
      "outputs": [
        {
          "output_type": "execute_result",
          "data": {
            "text/plain": [
              "30"
            ]
          },
          "metadata": {},
          "execution_count": 1
        }
      ],
      "source": [
        "#initial steps for datasets\n",
        "import sklearn\n",
        "from sklearn import datasets\n",
        "from sklearn.model_selection import train_test_split\n",
        "\n",
        "# load iris dataset\n",
        "iris = datasets.load_iris()\n",
        "# pisahkan atribut dan label pada iris dataset\n",
        "x=iris.data\n",
        "y=iris.target\n",
        "#pemisahan data\n",
        "x_train, x_test, y_train, y_test = train_test_split(x, y, test_size=0.2, random_state=1)\n",
        "# menghitung panjang/jumlah data pada x_test\n",
        "len(x_test)\n"
      ]
    },
    {
      "cell_type": "code",
      "source": [
        "#New inspection\n",
        "from sklearn import tree\n",
        "from sklearn.model_selection import cross_val_score\n",
        "#plan\n",
        "clf = tree.DecisionTreeClassifier()\n",
        "scores = cross_val_score(clf, x, y, cv=5)\n",
        "scores"
      ],
      "metadata": {
        "colab": {
          "base_uri": "https://localhost:8080/"
        },
        "id": "uftp9rpRzY80",
        "outputId": "fb860864-cac6-4c94-906e-1fee4c4bbe04"
      },
      "execution_count": null,
      "outputs": [
        {
          "output_type": "execute_result",
          "data": {
            "text/plain": [
              "array([0.96666667, 0.96666667, 0.9       , 1.        , 1.        ])"
            ]
          },
          "metadata": {},
          "execution_count": 2
        }
      ]
    },
    {
      "cell_type": "markdown",
      "source": [
        "##second part : SKlearn for SVM"
      ],
      "metadata": {
        "id": "y6mOwn9c6o8A"
      }
    },
    {
      "cell_type": "code",
      "source": [
        "#libary import\n",
        "from google.colab import drive\n",
        "drive.mount('/content/drive')\n",
        "import pandas as pd\n",
        "from sklearn.preprocessing import StandardScaler\n",
        "from sklearn.model_selection import train_test_split\n",
        "from sklearn.svm import SVC\n",
        "#importing files\n",
        "df = pd.read_csv('/content/drive/MyDrive/csv-files/diabetes.csv')\n",
        "#df.head(10)"
      ],
      "metadata": {
        "id": "13Kf_fFq61Pr"
      },
      "execution_count": null,
      "outputs": []
    },
    {
      "cell_type": "markdown",
      "source": [
        "first step preparing train and split data"
      ],
      "metadata": {
        "id": "--HiY-c5L4MY"
      }
    },
    {
      "cell_type": "code",
      "source": [
        "#spliting x and y\n",
        "X = df[df.columns[:8]]\n",
        "y = df['Outcome']\n",
        "\n",
        "#preparing training sata and\n",
        "scaler = StandardScaler()\n",
        "scaler.fit(X)\n",
        "X = scaler.transform(X)\n",
        "\n",
        "#continuation\n",
        "X_train, X_test, y_train, y_test = train_test_split(\n",
        "    X, y, test_size=0.33, random_state=42)"
      ],
      "metadata": {
        "id": "gIe24AwGMZ8T"
      },
      "execution_count": null,
      "outputs": []
    }
  ]
}